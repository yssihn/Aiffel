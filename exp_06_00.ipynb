{
 "cells": [
  {
   "cell_type": "markdown",
   "id": "83827753",
   "metadata": {},
   "source": [
    "# Exp.06. 영화리뷰 텍스트 감상 분석하기<br>\n",
    "\n",
    "1. 다양한 방법으로 Text Classification 태스크를 성공적으로 구현하였다. 3가지 이상의 모델이 성공적으로 시도됨<br>\n",
    "   <b>시도 하였음.</b><br><br>\n",
    "2. gensim을 활용하여 자체학습된 혹은 사전학습된 임베딩 레이어를 분석하였다. \n",
    "   gensim의 유사단어 찾기를 활용하여 자체학습한 임베딩과 사전학습 임베딩을 적절히 분석함<br>\n",
    "   <b>gensim을 활용하여 임베딩레이어분석\u001d",
    "</b><br><br>\n",
    "3. 한국어 Word2Vec을 활용하여 가시적인 성능향상을 달성했다. 네이버 영화리뷰 데이터 감성분석 정확도를 85% 이상 달성함<br>\n",
    "   <b>달성함 : accuracy: 0.8526</b><br>\n",
    "   <b>프로젝트 내용인 [3. 프로젝트 : 네이버 영화리뷰 감성분석 도전하기]는 파일의 제일 마지막에 있습니다.<br>프로젝트 앞부분에 프로젝트 회고가있습니다</b><br>\n",
    "   <br> \n"
   ]
  },
  {
   "cell_type": "markdown",
   "id": "5880e117",
   "metadata": {},
   "source": [
    "## 1. 시작 LMS 학습내용입니다."
   ]
  },
  {
   "cell_type": "code",
   "execution_count": 84,
   "id": "6ad7c98a",
   "metadata": {},
   "outputs": [
    {
     "name": "stdout",
     "output_type": "stream",
     "text": [
      "['happy', 'lunch', 'eat', 'feel', 'hungry', 'now', 'i']\n",
      "{0: '<PAD>', 1: '<BOS>', 2: '<UNK>', 3: 'i', 4: 'now', 5: 'hungry', 6: 'feel', 7: 'eat', 8: 'lunch', 9: 'happy'}\n",
      "{'<PAD>': 0, '<BOS>': 1, '<UNK>': 2, 'i': 3, 'now': 4, 'hungry': 5, 'feel': 6, 'eat': 7, 'lunch': 8, 'happy': 9}\n",
      "6\n"
     ]
    }
   ],
   "source": [
    "#  단어의 의미를 나타내는 벡터를 짝지어 보자!!!\n",
    "\n",
    "\n",
    "# 처리해야 할 문장을 파이썬 리스트에 옮겨 담았습니다.\n",
    "sentences=['i feel hungry', 'i eat lunch', 'now i feel happy']\n",
    "\n",
    "# 파이썬 for문과 split()메소드를 이용해 단어 단위로 문장을 쪼개 봅니다.\n",
    "word_list = []\n",
    "for ii in sentences:\n",
    "    for j in ii.split():\n",
    "        word_list.append(j)\n",
    "\n",
    "# 중복 재거        \n",
    "word_list = list(set(word_list))\n",
    "print(word_list)\n",
    "\n",
    "\n",
    "# 단어들을 하나씩 채워 봅니다. 채우는 순서는 일단 임의로 하였습니다. 그러나 사실 순서는 중요하지 않습니다. \n",
    "# <BOS>, <PAD>, <UNK>는 관례적으로 딕셔너리 맨 앞에 넣어줍니다. \n",
    "# <PAD> : 패딩용 단어\n",
    "# <BOS> : 문장의 시작지점\n",
    "# <UNK> : 사전에 없는(Unknown) 단어\n",
    "\n",
    "index_to_word={0:'<PAD>', 1:'<BOS>', 2:'<UNK>'}  # 빈 딕셔너리를 만들어서\n",
    "\n",
    "for i in range(3, 3+len(word_list)):\n",
    "    index_to_word[i] = word_list.pop()\n",
    "\n",
    "print(index_to_word)\n",
    "\n",
    "# dictionary 안의 index:value를 value:index로 변경 하는 방법\n",
    "# 위에서는 미리 dictionary를 만뜰때 부터 value:index순으로 만들었습니다. \n",
    "word_to_index={word:index for index, word in index_to_word.items()}\n",
    "print(word_to_index)\n",
    "\n",
    "print(word_to_index['feel'])  # 단어 'feel'은 숫자 인덱스 4로 바뀝니다."
   ]
  },
  {
   "cell_type": "code",
   "execution_count": 85,
   "id": "0687f6d5",
   "metadata": {},
   "outputs": [
    {
     "name": "stdout",
     "output_type": "stream",
     "text": [
      "[1, 3, 7, 8]\n"
     ]
    }
   ],
   "source": [
    "# 문장 1개를 활용할 딕셔너리와 함께 주면, 단어 인덱스 리스트로 변환해 주는 함수를 만들어 봅시다.\n",
    "# 단, 모든 문장은 <BOS>로 시작하는 것으로 합니다. \n",
    "def get_encoded_sentence(sentence, word_to_index):\n",
    "    return [word_to_index['<BOS>']]+[word_to_index[word] if word in word_to_index else word_to_index['<UNK>'] for word in sentence.split()]\n",
    "\n",
    "\n",
    "# def get_encoded_sentence(sentence, word_to_index):\n",
    "#     llist = sentence.split()\n",
    "#     return llist\n",
    "    \n",
    "\n",
    "print(get_encoded_sentence('i eat lunch', word_to_index))\n"
   ]
  },
  {
   "cell_type": "code",
   "execution_count": 86,
   "id": "795b002d",
   "metadata": {},
   "outputs": [
    {
     "name": "stdout",
     "output_type": "stream",
     "text": [
      "[[1, 3, 6, 5], [1, 3, 7, 8], [1, 4, 3, 6, 9]]\n"
     ]
    }
   ],
   "source": [
    "# 여러 개의 문장 리스트를 한꺼번에 숫자 텐서로 encode해 주는 함수입니다. \n",
    "def get_encoded_sentences(sentences, word_to_index):\n",
    "    return [get_encoded_sentence(sentence, word_to_index) for sentence in sentences]\n",
    "\n",
    "# sentences=['i feel hungry', 'i eat lunch', 'now i feel happy'] 가 아래와 같이 변환됩니다. \n",
    "encoded_sentences = get_encoded_sentences(sentences, word_to_index)\n",
    "print(encoded_sentences)"
   ]
  },
  {
   "cell_type": "code",
   "execution_count": 87,
   "id": "be335876",
   "metadata": {},
   "outputs": [
    {
     "name": "stdout",
     "output_type": "stream",
     "text": [
      "i now hungry\n"
     ]
    }
   ],
   "source": [
    "# 숫자 벡터로 encode된 문장을 원래대로 decode하는 함수입니다. \n",
    "def get_decoded_sentence(encoded_sentence, index_to_word):\n",
    "    return ' '.join(index_to_word[index] if index in index_to_word else '<UNK>' for index in encoded_sentence[1:])  #[1:]를 통해 <BOS>를 제외\n",
    "\n",
    "print(get_decoded_sentence([1, 3, 4, 5], index_to_word))"
   ]
  },
  {
   "cell_type": "code",
   "execution_count": 88,
   "id": "11b7c9c8",
   "metadata": {},
   "outputs": [
    {
     "name": "stdout",
     "output_type": "stream",
     "text": [
      "['i feel hungry', 'i eat lunch', 'now i feel happy']\n"
     ]
    }
   ],
   "source": [
    "# 여러 개의 숫자 벡터로 encode된 문장을 한꺼번에 원래대로 decode하는 함수입니다. \n",
    "def get_decoded_sentences(encoded_sentences, index_to_word):\n",
    "    return [get_decoded_sentence(encoded_sentence, index_to_word) for encoded_sentence in encoded_sentences]\n",
    "\n",
    "# encoded_sentences=[[1, 3, 4, 5], [1, 3, 6, 7], [1, 8, 3, 4, 9]] 가 아래와 같이 변환됩니다.\n",
    "print(get_decoded_sentences(encoded_sentences, index_to_word))"
   ]
  },
  {
   "cell_type": "markdown",
   "id": "f9eeea36",
   "metadata": {},
   "source": [
    "\n",
    "## 1.1. Embedding 레이어의 등장 및 사용\n"
   ]
  },
  {
   "cell_type": "code",
   "execution_count": 89,
   "id": "9d33491f",
   "metadata": {},
   "outputs": [
    {
     "name": "stdout",
     "output_type": "stream",
     "text": [
      "[[1 3 6 5 0]\n",
      " [1 3 7 8 0]\n",
      " [1 4 3 6 9]]\n",
      "tf.Tensor(\n",
      "[[[ 0.00752689  0.03957883 -0.04318301  0.02913559]\n",
      "  [-0.01931833  0.02061502 -0.03200634 -0.04406733]\n",
      "  [-0.03807358  0.02765019 -0.00351473  0.03275564]\n",
      "  [ 0.04369492 -0.00398966  0.00618585  0.02217956]\n",
      "  [-0.04510443  0.02666372  0.04828746  0.04290268]]\n",
      "\n",
      " [[ 0.00752689  0.03957883 -0.04318301  0.02913559]\n",
      "  [-0.01931833  0.02061502 -0.03200634 -0.04406733]\n",
      "  [-0.01496235  0.03947923 -0.04767454  0.04482258]\n",
      "  [-0.01800687  0.04751373  0.0301993  -0.0457366 ]\n",
      "  [-0.04510443  0.02666372  0.04828746  0.04290268]]\n",
      "\n",
      " [[ 0.00752689  0.03957883 -0.04318301  0.02913559]\n",
      "  [ 0.00369275  0.00562381 -0.02814255 -0.0358061 ]\n",
      "  [-0.01931833  0.02061502 -0.03200634 -0.04406733]\n",
      "  [-0.03807358  0.02765019 -0.00351473  0.03275564]\n",
      "  [ 0.03810643 -0.03349192 -0.04213253 -0.04190534]]], shape=(3, 5, 4), dtype=float32)\n"
     ]
    }
   ],
   "source": [
    "import numpy as np\n",
    "import tensorflow as tf\n",
    "import os\n",
    "\n",
    "vocab_size = len(word_to_index)  # 위 예시에서 딕셔너리에 포함된 단어 개수는 10\n",
    "word_vector_dim = 4    # 위 그림과 같이 4차원의 워드 벡터를 가정합니다. \n",
    "\n",
    "embedding = tf.keras.layers.Embedding(input_dim=vocab_size, output_dim=word_vector_dim, mask_zero=True)\n",
    "\n",
    "# 숫자로 변환된 텍스트 데이터 [[1, 3, 4, 5], [1, 3, 6, 7], [1, 8, 3, 4, 9]] 에 Embedding 레이어를 적용합니다. \n",
    "raw_inputs = np.array(get_encoded_sentences(sentences, word_to_index), dtype='object')\n",
    "# Embedding 레이어의 인풋이 되는 문장 벡터는 그 길이가 일정해야 합니다\n",
    "# '<PAD>'를 넣어서 길이를 일정하게 해주는 함수 pad_sequences() \n",
    "raw_inputs = tf.keras.preprocessing.sequence.pad_sequences(raw_inputs,\n",
    "                                                       value=word_to_index['<PAD>'],\n",
    "                                                       padding='post',\n",
    "                                                       maxlen=5)\n",
    "print(raw_inputs)\n",
    "\n",
    "output = embedding(raw_inputs)\n",
    "print(output)\n",
    "\n",
    "# output의 shape인 (3, 5, 4)의 의미는\n",
    "# => 3 : 3개의 문장이 입력으로 들어왔음.\n",
    "#    5 : 한 문장의 길이는 5로 통일 되어있다. (maxlen=5)\n",
    "#    4 : word vector의 차원이 4차원이다. (위에서 정의해주었다. word_vector_dim=4)"
   ]
  },
  {
   "cell_type": "markdown",
   "id": "79e355ba",
   "metadata": {},
   "source": [
    "\n",
    "## 1.2. RNN 구성 (널리 쓰이는 RNN인 LSTM 레이어를 사용)\n",
    "LSTM state 벡터의 차원수는 8로 하였습니다. (변경 가능)"
   ]
  },
  {
   "cell_type": "code",
   "execution_count": 90,
   "id": "bfd73ff7",
   "metadata": {},
   "outputs": [
    {
     "name": "stdout",
     "output_type": "stream",
     "text": [
      "Model: \"sequential_9\"\n",
      "_________________________________________________________________\n",
      "Layer (type)                 Output Shape              Param #   \n",
      "=================================================================\n",
      "embedding_9 (Embedding)      (None, None, 4)           40        \n",
      "_________________________________________________________________\n",
      "lstm_5 (LSTM)                (None, 8)                 416       \n",
      "_________________________________________________________________\n",
      "dense_12 (Dense)             (None, 8)                 72        \n",
      "_________________________________________________________________\n",
      "dense_13 (Dense)             (None, 1)                 9         \n",
      "=================================================================\n",
      "Total params: 537\n",
      "Trainable params: 537\n",
      "Non-trainable params: 0\n",
      "_________________________________________________________________\n"
     ]
    }
   ],
   "source": [
    "vocab_size = 10  # 어휘 사전의 크기입니다(10개의 단어)\n",
    "word_vector_dim = 4  # 단어 하나를 표현하는 임베딩 벡터의 차원수입니다. \n",
    "\n",
    "model = tf.keras.Sequential()\n",
    "model.add(tf.keras.layers.Embedding(vocab_size, word_vector_dim, input_shape=(None,)))\n",
    "model.add(tf.keras.layers.LSTM(8))                        # 가장 널리 쓰이는 RNN인 LSTM 레이어를 사용하였습니다. \n",
    "model.add(tf.keras.layers.Dense(8, activation='relu'))    # 이때 LSTM state 벡터의 차원수는 8로 하였습니다. (변경 가능)\n",
    "model.add(tf.keras.layers.Dense(1, activation='sigmoid'))  # 최종 출력은 긍정/부정을 나타내는 1dim 입니다.\n",
    "\n",
    "model.summary()"
   ]
  },
  {
   "cell_type": "markdown",
   "id": "e6c242e9",
   "metadata": {},
   "source": [
    "\n",
    "## 1.3. CNN 구성 (1차원) CNN으로도 시퀀스 데이터를 처리할 수 있다\n",
    "Conv1D(), GlobalMaxPooling1D() 2개를 사용하였음<br>\n",
    "CNN 계열은 RNN 계열보다 병렬처리가 효율적이기 때문에 학습 속도도 훨씬 빠르게 진행된다는 장점"
   ]
  },
  {
   "cell_type": "code",
   "execution_count": 91,
   "id": "3f4350c5",
   "metadata": {},
   "outputs": [
    {
     "name": "stdout",
     "output_type": "stream",
     "text": [
      "Model: \"sequential_10\"\n",
      "_________________________________________________________________\n",
      "Layer (type)                 Output Shape              Param #   \n",
      "=================================================================\n",
      "embedding_10 (Embedding)     (None, None, 4)           40        \n",
      "_________________________________________________________________\n",
      "conv1d_4 (Conv1D)            (None, None, 16)          464       \n",
      "_________________________________________________________________\n",
      "max_pooling1d_2 (MaxPooling1 (None, None, 16)          0         \n",
      "_________________________________________________________________\n",
      "conv1d_5 (Conv1D)            (None, None, 16)          1808      \n",
      "_________________________________________________________________\n",
      "global_max_pooling1d_3 (Glob (None, 16)                0         \n",
      "_________________________________________________________________\n",
      "dense_14 (Dense)             (None, 8)                 136       \n",
      "_________________________________________________________________\n",
      "dense_15 (Dense)             (None, 1)                 9         \n",
      "=================================================================\n",
      "Total params: 2,457\n",
      "Trainable params: 2,457\n",
      "Non-trainable params: 0\n",
      "_________________________________________________________________\n"
     ]
    }
   ],
   "source": [
    "vocab_size = 10       # 어휘 사전의 크기입니다(10개의 단어)\n",
    "word_vector_dim = 4   # 단어 하나를 표현하는 임베딩 벡터의 차원 수입니다. \n",
    "\n",
    "model = tf.keras.Sequential()\n",
    "model.add(tf.keras.layers.Embedding(vocab_size, word_vector_dim, input_shape=(None,)))\n",
    "model.add(tf.keras.layers.Conv1D(16, 7, activation='relu'))\n",
    "model.add(tf.keras.layers.MaxPooling1D(5))\n",
    "model.add(tf.keras.layers.Conv1D(16, 7, activation='relu'))\n",
    "model.add(tf.keras.layers.GlobalMaxPooling1D())\n",
    "model.add(tf.keras.layers.Dense(8, activation='relu'))\n",
    "model.add(tf.keras.layers.Dense(1, activation='sigmoid'))  # 최종 출력은 긍정/부정을 나타내는 1dim 입니다.\n",
    "\n",
    "model.summary()"
   ]
  },
  {
   "cell_type": "markdown",
   "id": "ca6d784e",
   "metadata": {},
   "source": [
    "\n",
    "## 1.4. CNN 구성 (1차원 짜리) CNN으로도 시퀀스 데이터를 처리할 수 있다\n",
    "GlobalMaxPooling1D() 하나만 사용할 수도 있다.(성능 so so)<br>\n",
    "CNN 계열은 RNN 계열보다 병렬처리가 효율적이기 때문에 학습 속도도 훨씬 빠르게 진행된다는 장점"
   ]
  },
  {
   "cell_type": "code",
   "execution_count": 92,
   "id": "fb030530",
   "metadata": {},
   "outputs": [
    {
     "name": "stdout",
     "output_type": "stream",
     "text": [
      "Model: \"sequential_11\"\n",
      "_________________________________________________________________\n",
      "Layer (type)                 Output Shape              Param #   \n",
      "=================================================================\n",
      "embedding_11 (Embedding)     (None, None, 4)           40        \n",
      "_________________________________________________________________\n",
      "global_max_pooling1d_4 (Glob (None, 4)                 0         \n",
      "_________________________________________________________________\n",
      "dense_16 (Dense)             (None, 8)                 40        \n",
      "_________________________________________________________________\n",
      "dense_17 (Dense)             (None, 1)                 9         \n",
      "=================================================================\n",
      "Total params: 89\n",
      "Trainable params: 89\n",
      "Non-trainable params: 0\n",
      "_________________________________________________________________\n"
     ]
    }
   ],
   "source": [
    "vocab_size = 10  # 어휘 사전의 크기입니다(10개의 단어)\n",
    "word_vector_dim = 4   # 단어 하나를 표현하는 임베딩 벡터의 차원 수입니다. \n",
    "\n",
    "model = tf.keras.Sequential()\n",
    "model.add(tf.keras.layers.Embedding(vocab_size, word_vector_dim, input_shape=(None,)))\n",
    "model.add(tf.keras.layers.GlobalMaxPooling1D())\n",
    "model.add(tf.keras.layers.Dense(8, activation='relu'))\n",
    "model.add(tf.keras.layers.Dense(1, activation='sigmoid'))  # 최종 출력은 긍정/부정을 나타내는 1dim 입니다.\n",
    "\n",
    "model.summary()"
   ]
  },
  {
   "cell_type": "markdown",
   "id": "793c3335",
   "metadata": {},
   "source": [
    "\n",
    "##  2.1. IMDB 영화리뷰 감성분석 (1) IMDB 데이터셋 분석 ( 긍정은 1, 부정은 0 )\n"
   ]
  },
  {
   "cell_type": "code",
   "execution_count": 93,
   "id": "c690589f",
   "metadata": {},
   "outputs": [
    {
     "name": "stdout",
     "output_type": "stream",
     "text": [
      "훈련 샘플 개수: 25000, 테스트 개수: 25000\n"
     ]
    }
   ],
   "source": [
    "# IMDb 데이터셋 다운로드 \n",
    "# imdb.load_data() 호출 시 단어사전에 등재할 단어의 개수(num_words)를 10000으로 지정하면, \n",
    "# 그 개수만큼의 word_to_index 딕셔너리까지 생성된 형태로 데이터셋이 생성됨\n",
    "\n",
    "imdb = tf.keras.datasets.imdb\n",
    "\n",
    "(x_train, y_train), (x_test, y_test) = imdb.load_data(num_words=10000)\n",
    "print(\"훈련 샘플 개수: {}, 테스트 개수: {}\".format(len(x_train), len(x_test)))"
   ]
  },
  {
   "cell_type": "code",
   "execution_count": 94,
   "id": "61ff2904",
   "metadata": {},
   "outputs": [
    {
     "name": "stdout",
     "output_type": "stream",
     "text": [
      "[1, 14, 22, 16, 43, 530, 973, 1622, 1385, 65, 458, 4468, 66, 3941, 4, 173, 36, 256, 5, 25, 100, 43, 838, 112, 50, 670, 2, 9, 35, 480, 284, 5, 150, 4, 172, 112, 167, 2, 336, 385, 39, 4, 172, 4536, 1111, 17, 546, 38, 13, 447, 4, 192, 50, 16, 6, 147, 2025, 19, 14, 22, 4, 1920, 4613, 469, 4, 22, 71, 87, 12, 16, 43, 530, 38, 76, 15, 13, 1247, 4, 22, 17, 515, 17, 12, 16, 626, 18, 2, 5, 62, 386, 12, 8, 316, 8, 106, 5, 4, 2223, 5244, 16, 480, 66, 3785, 33, 4, 130, 12, 16, 38, 619, 5, 25, 124, 51, 36, 135, 48, 25, 1415, 33, 6, 22, 12, 215, 28, 77, 52, 5, 14, 407, 16, 82, 2, 8, 4, 107, 117, 5952, 15, 256, 4, 2, 7, 3766, 5, 723, 36, 71, 43, 530, 476, 26, 400, 317, 46, 7, 4, 2, 1029, 13, 104, 88, 4, 381, 15, 297, 98, 32, 2071, 56, 26, 141, 6, 194, 7486, 18, 4, 226, 22, 21, 134, 476, 26, 480, 5, 144, 30, 5535, 18, 51, 36, 28, 224, 92, 25, 104, 4, 226, 65, 16, 38, 1334, 88, 12, 16, 283, 5, 16, 4472, 113, 103, 32, 15, 16, 5345, 19, 178, 32]\n",
      "라벨:  1\n",
      "1번째 리뷰 문장 길이:  218\n",
      "2번째 리뷰 문장 길이:  189\n"
     ]
    }
   ],
   "source": [
    "# 데이터 확인 작업\n",
    "\n",
    "print(x_train[0])  # 1번째 리뷰데이터\n",
    "print('라벨: ', y_train[0])  # 1번째 리뷰데이터의 라벨 (긍정은 1, 부정은 0)\n",
    "print('1번째 리뷰 문장 길이: ', len(x_train[0]))\n",
    "print('2번째 리뷰 문장 길이: ', len(x_train[1]))"
   ]
  },
  {
   "cell_type": "code",
   "execution_count": 95,
   "id": "e21a4e91",
   "metadata": {},
   "outputs": [
    {
     "name": "stdout",
     "output_type": "stream",
     "text": [
      "the\n",
      "1\n"
     ]
    }
   ],
   "source": [
    "# IMDb 데이터셋에서 제공한 딕셔너리 화인 \n",
    "\n",
    "word_to_index = imdb.get_word_index() # 딕셔너리 가져오기\n",
    "index_to_word = {index:word for word, index in word_to_index.items()} # 사용법 확인 하자??????\n",
    "print(index_to_word[1])     # 'the' 가 출력됩니다. \n",
    "print(word_to_index['the'])  # 1 이 출력됩니다."
   ]
  },
  {
   "cell_type": "code",
   "execution_count": 96,
   "id": "d1baea34",
   "metadata": {},
   "outputs": [
    {
     "name": "stdout",
     "output_type": "stream",
     "text": [
      "<BOS>\n",
      "4\n",
      "the\n"
     ]
    }
   ],
   "source": [
    "# IMDb 데이터셋의 텍스트 인코딩을 위한 word_to_index, index_to_word는 아래와 같이 보정되어야 합니다.\n",
    "# 실제 인코딩 인덱스는 제공된 word_to_index에서 index 기준으로 3씩 뒤로 밀려 있습니다.  \n",
    "#   시작은 1로 시작되고, 3칸을 뒤로 밀고 0,1,2,3 이렇게 4가지에 대한 값을 넣어준다.\n",
    "#   <UNUSED>는 왜 넣었는지 모르겠다.??????? \n",
    "\n",
    "word_to_index = {k:(v+3) for k,v in word_to_index.items()} # 모든 인데긋를 사용법 확인 하자 ??????\n",
    "\n",
    "# 처음 몇 개 인덱스는 사전에 정의되어 있습니다\n",
    "word_to_index[\"<PAD>\"] = 0\n",
    "word_to_index[\"<BOS>\"] = 1\n",
    "word_to_index[\"<UNK>\"] = 2  # unknown\n",
    "word_to_index[\"<UNUSED>\"] = 3\n",
    "\n",
    "index_to_word = {index:word for word, index in word_to_index.items()}\n",
    "\n",
    "print(index_to_word[1])     # '<BOS>' 가 출력됩니다. \n",
    "print(word_to_index['the']) # '4'\u001d",
    " 출력됩니다. \n",
    "print(index_to_word[4])     # 'the' 가 출력됩니다."
   ]
  },
  {
   "cell_type": "code",
   "execution_count": 97,
   "id": "4cdd2188",
   "metadata": {},
   "outputs": [
    {
     "name": "stdout",
     "output_type": "stream",
     "text": [
      "this film was just brilliant casting location scenery story direction everyone's really suited the part they played and you could just imagine being there robert <UNK> is an amazing actor and now the same being director <UNK> father came from the same scottish island as myself so i loved the fact there was a real connection with this film the witty remarks throughout the film were great it was just brilliant so much that i bought the film as soon as it was released for <UNK> and would recommend it to everyone to watch and the fly fishing was amazing really cried at the end it was so sad and you know what they say if you cry at a film it must have been good and this definitely was also <UNK> to the two little boy's that played the <UNK> of norman and paul they were just brilliant children are often left out of the <UNK> list i think because the stars that play them all grown up are such a big profile for the whole film but these children are amazing and should be praised for what they have done don't you think the whole story was so lovely because it was true and was someone's life after all that was shared with us all\n",
      "라벨:  1\n"
     ]
    }
   ],
   "source": [
    "# encode된 텍스트가 정상적으로 decode 되는지 확인\n",
    "\n",
    "print(get_decoded_sentence(x_train[0], index_to_word))\n",
    "print('라벨: ', y_train[0])  # 1번째 리뷰데이터의 라벨\n"
   ]
  },
  {
   "cell_type": "code",
   "execution_count": 98,
   "id": "fdec0f4e",
   "metadata": {
    "scrolled": false
   },
   "outputs": [
    {
     "name": "stdout",
     "output_type": "stream",
     "text": [
      "문장길이 평균 :  234.75892\n",
      "문장길이 최대 :  2494\n",
      "문장길이 표준편차 :  172.91149458735703\n",
      "pad_sequences maxlen :  580\n",
      "전체 문장의 0.94536%가 maxlen 설정값 이내에 포함됩니다. \n"
     ]
    }
   ],
   "source": [
    "# 문장 최대 길이 maxlen의 값 설정도 전체 모델 성능에 영향을 미침\n",
    "# 이 길이도 적절한 값을 찾기 위해서는 전체 데이터셋의 분포를 확인해 보아야 한다. \n",
    "\n",
    "# 텍스트데이터 문장길이의 리스트를 생성한 후\n",
    "total_data_text = list(x_train) + list(x_test)\n",
    "\n",
    "# 문장 각각의 길이를 값으로 가지고 있는 길이(len())5,000의 리스트\n",
    "num_tokens = [len(tokens) for tokens in total_data_text] \n",
    "num_tokens = np.array(num_tokens) # 리스트를 1차원 어레이로 변경 한다. 왜,???? 통계 개산하려고....\n",
    "\n",
    "# 문장길이의 평균값, 최대값, 표준편차를 계산해 본다. \n",
    "print('문장길이 평균 : ', np.mean(num_tokens))\n",
    "print('문장길이 최대 : ', np.max(num_tokens))\n",
    "print('문장길이 표준편차 : ', np.std(num_tokens))\n",
    "\n",
    "# 예를들어, 최대 길이를 (평균 + 2*표준편차)로 한다면,  \n",
    "max_tokens = np.mean(num_tokens) + 2 * np.std(num_tokens)\n",
    "maxlen = int(max_tokens)\n",
    "print('pad_sequences maxlen : ', maxlen)\n",
    "print('전체 문장의 {}%가 maxlen 설정값 이내에 포함됩니다. '.format(np.sum(num_tokens < max_tokens) / len(num_tokens)))"
   ]
  },
  {
   "cell_type": "code",
   "execution_count": 99,
   "id": "7d1e3e88",
   "metadata": {},
   "outputs": [
    {
     "name": "stdout",
     "output_type": "stream",
     "text": [
      "(25000, 580)\n",
      "(25000, 580)\n"
     ]
    }
   ],
   "source": [
    "# padding 방식을 문장 뒤쪽('post')과 앞쪽('pre') 중 어느 쪽으로 하느냐에 따라 \n",
    "# RNN을 이용한 딥러닝 적용 시 성능 차이가 발생한다\n",
    "#    => 두 가지 방식을 한 번씩 다 적용해서 RNN을 학습시켜, 그 결과를 비교 !!!!!!!!\n",
    "\n",
    "x_train = tf.keras.preprocessing.sequence.pad_sequences(x_train,\n",
    "                                                        value=word_to_index[\"<PAD>\"],\n",
    "                                                        padding='pre', # 혹은 'post'\n",
    "                                                        maxlen=maxlen)\n",
    "\n",
    "x_test = tf.keras.preprocessing.sequence.pad_sequences(x_test,\n",
    "                                                       value=word_to_index[\"<PAD>\"],\n",
    "                                                       padding='pre', # 혹은 'post'\n",
    "                                                       maxlen=maxlen)\n",
    "\n",
    "print(x_train.shape)\n",
    "print(x_test.shape)"
   ]
  },
  {
   "cell_type": "markdown",
   "id": "d8000b47",
   "metadata": {},
   "source": [
    "\n",
    "##  2.2. IMDB 영화리뷰 감성분석 (2) 딥러닝 모델 설계와 훈련\n"
   ]
  },
  {
   "cell_type": "code",
   "execution_count": 100,
   "id": "f5978f0b",
   "metadata": {
    "scrolled": false
   },
   "outputs": [
    {
     "name": "stdout",
     "output_type": "stream",
     "text": [
      "Model: \"sequential_12\"\n",
      "_________________________________________________________________\n",
      "Layer (type)                 Output Shape              Param #   \n",
      "=================================================================\n",
      "embedding_12 (Embedding)     (None, None, 16)          160000    \n",
      "_________________________________________________________________\n",
      "lstm_6 (LSTM)                (None, 8)                 800       \n",
      "_________________________________________________________________\n",
      "dense_18 (Dense)             (None, 16)                144       \n",
      "_________________________________________________________________\n",
      "dense_19 (Dense)             (None, 1)                 17        \n",
      "=================================================================\n",
      "Total params: 160,961\n",
      "Trainable params: 160,961\n",
      "Non-trainable params: 0\n",
      "_________________________________________________________________\n"
     ]
    }
   ],
   "source": [
    "# RNN모델 설계 하자!!!!!!!\n",
    "\n",
    "import tensorflow as tf\n",
    "\n",
    "vocab_size = 10000    # 어휘 사전의 크기입니다(10,000개의 단어)\n",
    "word_vector_dim = 16  # 워드 벡터의 차원 수 (변경 가능한 하이퍼파라미터)\n",
    "\n",
    "# model 설계 - 딥러닝 모델 코드를 직접 작성해 주세요.\n",
    "model = tf.keras.Sequential()\n",
    "# [[YOUR CODE]]\n",
    "model.add(tf.keras.layers.Embedding(vocab_size, word_vector_dim, input_shape=(None,)))\n",
    "model.add(tf.keras.layers.LSTM(8))                        # 가장 널리 쓰이는 RNN인 LSTM 레이어를 사용하였습니다. \n",
    "model.add(tf.keras.layers.Dense(16, activation='relu'))    # 이때 LSTM state 벡터의 차원수는 8로 하였습니다. (변경 가능)\n",
    "model.add(tf.keras.layers.Dense(1, activation='sigmoid'))  # 최종 출력은 긍정/부정을 나타내는 1dim 입니다.\n",
    "\n",
    "model.summary()\n"
   ]
  },
  {
   "cell_type": "code",
   "execution_count": 101,
   "id": "aa0c4217",
   "metadata": {},
   "outputs": [
    {
     "name": "stdout",
     "output_type": "stream",
     "text": [
      "(15000, 580)\n",
      "(15000,)\n"
     ]
    }
   ],
   "source": [
    "# 훈련용 데이터셋 25000건 중 10000건을 분리하여 검증셋(validation set)으로 사용\n",
    "# 적절한 validation 데이터는 몇 개가 좋을지 고민해 봅시다.\n",
    "    \n",
    "# validation set 10000건 분리\n",
    "x_val = x_train[:10000]   \n",
    "y_val = y_train[:10000]\n",
    "\n",
    "# validation set을 제외한 나머지 15000건에서 10000건 분리\n",
    "partial_x_train = x_train[10000:]  \n",
    "partial_y_train = y_train[10000:]\n",
    "\n",
    "print(partial_x_train.shape)\n",
    "print(partial_y_train.shape)"
   ]
  },
  {
   "cell_type": "code",
   "execution_count": 102,
   "id": "de9d73bd",
   "metadata": {},
   "outputs": [],
   "source": [
    "# train, validation, test 데이터의 개수를 변경 한다. (대략 70 : 15 : 15 정도로 분배한다)\n",
    "\n",
    "# x_val = x_train[:4500]   \n",
    "# y_val = y_train[:4500]\n",
    "\n",
    "# partial_x_train = x_train[4500:]  \n",
    "# partial_y_train = y_train[4500:]\n",
    "\n",
    "# x_test = x_test[:4500]\n",
    "# y_test = y_test[:4500]\n",
    "\n",
    "# print(\"훈련 샘플 개수: {}, 검증(validation) 개수: {}, 테스트 개수: {}\".format(len(partial_x_train), len(x_val), len(x_test1)))\n"
   ]
  },
  {
   "cell_type": "code",
   "execution_count": 103,
   "id": "801115d0",
   "metadata": {},
   "outputs": [
    {
     "name": "stdout",
     "output_type": "stream",
     "text": [
      "Epoch 1/18\n",
      "30/30 [==============================] - 3s 45ms/step - loss: 0.6912 - accuracy: 0.5587 - val_loss: 0.6862 - val_accuracy: 0.6344\n",
      "Epoch 2/18\n",
      "30/30 [==============================] - 1s 31ms/step - loss: 0.6709 - accuracy: 0.7084 - val_loss: 0.6522 - val_accuracy: 0.7085\n",
      "Epoch 3/18\n",
      "30/30 [==============================] - 1s 30ms/step - loss: 0.5686 - accuracy: 0.7866 - val_loss: 0.4497 - val_accuracy: 0.8099\n",
      "Epoch 4/18\n",
      "30/30 [==============================] - 1s 29ms/step - loss: 0.3906 - accuracy: 0.8447 - val_loss: 0.3914 - val_accuracy: 0.8363\n",
      "Epoch 5/18\n",
      "30/30 [==============================] - 1s 30ms/step - loss: 0.2943 - accuracy: 0.8907 - val_loss: 0.3507 - val_accuracy: 0.8530\n",
      "Epoch 6/18\n",
      "30/30 [==============================] - 1s 30ms/step - loss: 0.2291 - accuracy: 0.9220 - val_loss: 0.3375 - val_accuracy: 0.8626\n",
      "Epoch 7/18\n",
      "30/30 [==============================] - 1s 30ms/step - loss: 0.1838 - accuracy: 0.9422 - val_loss: 0.3432 - val_accuracy: 0.8632\n",
      "Epoch 8/18\n",
      "30/30 [==============================] - 1s 30ms/step - loss: 0.1576 - accuracy: 0.9525 - val_loss: 0.3611 - val_accuracy: 0.8644\n",
      "Epoch 9/18\n",
      "30/30 [==============================] - 1s 29ms/step - loss: 0.1342 - accuracy: 0.9607 - val_loss: 0.3888 - val_accuracy: 0.8567\n",
      "Epoch 10/18\n",
      "30/30 [==============================] - 1s 29ms/step - loss: 0.1184 - accuracy: 0.9677 - val_loss: 0.4066 - val_accuracy: 0.8591\n",
      "Epoch 11/18\n",
      "30/30 [==============================] - 1s 29ms/step - loss: 0.1024 - accuracy: 0.9735 - val_loss: 0.4078 - val_accuracy: 0.8609\n",
      "Epoch 12/18\n",
      "30/30 [==============================] - 1s 30ms/step - loss: 0.0873 - accuracy: 0.9788 - val_loss: 0.4286 - val_accuracy: 0.8530\n",
      "Epoch 13/18\n",
      "30/30 [==============================] - 1s 30ms/step - loss: 0.0779 - accuracy: 0.9816 - val_loss: 0.4382 - val_accuracy: 0.8579\n",
      "Epoch 14/18\n",
      "30/30 [==============================] - 1s 30ms/step - loss: 0.0667 - accuracy: 0.9858 - val_loss: 0.4674 - val_accuracy: 0.8564\n",
      "Epoch 15/18\n",
      "30/30 [==============================] - 1s 30ms/step - loss: 0.0575 - accuracy: 0.9880 - val_loss: 0.4900 - val_accuracy: 0.8476\n",
      "Epoch 16/18\n",
      "30/30 [==============================] - 1s 29ms/step - loss: 0.0522 - accuracy: 0.9893 - val_loss: 0.5053 - val_accuracy: 0.8481\n",
      "Epoch 17/18\n",
      "30/30 [==============================] - 1s 29ms/step - loss: 0.0473 - accuracy: 0.9907 - val_loss: 0.5257 - val_accuracy: 0.8491\n",
      "Epoch 18/18\n",
      "30/30 [==============================] - 1s 30ms/step - loss: 0.0407 - accuracy: 0.9927 - val_loss: 0.5467 - val_accuracy: 0.8482\n"
     ]
    }
   ],
   "source": [
    "# model 학습을 시작!!!!!!!!!!!!!!!!!!!!!!!!!!!!!!!!!!!!!!!!!!!\n",
    "\n",
    "model.compile(optimizer='adam',\n",
    "              loss='binary_crossentropy',\n",
    "              metrics=['accuracy'])\n",
    "              \n",
    "epochs=18  # 몇 epoch를 훈련하면 좋을지 결과를 보면서 바꾸어 봅시다. \n",
    "\n",
    "history = model.fit(partial_x_train,\n",
    "                    partial_y_train,\n",
    "                    epochs=epochs,\n",
    "                    batch_size=512,\n",
    "                    validation_data=(x_val, y_val),\n",
    "                    verbose=1)"
   ]
  },
  {
   "cell_type": "code",
   "execution_count": 104,
   "id": "b73ba303",
   "metadata": {},
   "outputs": [
    {
     "name": "stdout",
     "output_type": "stream",
     "text": [
      "782/782 - 5s - loss: 0.5873 - accuracy: 0.8383\n",
      "[0.5873440504074097, 0.8383200168609619]\n"
     ]
    }
   ],
   "source": [
    "# 학습이 끝난 모델을 테스트셋으로 평가하자 !!!!!!!!!\n",
    "\n",
    "results = model.evaluate(x_test,  y_test, verbose=2)\n",
    "\n",
    "print(results)\n"
   ]
  },
  {
   "cell_type": "markdown",
   "id": "39251b16",
   "metadata": {},
   "source": [
    "\n",
    "## 2.3. IMDB 영화리뷰 감성분석 (3) 평가\n"
   ]
  },
  {
   "cell_type": "code",
   "execution_count": 125,
   "id": "d81ac689",
   "metadata": {},
   "outputs": [
    {
     "name": "stdout",
     "output_type": "stream",
     "text": [
      "dict_keys(['loss', 'accuracy', 'val_loss', 'val_accuracy'])\n"
     ]
    }
   ],
   "source": [
    "# model.fit() 과정 중의 train/validation loss, accuracy 등이 매 epoch마다 history 변수에 저장되어 있\u001d",
    "\n",
    "# 이 데이터를 이용하여 그래프로 그려 보면서 전략을 짤수 있다. \n",
    "\n",
    "history_dict = history.history\n",
    "print(history_dict.keys()) # epoch에 따른 그래프를 그려볼 수 있는 항목들"
   ]
  },
  {
   "cell_type": "code",
   "execution_count": 128,
   "id": "0911d9d7",
   "metadata": {},
   "outputs": [
    {
     "data": {
      "image/png": "[encoded data removed]",
      "text/plain": [
       "<Figure size 432x288 with 1 Axes>"
      ]
     },
     "metadata": {
      "needs_background": "light"
     },
     "output_type": "display_data"
    }
   ],
   "source": [
    "# 그래프 그리기\n",
    "\n",
    "import matplotlib.pyplot as plt\n",
    "\n",
    "acc = history_dict['accuracy']\n",
    "val_acc = history_dict['val_accuracy']\n",
    "loss = history_dict['loss']\n",
    "val_loss = history_dict['val_loss']\n",
    "\n",
    "epochs = range(1, len(acc) + 1)\n",
    "\n",
    "# \"bo\"는 \"파란색 점\"입니다\n",
    "plt.plot(epochs, loss, 'bo', label='Training loss')\n",
    "# b는 \"파란 실선\"입니다\n",
    "plt.plot(epochs, val_loss, 'b', label='Validation loss')\n",
    "plt.title('Training and validation loss')\n",
    "plt.xlabel('Epochs')\n",
    "plt.ylabel('Loss')\n",
    "plt.legend()\n",
    "\n",
    "plt.show()"
   ]
  },
  {
   "cell_type": "code",
   "execution_count": 129,
   "id": "4fdaaa98",
   "metadata": {},
   "outputs": [
    {
     "data": {
      "image/png": "[encoded data removed]",
      "text/plain": [
       "<Figure size 432x288 with 1 Axes>"
      ]
     },
     "metadata": {
      "needs_background": "light"
     },
     "output_type": "display_data"
    }
   ],
   "source": [
    "plt.clf()   # 그림을 초기화합니다\n",
    "\n",
    "plt.plot(epochs, acc, 'bo', label='Training acc')\n",
    "plt.plot(epochs, val_acc, 'b', label='Validation acc')\n",
    "plt.title('Training and validation accuracy')\n",
    "plt.xlabel('Epochs')\n",
    "plt.ylabel('Accuracy')\n",
    "plt.legend()\n",
    "\n",
    "plt.show()"
   ]
  },
  {
   "cell_type": "markdown",
   "id": "be655d42",
   "metadata": {},
   "source": [
    "\n",
    "## 2.4. IMDB 영화리뷰 감성분석 (4) Word2Vec의 적용\n"
   ]
  },
  {
   "cell_type": "code",
   "execution_count": 108,
   "id": "ddb19019",
   "metadata": {},
   "outputs": [
    {
     "name": "stdout",
     "output_type": "stream",
     "text": [
      "(10000, 16)\n"
     ]
    }
   ],
   "source": [
    "embedding_layer = model.layers[0]\n",
    "weights = embedding_layer.get_weights()[0]\n",
    "print(weights.shape)    # shape: (vocab_size, embedding_dim)"
   ]
  },
  {
   "cell_type": "code",
   "execution_count": 111,
   "id": "ed6a1351",
   "metadata": {},
   "outputs": [
    {
     "name": "stdout",
     "output_type": "stream",
     "text": [
      "슝~\n"
     ]
    }
   ],
   "source": [
    "# 학습한 Embedding 파라미터를 파일에 써서 저장합니다. \n",
    "\n",
    "word2vec_file_path = os.getenv('HOME')+'/aiffel/sentiment_classification/data/word2vec.txt'\n",
    "f = open(word2vec_file_path, 'w')\n",
    "f.write('{} {}\\n'.format(vocab_size-4, word_vector_dim))  # 몇개의 벡터를 얼마 사이즈로 기재할지 타이틀을 씁니다.\n",
    "\n",
    "# 단어 개수(에서 특수문자 4개는 제외하고)만큼의 워드 벡터를 파일에 기록합니다. \n",
    "vectors = model.get_weights()[0]\n",
    "for i in range(4,vocab_size):\n",
    "    f.write('{} {}\\n'.format(index_to_word[i], ' '.join(map(str, list(vectors[i, :])))))\n",
    "f.close()\n",
    "print(\"슝~\")"
   ]
  },
  {
   "cell_type": "code",
   "execution_count": 112,
   "id": "26ace373",
   "metadata": {},
   "outputs": [
    {
     "data": {
      "text/plain": [
       "array([ 0.03414717, -0.01559484, -0.03858157, -0.01537579, -0.03032036,\n",
       "       -0.02739871, -0.01912772,  0.05005116, -0.05061718,  0.01190517,\n",
       "        0.03673694, -0.01552033,  0.02669268, -0.01870334, -0.01836057,\n",
       "       -0.01077257], dtype=float32)"
      ]
     },
     "execution_count": 112,
     "metadata": {},
     "output_type": "execute_result"
    }
   ],
   "source": [
    "from gensim.models.keyedvectors import Word2VecKeyedVectors\n",
    "\n",
    "word_vectors = Word2VecKeyedVectors.load_word2vec_format(word2vec_file_path, binary=False)\n",
    "vector = word_vectors['computer']\n",
    "vector"
   ]
  },
  {
   "cell_type": "code",
   "execution_count": 113,
   "id": "f5d341c8",
   "metadata": {},
   "outputs": [
    {
     "data": {
      "text/plain": [
       "[('trapped', 0.9640101194381714),\n",
       " ('chapters', 0.9281708002090454),\n",
       " ('tears', 0.9275794625282288),\n",
       " ('response', 0.9238970875740051),\n",
       " ('injured', 0.9193315505981445),\n",
       " ('heck', 0.9184033870697021),\n",
       " (\"stewart's\", 0.9170779585838318),\n",
       " ('rare', 0.9168450236320496),\n",
       " ('romanian', 0.9139321446418762),\n",
       " ('mills', 0.9102996587753296)]"
      ]
     },
     "execution_count": 113,
     "metadata": {},
     "output_type": "execute_result"
    }
   ],
   "source": [
    "word_vectors.similar_by_word(\"love\")"
   ]
  },
  {
   "cell_type": "markdown",
   "id": "7d6381a1",
   "metadata": {},
   "source": [
    "\n",
    "## 2.5. IMDB 영화리뷰 감성분석 (5) Google의 Word2Vec 모델을 가져와 적용\n"
   ]
  },
  {
   "cell_type": "code",
   "execution_count": 114,
   "id": "ce7a4832",
   "metadata": {},
   "outputs": [
    {
     "data": {
      "text/plain": [
       "array([ 1.07421875e-01, -2.01171875e-01,  1.23046875e-01,  2.11914062e-01,\n",
       "       -9.13085938e-02,  2.16796875e-01, -1.31835938e-01,  8.30078125e-02,\n",
       "        2.02148438e-01,  4.78515625e-02,  3.66210938e-02, -2.45361328e-02,\n",
       "        2.39257812e-02, -1.60156250e-01, -2.61230469e-02,  9.71679688e-02,\n",
       "       -6.34765625e-02,  1.84570312e-01,  1.70898438e-01, -1.63085938e-01,\n",
       "       -1.09375000e-01,  1.49414062e-01, -4.65393066e-04,  9.61914062e-02,\n",
       "        1.68945312e-01,  2.60925293e-03,  8.93554688e-02,  6.49414062e-02,\n",
       "        3.56445312e-02, -6.93359375e-02, -1.46484375e-01, -1.21093750e-01,\n",
       "       -2.27539062e-01,  2.45361328e-02, -1.24511719e-01, -3.18359375e-01,\n",
       "       -2.20703125e-01,  1.30859375e-01,  3.66210938e-02, -3.63769531e-02,\n",
       "       -1.13281250e-01,  1.95312500e-01,  9.76562500e-02,  1.26953125e-01,\n",
       "        6.59179688e-02,  6.93359375e-02,  1.02539062e-02,  1.75781250e-01,\n",
       "       -1.68945312e-01,  1.21307373e-03, -2.98828125e-01, -1.15234375e-01,\n",
       "        5.66406250e-02, -1.77734375e-01, -2.08984375e-01,  1.76757812e-01,\n",
       "        2.38037109e-02, -2.57812500e-01, -4.46777344e-02,  1.88476562e-01,\n",
       "        5.51757812e-02,  5.02929688e-02, -1.06933594e-01,  1.89453125e-01,\n",
       "       -1.16210938e-01,  8.49609375e-02, -1.71875000e-01,  2.45117188e-01,\n",
       "       -1.73828125e-01, -8.30078125e-03,  4.56542969e-02, -1.61132812e-02,\n",
       "        1.86523438e-01, -6.05468750e-02, -4.17480469e-02,  1.82617188e-01,\n",
       "        2.20703125e-01, -1.22558594e-01, -2.55126953e-02, -3.08593750e-01,\n",
       "        9.13085938e-02,  1.60156250e-01,  1.70898438e-01,  1.19628906e-01,\n",
       "        7.08007812e-02, -2.64892578e-02, -3.08837891e-02,  4.06250000e-01,\n",
       "       -1.01562500e-01,  5.71289062e-02, -7.26318359e-03, -9.17968750e-02,\n",
       "       -1.50390625e-01, -2.55859375e-01,  2.16796875e-01, -3.63769531e-02,\n",
       "        2.24609375e-01,  8.00781250e-02,  1.56250000e-01,  5.27343750e-02,\n",
       "        1.50390625e-01, -1.14746094e-01, -8.64257812e-02,  1.19140625e-01,\n",
       "       -7.17773438e-02,  2.73437500e-01, -1.64062500e-01,  7.29370117e-03,\n",
       "        4.21875000e-01, -1.12792969e-01, -1.35742188e-01, -1.31835938e-01,\n",
       "       -1.37695312e-01, -7.66601562e-02,  6.25000000e-02,  4.98046875e-02,\n",
       "       -1.91406250e-01, -6.03027344e-02,  2.27539062e-01,  5.88378906e-02,\n",
       "       -3.24218750e-01,  5.41992188e-02, -1.35742188e-01,  8.17871094e-03,\n",
       "       -5.24902344e-02, -1.74713135e-03, -9.81445312e-02, -2.86865234e-02,\n",
       "        3.61328125e-02,  2.15820312e-01,  5.98144531e-02, -3.08593750e-01,\n",
       "       -2.27539062e-01,  2.61718750e-01,  9.86328125e-02, -5.07812500e-02,\n",
       "        1.78222656e-02,  1.31835938e-01, -5.35156250e-01, -1.81640625e-01,\n",
       "        1.38671875e-01, -3.10546875e-01, -9.71679688e-02,  1.31835938e-01,\n",
       "       -1.16210938e-01,  7.03125000e-02,  2.85156250e-01,  3.51562500e-02,\n",
       "       -1.01562500e-01, -3.75976562e-02,  1.41601562e-01,  1.42578125e-01,\n",
       "       -5.68847656e-02,  2.65625000e-01, -2.09960938e-01,  9.64355469e-03,\n",
       "       -6.68945312e-02, -4.83398438e-02, -6.10351562e-02,  2.45117188e-01,\n",
       "       -9.66796875e-02,  1.78222656e-02, -1.27929688e-01, -4.78515625e-02,\n",
       "       -7.26318359e-03,  1.79687500e-01,  2.78320312e-02, -2.10937500e-01,\n",
       "       -1.43554688e-01, -1.27929688e-01,  1.73339844e-02, -3.60107422e-03,\n",
       "       -2.04101562e-01,  3.63159180e-03, -1.19628906e-01, -6.15234375e-02,\n",
       "        5.93261719e-02, -3.23486328e-03, -1.70898438e-01, -3.14941406e-02,\n",
       "       -8.88671875e-02, -2.89062500e-01,  3.44238281e-02, -1.87500000e-01,\n",
       "        2.94921875e-01,  1.58203125e-01, -1.19628906e-01,  7.61718750e-02,\n",
       "        6.39648438e-02, -4.68750000e-02, -6.83593750e-02,  1.21459961e-02,\n",
       "       -1.44531250e-01,  4.54101562e-02,  3.68652344e-02,  3.88671875e-01,\n",
       "        1.45507812e-01, -2.55859375e-01, -4.46777344e-02, -1.33789062e-01,\n",
       "       -1.38671875e-01,  6.59179688e-02,  1.37695312e-01,  1.14746094e-01,\n",
       "        2.03125000e-01, -4.78515625e-02,  1.80664062e-02, -8.54492188e-02,\n",
       "       -2.48046875e-01, -3.39843750e-01, -2.83203125e-02,  1.05468750e-01,\n",
       "       -2.14843750e-01, -8.74023438e-02,  7.12890625e-02,  1.87500000e-01,\n",
       "       -1.12304688e-01,  2.73437500e-01, -3.26171875e-01, -1.77734375e-01,\n",
       "       -4.24804688e-02, -2.69531250e-01,  6.64062500e-02, -6.88476562e-02,\n",
       "       -1.99218750e-01, -7.03125000e-02, -2.43164062e-01, -3.66210938e-02,\n",
       "       -7.37304688e-02, -1.77734375e-01,  9.17968750e-02, -1.25000000e-01,\n",
       "       -1.65039062e-01, -3.57421875e-01, -2.85156250e-01, -1.66992188e-01,\n",
       "        1.97265625e-01, -1.53320312e-01,  2.31933594e-02,  2.06054688e-01,\n",
       "        1.80664062e-01, -2.74658203e-02, -1.92382812e-01, -9.61914062e-02,\n",
       "       -1.06811523e-02, -4.73632812e-02,  6.54296875e-02, -1.25732422e-02,\n",
       "        1.78222656e-02, -8.00781250e-02, -2.59765625e-01,  9.37500000e-02,\n",
       "       -7.81250000e-02,  4.68750000e-02, -2.22167969e-02,  1.86767578e-02,\n",
       "        3.11279297e-02,  1.04980469e-02, -1.69921875e-01,  2.58789062e-02,\n",
       "       -3.41796875e-02, -1.44042969e-02, -5.46875000e-02, -8.78906250e-02,\n",
       "        1.96838379e-03,  2.23632812e-01, -1.36718750e-01,  1.75781250e-01,\n",
       "       -1.63085938e-01,  1.87500000e-01,  3.44238281e-02, -5.63964844e-02,\n",
       "       -2.27689743e-05,  4.27246094e-02,  5.81054688e-02, -1.07910156e-01,\n",
       "       -3.88183594e-02, -2.69531250e-01,  3.34472656e-02,  9.81445312e-02,\n",
       "        5.63964844e-02,  2.23632812e-01, -5.49316406e-02,  1.46484375e-01,\n",
       "        5.93261719e-02, -2.19726562e-01,  6.39648438e-02,  1.66015625e-02,\n",
       "        4.56542969e-02,  3.26171875e-01, -3.80859375e-01,  1.70898438e-01,\n",
       "        5.66406250e-02, -1.04492188e-01,  1.38671875e-01, -1.57226562e-01,\n",
       "        3.23486328e-03, -4.80957031e-02, -2.48046875e-01, -6.20117188e-02],\n",
       "      dtype=float32)"
      ]
     },
     "execution_count": 114,
     "metadata": {},
     "output_type": "execute_result"
    }
   ],
   "source": [
    "from gensim.models import KeyedVectors\n",
    "\n",
    "word2vec_path = os.getenv('HOME')+'/aiffel/sentiment_classification/data/GoogleNews-vectors-negative300.bin.gz'\n",
    "word2vec = KeyedVectors.load_word2vec_format(word2vec_path, binary=True, limit=1000000)\n",
    "vector = word2vec['computer']\n",
    "vector     # 무려 300dim의 워드 벡터입니다."
   ]
  },
  {
   "cell_type": "code",
   "execution_count": 115,
   "id": "90f75b30",
   "metadata": {},
   "outputs": [
    {
     "data": {
      "text/plain": [
       "[('loved', 0.6907791495323181),\n",
       " ('adore', 0.6816873550415039),\n",
       " ('loves', 0.661863386631012),\n",
       " ('passion', 0.6100708842277527),\n",
       " ('hate', 0.600395679473877),\n",
       " ('loving', 0.5886635780334473),\n",
       " ('affection', 0.5664337873458862),\n",
       " ('undying_love', 0.5547304749488831),\n",
       " ('absolutely_adore', 0.5536840558052063),\n",
       " ('adores', 0.5440906882286072)]"
      ]
     },
     "execution_count": 115,
     "metadata": {},
     "output_type": "execute_result"
    }
   ],
   "source": [
    "# 메모리를 다소 많이 소비하는 작업이니 유의해 주세요.\n",
    "word2vec.similar_by_word(\"love\")"
   ]
  },
  {
   "cell_type": "code",
   "execution_count": 116,
   "id": "1c13a3f7",
   "metadata": {},
   "outputs": [],
   "source": [
    "vocab_size = 10000    # 어휘 사전의 크기입니다(10,000개의 단어)\n",
    "word_vector_dim = 300  # 워드 벡터의 차원수\n",
    "embedding_matrix = np.random.rand(vocab_size, word_vector_dim)\n",
    "\n",
    "# embedding_matrix에 Word2Vec 워드 벡터를 단어 하나씩마다 차례차례 카피한다.\n",
    "for i in range(4,vocab_size):\n",
    "    if index_to_word[i] in word2vec:\n",
    "        embedding_matrix[i] = word2vec[index_to_word[i]]"
   ]
  },
  {
   "cell_type": "code",
   "execution_count": 117,
   "id": "6d02c498",
   "metadata": {},
   "outputs": [
    {
     "name": "stdout",
     "output_type": "stream",
     "text": [
      "Model: \"sequential_13\"\n",
      "_________________________________________________________________\n",
      "Layer (type)                 Output Shape              Param #   \n",
      "=================================================================\n",
      "embedding_13 (Embedding)     (None, 580, 300)          3000000   \n",
      "_________________________________________________________________\n",
      "conv1d_6 (Conv1D)            (None, 574, 16)           33616     \n",
      "_________________________________________________________________\n",
      "max_pooling1d_3 (MaxPooling1 (None, 114, 16)           0         \n",
      "_________________________________________________________________\n",
      "conv1d_7 (Conv1D)            (None, 108, 16)           1808      \n",
      "_________________________________________________________________\n",
      "global_max_pooling1d_5 (Glob (None, 16)                0         \n",
      "_________________________________________________________________\n",
      "dense_20 (Dense)             (None, 8)                 136       \n",
      "_________________________________________________________________\n",
      "dense_21 (Dense)             (None, 1)                 9         \n",
      "=================================================================\n",
      "Total params: 3,035,569\n",
      "Trainable params: 3,035,569\n",
      "Non-trainable params: 0\n",
      "_________________________________________________________________\n"
     ]
    }
   ],
   "source": [
    "from tensorflow.keras.initializers import Constant\n",
    "\n",
    "vocab_size = 10000    # 어휘 사전의 크기입니다(10,000개의 단어)\n",
    "word_vector_dim = 300  # 워드 벡터의 차원 수 \n",
    "\n",
    "# 모델 구성\n",
    "model = tf.keras.Sequential()\n",
    "model.add(tf.keras.layers.Embedding(vocab_size, \n",
    "                                 word_vector_dim, \n",
    "                                 embeddings_initializer=Constant(embedding_matrix),  # 카피한 임베딩을 여기서 활용\n",
    "                                 input_length=maxlen, \n",
    "                                 trainable=True))   # trainable을 True로 주면 Fine-tuning\n",
    "model.add(tf.keras.layers.Conv1D(16, 7, activation='relu'))\n",
    "model.add(tf.keras.layers.MaxPooling1D(5))\n",
    "model.add(tf.keras.layers.Conv1D(16, 7, activation='relu'))\n",
    "model.add(tf.keras.layers.GlobalMaxPooling1D())\n",
    "model.add(tf.keras.layers.Dense(8, activation='relu'))\n",
    "model.add(tf.keras.layers.Dense(1, activation='sigmoid')) \n",
    "\n",
    "model.summary()"
   ]
  },
  {
   "cell_type": "code",
   "execution_count": 118,
   "id": "dfcd46f4",
   "metadata": {},
   "outputs": [
    {
     "name": "stdout",
     "output_type": "stream",
     "text": [
      "Epoch 1/20\n",
      "30/30 [==============================] - 5s 87ms/step - loss: 0.6883 - accuracy: 0.5446 - val_loss: 0.6797 - val_accuracy: 0.5772\n",
      "Epoch 2/20\n",
      "30/30 [==============================] - 2s 68ms/step - loss: 0.6480 - accuracy: 0.6380 - val_loss: 0.6261 - val_accuracy: 0.6690\n",
      "Epoch 3/20\n",
      "30/30 [==============================] - 2s 69ms/step - loss: 0.5466 - accuracy: 0.7504 - val_loss: 0.5127 - val_accuracy: 0.7494\n",
      "Epoch 4/20\n",
      "30/30 [==============================] - 2s 69ms/step - loss: 0.3948 - accuracy: 0.8442 - val_loss: 0.3931 - val_accuracy: 0.8288\n",
      "Epoch 5/20\n",
      "30/30 [==============================] - 2s 69ms/step - loss: 0.2868 - accuracy: 0.8883 - val_loss: 0.3584 - val_accuracy: 0.8458\n",
      "Epoch 6/20\n",
      "30/30 [==============================] - 2s 69ms/step - loss: 0.2128 - accuracy: 0.9245 - val_loss: 0.3198 - val_accuracy: 0.8649\n",
      "Epoch 7/20\n",
      "30/30 [==============================] - 2s 69ms/step - loss: 0.1590 - accuracy: 0.9502 - val_loss: 0.3394 - val_accuracy: 0.8598\n",
      "Epoch 8/20\n",
      "30/30 [==============================] - 2s 69ms/step - loss: 0.1210 - accuracy: 0.9669 - val_loss: 0.3235 - val_accuracy: 0.8676\n",
      "Epoch 9/20\n",
      "30/30 [==============================] - 2s 69ms/step - loss: 0.0888 - accuracy: 0.9803 - val_loss: 0.3409 - val_accuracy: 0.8636\n",
      "Epoch 10/20\n",
      "30/30 [==============================] - 2s 70ms/step - loss: 0.0650 - accuracy: 0.9897 - val_loss: 0.3491 - val_accuracy: 0.8661\n",
      "Epoch 11/20\n",
      "30/30 [==============================] - 2s 69ms/step - loss: 0.0481 - accuracy: 0.9947 - val_loss: 0.3676 - val_accuracy: 0.8638\n",
      "Epoch 12/20\n",
      "30/30 [==============================] - 2s 70ms/step - loss: 0.0355 - accuracy: 0.9973 - val_loss: 0.3781 - val_accuracy: 0.8657\n",
      "Epoch 13/20\n",
      "30/30 [==============================] - 2s 69ms/step - loss: 0.0262 - accuracy: 0.9980 - val_loss: 0.3992 - val_accuracy: 0.8647\n",
      "Epoch 14/20\n",
      "30/30 [==============================] - 2s 69ms/step - loss: 0.0206 - accuracy: 0.9985 - val_loss: 0.4126 - val_accuracy: 0.8652\n",
      "Epoch 15/20\n",
      "30/30 [==============================] - 2s 69ms/step - loss: 0.0160 - accuracy: 0.9988 - val_loss: 0.4228 - val_accuracy: 0.8646\n",
      "Epoch 16/20\n",
      "30/30 [==============================] - 2s 69ms/step - loss: 0.0128 - accuracy: 0.9991 - val_loss: 0.4345 - val_accuracy: 0.8631\n",
      "Epoch 17/20\n",
      "30/30 [==============================] - 2s 69ms/step - loss: 0.0104 - accuracy: 0.9992 - val_loss: 0.4461 - val_accuracy: 0.8640\n",
      "Epoch 18/20\n",
      "30/30 [==============================] - 2s 69ms/step - loss: 0.0089 - accuracy: 0.9993 - val_loss: 0.4633 - val_accuracy: 0.8644\n",
      "Epoch 19/20\n",
      "30/30 [==============================] - 2s 68ms/step - loss: 0.0076 - accuracy: 0.9995 - val_loss: 0.4751 - val_accuracy: 0.8644\n",
      "Epoch 20/20\n",
      "30/30 [==============================] - 2s 69ms/step - loss: 0.0056 - accuracy: 0.9997 - val_loss: 0.4825 - val_accuracy: 0.8640\n"
     ]
    }
   ],
   "source": [
    "# 학습의 진행\n",
    "model.compile(optimizer='adam',\n",
    "              loss='binary_crossentropy',\n",
    "              metrics=['accuracy'])\n",
    "              \n",
    "epochs=20  # 몇 epoch를 훈련하면 좋을지 결과를 보면서 바꾸어 봅시다. \n",
    "\n",
    "history = model.fit(partial_x_train,\n",
    "                    partial_y_train,\n",
    "                    epochs=epochs,\n",
    "                    batch_size=512,\n",
    "                    validation_data=(x_val, y_val),\n",
    "                    verbose=1)"
   ]
  },
  {
   "cell_type": "code",
   "execution_count": 119,
   "id": "eec3d78b",
   "metadata": {},
   "outputs": [
    {
     "name": "stdout",
     "output_type": "stream",
     "text": [
      "782/782 - 2s - loss: 0.5329 - accuracy: 0.8514\n",
      "[0.5328553915023804, 0.8514000177383423]\n"
     ]
    }
   ],
   "source": [
    "# 테스트셋을 통한 모델 평가\n",
    "results = model.evaluate(x_test,  y_test, verbose=2)\n",
    "\n",
    "print(results)"
   ]
  },
  {
   "cell_type": "markdown",
   "id": "ede21f19",
   "metadata": {},
   "source": [
    "\n",
    "# 3. 프로젝트 : 네이버 영화리뷰 감성분석 도전하기\n",
    "\n",
    "## 1.모델 교체\n",
    "* Bidirectional LSTM 의 사용으로 성능이 향상됨\n",
    "* 모델에 대한 이해가 되어야 해당 도메인에 적합한 모델을 선택할 수 있다고 판단됨. <br>\n",
    "* 모델 의 특성 및 적용사례에 대한 많은 지식이 필요함.\n",
    "\n",
    "## 2.train data, validation data, test data 의 크기를 조절함\n",
    "* 70% train, 15% val, 15% test <= 이것을 기본으로 한다.\n",
    "* 80% train, 10% val, 10% test\n",
    "* 60% train, 20% val, 20% test\n",
    "\n",
    "## 3.그래프 분석\n",
    "* 그랲 분석은 많이 모자란 것 같다. LMS에서 말해준 부문 이외에는 잘 모르는게 사실이다.\n"
   ]
  },
  {
   "cell_type": "code",
   "execution_count": null,
   "id": "ba7169bc",
   "metadata": {},
   "outputs": [],
   "source": [
    "import pandas as pd\n",
    "\n",
    "# 데이터를 읽어봅시다. \n",
    "train_data = pd.read_table('~/aiffel/sentiment_classification/data/ratings_train.txt')\n",
    "test_data = pd.read_table('~/aiffel/sentiment_classification/data/ratings_test.txt')\n",
    "\n",
    "train_data.head()\n",
    "\n",
    "print(len(train_data))\n",
    "print(len(test_data))\n"
   ]
  },
  {
   "cell_type": "code",
   "execution_count": 62,
   "id": "333bfde7",
   "metadata": {},
   "outputs": [
    {
     "name": "stdout",
     "output_type": "stream",
     "text": [
      "146182\n",
      "49157\n",
      "49157\n"
     ]
    }
   ],
   "source": [
    "from konlpy.tag import Mecab\n",
    "import numpy as np\n",
    "from collections import Counter\n",
    "\n",
    "tokenizer = Mecab()\n",
    "stopwords = ['의','가','이','은','들','는','좀','잘','걍','과','도','를','으로','자','에','와','한','하다']\n",
    "\n",
    "def load_data(train_data, test_data, num_words=10000):\n",
    "    train_data.drop_duplicates(subset=['document'], inplace=True)\n",
    "    train_data = train_data.dropna(how = 'any') \n",
    "    test_data.drop_duplicates(subset=['document'], inplace=True)\n",
    "    test_data = test_data.dropna(how = 'any') \n",
    "    \n",
    "    X_train = []\n",
    "    for sentence in train_data['document']:\n",
    "        temp_X = tokenizer.morphs(sentence) # 토큰화\n",
    "        temp_X = [word for word in temp_X if not word in stopwords] # 불용어 제거\n",
    "        X_train.append(temp_X)\n",
    "\n",
    "    X_test = []\n",
    "    for sentence in test_data['document']:\n",
    "        temp_X = tokenizer.morphs(sentence) # 토큰화\n",
    "        temp_X = [word for word in temp_X if not word in stopwords] # 불용어 제거\n",
    "        X_test.append(temp_X)\n",
    "    \n",
    "    words = np.concatenate(X_train).tolist()\n",
    "    counter = Counter(words)\n",
    "    counter = counter.most_common(10000-4)\n",
    "    vocab = ['', '', '', ''] + [key for key, _ in counter]\n",
    "    word_to_index = {word:index for index, word in enumerate(vocab)}\n",
    "        \n",
    "    def wordlist_to_indexlist(wordlist):\n",
    "        return [word_to_index[word] if word in word_to_index else word_to_index[''] for word in wordlist]\n",
    "        \n",
    "    X_train = list(map(wordlist_to_indexlist, X_train))\n",
    "    X_test = list(map(wordlist_to_indexlist, X_test))\n",
    "        \n",
    "    return X_train, np.array(list(train_data['label'])), X_test, np.array(list(test_data['label'])), word_to_index\n",
    "    \n",
    "X_train, y_train, X_test, y_test, word_to_index = load_data(train_data, test_data)\n",
    "\n",
    "print(len(X_train))\n",
    "print(len(X_test))\n",
    "print(len(y_test))\n",
    "\n",
    "X_test1 = X_test\n",
    "y_test1 = y_test"
   ]
  },
  {
   "cell_type": "code",
   "execution_count": 46,
   "id": "1aca31fd",
   "metadata": {},
   "outputs": [],
   "source": [
    "index_to_word = {index:word for word, index in word_to_index.items()}"
   ]
  },
  {
   "cell_type": "code",
   "execution_count": 64,
   "id": "b7051e2c",
   "metadata": {},
   "outputs": [],
   "source": [
    "# 문장 1개를 활용할 딕셔너리와 함께 주면, 단어 인덱스 리스트 벡터로 변환해 주는 함수입니다. \n",
    "# 단, 모든 문장은 <BOS>로 시작하는 것으로 합니다. \n",
    "def get_encoded_sentence(sentence, word_to_index):\n",
    "    return [word_to_index['<BOS>']]+[word_to_index[word] if word in word_to_index else word_to_index['<UNK>'] for word in sentence.split()]\n",
    "\n",
    "# 여러 개의 문장 리스트를 한꺼번에 단어 인덱스 리스트 벡터로 encode해 주는 함수입니다. \n",
    "def get_encoded_sentences(sentences, word_to_index):\n",
    "    return [get_encoded_sentence(sentence, word_to_index) for sentence in sentences]\n",
    "\n",
    "# 숫자 벡터로 encode된 문장을 원래대로 decode하는 함수입니다. \n",
    "def get_decoded_sentence(encoded_sentence, index_to_word):\n",
    "    return ' '.join(index_to_word[index] if index in index_to_word else '<UNK>' for index in encoded_sentence[1:])  #[1:]를 통해 <BOS>를 제외\n",
    "\n",
    "# 여러 개의 숫자 벡터로 encode된 문장을 한꺼번에 원래대로 decode하는 함수입니다. \n",
    "def get_decoded_sentences(encoded_sentences, index_to_word):\n",
    "    return [get_decoded_sentence(encoded_sentence, index_to_word) for encoded_sentence in encoded_sentences]"
   ]
  },
  {
   "cell_type": "code",
   "execution_count": 121,
   "id": "49486cce",
   "metadata": {},
   "outputs": [],
   "source": [
    "#실제 인코딩 인덱스는 제공된 word_to_index에서 index 기준으로 3씩 뒤로 밀려 있습니다.  \n",
    "word_to_index = {k:(v+3) for k,v in word_to_index.items()}\n",
    "\n",
    "# 처음 몇 개 인덱스는 사전에 정의되어 있습니다\n",
    "word_to_index[\"<PAD>\"] = 0\n",
    "word_to_index[\"<BOS>\"] = 1\n",
    "word_to_index[\"<UNK>\"] = 2  # unknown\n",
    "word_to_index[\"<UNUSED>\"] = 3\n",
    "\n",
    "index_to_word = {index:word for word, index in word_to_index.items()}\n",
    "\n",
    "# print(index_to_word[0])     # \n",
    "# print(index_to_word[1])     # \n",
    "# print(index_to_word[2])     # \n",
    "# print(index_to_word[3])     # \n",
    "# print(word_to_index['슬프']) #  \n",
    "# print(index_to_word[520])   # "
   ]
  },
  {
   "cell_type": "code",
   "execution_count": 66,
   "id": "e27a298a",
   "metadata": {},
   "outputs": [
    {
     "name": "stdout",
     "output_type": "stream",
     "text": [
      "문장길이 평균 :  15.96940191154864\n",
      "문장길이 최대 :  116\n",
      "문장길이 표준편차 :  12.843571191092\n",
      "pad_sequences maxlen :  41\n",
      "전체 문장의 0.9342988343341575%가 maxlen 설정값 이내에 포함됩니다. \n"
     ]
    }
   ],
   "source": [
    "total_data_text = list(X_train) + list(X_test)\n",
    "# 텍스트데이터 문장길이의 리스트를 생성한 후\n",
    "num_tokens = [len(tokens) for tokens in total_data_text]\n",
    "num_tokens = np.array(num_tokens)\n",
    "# 문장길이의 평균값, 최대값, 표준편차를 계산해 본다. \n",
    "print('문장길이 평균 : ', np.mean(num_tokens))\n",
    "print('문장길이 최대 : ', np.max(num_tokens))\n",
    "print('문장길이 표준편차 : ', np.std(num_tokens))\n",
    "\n",
    "# 예를들어, 최대 길이를 (평균 + 2*표준편차)로 한다면,  \n",
    "max_tokens = np.mean(num_tokens) + 2 * np.std(num_tokens)\n",
    "maxlen = int(max_tokens)\n",
    "print('pad_sequences maxlen : ', maxlen)\n",
    "print('전체 문장의 {}%가 maxlen 설정값 이내에 포함됩니다. '.format(np.sum(num_tokens < max_tokens) / len(num_tokens)))"
   ]
  },
  {
   "cell_type": "code",
   "execution_count": 67,
   "id": "f2633a56",
   "metadata": {},
   "outputs": [
    {
     "name": "stdout",
     "output_type": "stream",
     "text": [
      "(146182, 41)\n",
      "(146182,)\n"
     ]
    }
   ],
   "source": [
    "import numpy as np\n",
    "import tensorflow as tf\n",
    "import os\n",
    "\n",
    "X_train = tf.keras.preprocessing.sequence.pad_sequences(X_train,\n",
    "                                                        value=word_to_index[\"<PAD>\"],\n",
    "                                                        padding='pre', # 혹은 'pre'\n",
    "                                                        maxlen=maxlen)\n",
    "\n",
    "X_test = tf.keras.preprocessing.sequence.pad_sequences(X_test,\n",
    "                                                       value=word_to_index[\"<PAD>\"],\n",
    "                                                       padding='pre', # 혹은 'pre'\n",
    "                                                       maxlen=maxlen)\n",
    "\n",
    "print(X_train.shape)\n",
    "print(y_train.shape)"
   ]
  },
  {
   "cell_type": "code",
   "execution_count": 68,
   "id": "0f3cd5e8",
   "metadata": {},
   "outputs": [
    {
     "name": "stdout",
     "output_type": "stream",
     "text": [
      "Model: \"sequential_8\"\n",
      "_________________________________________________________________\n",
      "Layer (type)                 Output Shape              Param #   \n",
      "=================================================================\n",
      "embedding_7 (Embedding)      (None, 41, 40)            1200000   \n",
      "_________________________________________________________________\n",
      "bidirectional_2 (Bidirection (None, 41, 64)            18688     \n",
      "_________________________________________________________________\n",
      "bidirectional_3 (Bidirection (None, 41, 32)            10368     \n",
      "_________________________________________________________________\n",
      "dense_10 (Dense)             (None, 41, 8)             264       \n",
      "_________________________________________________________________\n",
      "dense_11 (Dense)             (None, 41, 1)             9         \n",
      "=================================================================\n",
      "Total params: 1,229,329\n",
      "Trainable params: 1,229,329\n",
      "Non-trainable params: 0\n",
      "_________________________________________________________________\n"
     ]
    }
   ],
   "source": [
    "vocab_size = 30000    # 어휘 사전의 크기입니다(10,000개의 단어)\n",
    "word_vector_dim = 40  # 워드 벡터의 차원 수 (변경 가능한 하이퍼파라미터)\n",
    "from tensorflow.keras import regularizers\n",
    "\n",
    "#pretrained word embedding\n",
    "#이미 주어진 모델로 워드 벡터를 사용한다!\n",
    "embedding_matrix = np.random.rand(vocab_size, word_vector_dim)\n",
    "\n",
    "tf.keras.regularizers.l2(l2=0.04)\n",
    "# model 설계 - 딥러닝 모델 코드를 직접 작성해 주세요.\n",
    "model = tf.keras.Sequential()\n",
    "model.add(tf.keras.layers.Embedding(vocab_size, \n",
    "                                    word_vector_dim, \n",
    "                                    embeddings_initializer=Constant(embedding_matrix), # 카피한 임베딩을 여기서 활용\n",
    "                                    input_length=maxlen, \n",
    "                                    trainable=True))   \n",
    "\n",
    "# Bidirectional LSTM 을 2번 사용하여 성능을 향상 시킴 !!!!!!!!!!!!!!!!!!!!!!!!!!!!!!!!!!!!!!!!\n",
    "model.add(tf.keras.layers.Bidirectional(tf.keras.layers.LSTM(32, return_sequences=True)))\n",
    "model.add(tf.keras.layers.Bidirectional(tf.keras.layers.LSTM(16, return_sequences=True)))\n",
    "\n",
    "# model.add(tf.keras.layers.Conv1D(128, 7, padding='valid',activation='relu',strides=1))\n",
    "# model.add(tf.keras.layers.GRU(64, return_sequences=True))\n",
    "# model.add(tf.keras.layers.Conv1D(128, 7, padding='valid',activation='relu',strides=1))\n",
    "model.add(tf.keras.layers.Dense(8, activation='relu',kernel_regularizer='l2'))\n",
    "model.add(tf.keras.layers.Dense(1, activation='sigmoid'))  # 최종 출력은 긍정/부정을 나타내는 1dim 입니다.\n",
    "\n",
    "model.summary()"
   ]
  },
  {
   "cell_type": "code",
   "execution_count": 69,
   "id": "03e695c3",
   "metadata": {},
   "outputs": [
    {
     "name": "stdout",
     "output_type": "stream",
     "text": [
      "146182 146182\n",
      "49157 49157\n"
     ]
    }
   ],
   "source": [
    "print(len(X_train), len(y_train))\n",
    "print(len(X_test), len(y_test))\n"
   ]
  },
  {
   "cell_type": "code",
   "execution_count": 70,
   "id": "25748c16",
   "metadata": {},
   "outputs": [
    {
     "name": "stdout",
     "output_type": "stream",
     "text": [
      "(49157, 41)\n",
      "(49157,)\n",
      "x : 훈련 샘플 개수: 146182, 검증(validation) 개수: 24500, 테스트 개수: 24657\n",
      "y : 훈련 샘플 개수: 146182, 검증(validation) 개수: 24500, 테스트 개수: 24657\n"
     ]
    }
   ],
   "source": [
    "# validation set 10000건 분리\n",
    "x_val = X_test[:24500]   \n",
    "y_val = y_test[:24500]\n",
    "\n",
    "x_test_ = X_test[24500:]   \n",
    "y_test_ = y_test[24500:]\n",
    "\n",
    "# validation set을 제외한 나머지 15000건\n",
    "partial_x_train = X_train[:]  \n",
    "partial_y_train = y_train[:]\n",
    "\n",
    "print(X_test.shape)\n",
    "print(y_test.shape)\n",
    "print(\"x : 훈련 샘플 개수: {}, 검증(validation) 개수: {}, 테스트 개수: {}\".format(len(partial_x_train), len(x_val), len(x_test_),len(y_test)))\n",
    "print(\"y : 훈련 샘플 개수: {}, 검증(validation) 개수: {}, 테스트 개수: {}\".format(len(partial_y_train), len(y_val), len(y_test_),len(y_test)))\n"
   ]
  },
  {
   "cell_type": "code",
   "execution_count": 71,
   "id": "fa731dd2",
   "metadata": {},
   "outputs": [
    {
     "name": "stdout",
     "output_type": "stream",
     "text": [
      "Epoch 1/12\n",
      "2285/2285 [==============================] - 35s 13ms/step - loss: 0.4961 - accuracy: 0.7585 - val_loss: 0.4312 - val_accuracy: 0.8104\n",
      "Epoch 2/12\n",
      "2285/2285 [==============================] - 28s 12ms/step - loss: 0.3483 - accuracy: 0.8544 - val_loss: 0.3428 - val_accuracy: 0.8547\n",
      "Epoch 3/12\n",
      "2285/2285 [==============================] - 29s 13ms/step - loss: 0.3115 - accuracy: 0.8701 - val_loss: 0.3347 - val_accuracy: 0.8586\n",
      "Epoch 4/12\n",
      "2285/2285 [==============================] - 31s 13ms/step - loss: 0.2909 - accuracy: 0.8793 - val_loss: 0.3375 - val_accuracy: 0.8561\n",
      "Epoch 5/12\n",
      "2285/2285 [==============================] - 30s 13ms/step - loss: 0.2727 - accuracy: 0.8878 - val_loss: 0.3341 - val_accuracy: 0.8580\n",
      "Epoch 6/12\n",
      "2285/2285 [==============================] - 30s 13ms/step - loss: 0.2580 - accuracy: 0.8937 - val_loss: 0.3298 - val_accuracy: 0.8595\n",
      "Epoch 7/12\n",
      "2285/2285 [==============================] - 29s 13ms/step - loss: 0.2447 - accuracy: 0.8999 - val_loss: 0.3352 - val_accuracy: 0.8594\n",
      "Epoch 8/12\n",
      "2285/2285 [==============================] - 29s 13ms/step - loss: 0.2309 - accuracy: 0.9066 - val_loss: 0.3470 - val_accuracy: 0.8577\n",
      "Epoch 9/12\n",
      "2285/2285 [==============================] - 29s 13ms/step - loss: 0.2186 - accuracy: 0.9117 - val_loss: 0.3591 - val_accuracy: 0.8589\n",
      "Epoch 10/12\n",
      "2285/2285 [==============================] - 29s 13ms/step - loss: 0.2057 - accuracy: 0.9184 - val_loss: 0.3598 - val_accuracy: 0.8574\n",
      "Epoch 11/12\n",
      "2285/2285 [==============================] - 29s 12ms/step - loss: 0.1932 - accuracy: 0.9245 - val_loss: 0.3817 - val_accuracy: 0.8535\n",
      "Epoch 12/12\n",
      "2285/2285 [==============================] - 28s 12ms/step - loss: 0.1815 - accuracy: 0.9302 - val_loss: 0.4032 - val_accuracy: 0.8547\n"
     ]
    }
   ],
   "source": [
    "model.compile(optimizer='adam',\n",
    "              loss='binary_crossentropy',\n",
    "              metrics=['accuracy'])\n",
    "              \n",
    "epochs=12  # 몇 epoch를 훈련하면 좋을지 결과를 보면서 바꾸어 봅시다. \n",
    "\n",
    "history = model.fit(partial_x_train,\n",
    "                    partial_y_train,\n",
    "                    epochs=epochs,\n",
    "                    batch_size=64,\n",
    "                    validation_data=(x_val, y_val),\n",
    "                    verbose=1)"
   ]
  },
  {
   "cell_type": "code",
   "execution_count": 72,
   "id": "f605c54e",
   "metadata": {},
   "outputs": [
    {
     "name": "stdout",
     "output_type": "stream",
     "text": [
      "771/771 - 4s - loss: 0.4074 - accuracy: 0.8526\n",
      "[0.407350093126297, 0.8526244759559631]\n"
     ]
    }
   ],
   "source": [
    "results = model.evaluate(x_test_,  y_test_, verbose=2)\n",
    "\n",
    "print(results)"
   ]
  },
  {
   "cell_type": "code",
   "execution_count": null,
   "id": "fe184bd2",
   "metadata": {},
   "outputs": [],
   "source": [
    "# model.fit() 과정 중의 train/validation loss, accuracy 등이 매 epoch마다 history 변수에 저장되어 있\u001d",
    "\n",
    "# 이 데이터를 이용하여 그래프로 그려 보면서 전략을 짤수 있다. \n",
    "\n",
    "history_dict = history.history\n",
    "print(history_dict.keys()) # epoch에 따른 그래프를 그려볼 수 있는 항목들"
   ]
  },
  {
   "cell_type": "code",
   "execution_count": 73,
   "id": "2defaa26",
   "metadata": {},
   "outputs": [
    {
     "data": {
      "image/png": "[encoded data removed]",
      "text/plain": [
       "<Figure size 432x288 with 1 Axes>"
      ]
     },
     "metadata": {
      "needs_background": "light"
     },
     "output_type": "display_data"
    }
   ],
   "source": [
    "# 그래프 그리기\n",
    "\n",
    "import matplotlib.pyplot as plt\n",
    "\n",
    "acc = history_dict['accuracy']\n",
    "val_acc = history_dict['val_accuracy']\n",
    "loss = history_dict['loss']\n",
    "val_loss = history_dict['val_loss']\n",
    "\n",
    "epochs = range(1, len(acc) + 1)\n",
    "\n",
    "# \"bo\"는 \"파란색 점\"입니다\n",
    "plt.plot(epochs, loss, 'bo', label='Training loss')\n",
    "# b는 \"파란 실선\"입니다\n",
    "plt.plot(epochs, val_loss, 'b', label='Validation loss')\n",
    "plt.title('Training and validation loss')\n",
    "plt.xlabel('Epochs')\n",
    "plt.ylabel('Loss')\n",
    "plt.legend()\n",
    "\n",
    "plt.show()"
   ]
  },
  {
   "cell_type": "code",
   "execution_count": 74,
   "id": "e0495734",
   "metadata": {},
   "outputs": [
    {
     "data": {
      "image/png": "[encoded data removed]",
      "text/plain": [
       "<Figure size 432x288 with 1 Axes>"
      ]
     },
     "metadata": {
      "needs_background": "light"
     },
     "output_type": "display_data"
    }
   ],
   "source": [
    "plt.clf()   # 그림을 초기화합니다\n",
    "\n",
    "plt.plot(epochs, acc, 'bo', label='Training acc')\n",
    "plt.plot(epochs, val_acc, 'b', label='Validation acc')\n",
    "plt.title('Training and validation accuracy')\n",
    "plt.xlabel('Epochs')\n",
    "plt.ylabel('Accuracy')\n",
    "plt.legend()\n",
    "\n",
    "plt.show()"
   ]
  }
 ],
 "metadata": {
  "kernelspec": {
   "display_name": "Python 3 (ipykernel)",
   "language": "python",
   "name": "python3"
  },
  "language_info": {
   "codemirror_mode": {
    "name": "ipython",
    "version": 3
   },
   "file_extension": ".py",
   "mimetype": "text/x-python",
   "name": "python",
   "nbconvert_exporter": "python",
   "pygments_lexer": "ipython3",
   "version": "3.9.7"
  }
 },
 "nbformat": 4,
 "nbformat_minor": 5
}
