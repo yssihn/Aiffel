{
 "cells": [
  {
   "cell_type": "markdown",
   "id": "20a449a6",
   "metadata": {},
   "source": [
    "# exp 7 인물사진을 만들어 보자 < 회 고 >\n",
    "## 작업파일 링크 :&nbsp;&nbsp;[인물](https://github.com/yssihn/Aiffel/blob/master/exp_07_00.ipynb)&nbsp;&nbsp;&nbsp;[고양이](https://github.com/yssihn/Aiffel/blob/master/exp_07_01.ipynb)&nbsp;&nbsp;&nbsp;[배경크로마키](https://github.com/yssihn/Aiffel/blob/master/exp_07_02.ipynb)&nbsp;&nbsp;&nbsp;[회고](https://github.com/yssihn/Aiffel/blob/master/exp_07_03.ipynb)\n",
    "***"
   ]
  },
  {
   "cell_type": "markdown",
   "id": "a8539575",
   "metadata": {},
   "source": [
    "***\n",
    "**2. 제작한 인물모드 사진들에서 나타나는 문제점을 정확히 지적하였다.**<br>\n",
    "인물사진에서 발생한 문제점을 정확히 지적한 사진을 제출하였다.<br>\n",
    "\n",
    "\n",
    "***\n"
   ]
  },
  {
   "cell_type": "markdown",
   "id": "b00996ae",
   "metadata": {},
   "source": [
    "***\n",
    "**3. 인물모드 사진의 문제점을 개선할 수 있는 솔루션을 적절히 제시하였다.**<br>\n",
    "추가적인 depth 정보를 활용하여 semantic segmentation mask의 오류를 보완할 수 있는 좋은 솔루션을 구체적으로 제시하였다.<br>\n",
    "**=> [회고페이지][회고링크]에 개선 솔루션 기술**\n",
    "***\n"
   ]
  },
  {
   "cell_type": "code",
   "execution_count": null,
   "id": "66621021",
   "metadata": {},
   "outputs": [],
   "source": []
  }
 ],
 "metadata": {
  "kernelspec": {
   "display_name": "Python 3 (ipykernel)",
   "language": "python",
   "name": "python3"
  },
  "language_info": {
   "codemirror_mode": {
    "name": "ipython",
    "version": 3
   },
   "file_extension": ".py",
   "mimetype": "text/x-python",
   "name": "python",
   "nbconvert_exporter": "python",
   "pygments_lexer": "ipython3",
   "version": "3.9.7"
  }
 },
 "nbformat": 4,
 "nbformat_minor": 5
}
