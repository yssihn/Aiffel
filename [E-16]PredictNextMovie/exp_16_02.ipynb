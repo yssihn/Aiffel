{
 "cells": [
  {
   "cell_type": "markdown",
   "metadata": {},
   "source": [
    "# E.16. 프로젝트 - Movielens 영화 SBR\n",
    "##  Movielens 1M Dataset을 기반으로, Session based Recommendation 시스템 제작\n",
    "\n",
    "### 평가기준\n",
    "1. Movielens 데이터셋을 session based recommendation 관점으로 전처리하는 과정이 체계적으로 진행되었다.<br>\n",
    "- 데이터셋의 면밀한 분석을 토대로 세션단위 정의 과정(길이분석, 시간분석)을 합리적으로 수행한 과정이 기술되었다.<br>\n",
    "=> 하였음.\n",
    "2. RNN 기반의 예측 모델이 정상적으로 구성되어 안정적으로 훈련이 진행되었다. <br>\n",
    "- 적절한 epoch만큼의 학습이 진행되는 과정에서 train loss가 안정적으로 감소하고, validation 단계에서의 Recall, MRR이 개선되는 것이 확인된다.<br>\n",
    "=> 하였음. (안정적이거나 개선되는 것은 논외로 함)\n",
    "3. 세션정의, 모델구조, 하이퍼파라미터 등을 변경해서 실험하여 Recall, MRR 등의 변화추이를 관찰하였다.<br>\n",
    "- 3가지 이상의 변화를 시도하고 그 실험결과를 체계적으로 분석하였다.<br>\n",
    "=> 최대한 체계적으로 분석함.\n",
    "\n",
    "\n",
    "### 마치며\n",
    "session의 길이를 session id 에서 user id로 바꿔서 진행함.\n",
    "전처리를 한 후 학습 후 생각과는 다르게 ReCall@20, MRR@20은 결과가 좋지 않음. \n",
    "점점 어려워 지는 것 같다. "
   ]
  },
  {
   "cell_type": "code",
   "execution_count": 336,
   "metadata": {},
   "outputs": [],
   "source": [
    "import datetime as dt\n",
    "from pathlib import Path\n",
    "import os\n",
    "\n",
    "import numpy as np\n",
    "import pandas as pd\n",
    "import warnings\n",
    "warnings.filterwarnings('ignore')"
   ]
  },
  {
   "cell_type": "code",
   "execution_count": 427,
   "metadata": {},
   "outputs": [
    {
     "data": {
      "text/html": [
       "<div>\n",
       "<style scoped>\n",
       "    .dataframe tbody tr th:only-of-type {\n",
       "        vertical-align: middle;\n",
       "    }\n",
       "\n",
       "    .dataframe tbody tr th {\n",
       "        vertical-align: top;\n",
       "    }\n",
       "\n",
       "    .dataframe thead th {\n",
       "        text-align: right;\n",
       "    }\n",
       "</style>\n",
       "<table border=\"1\" class=\"dataframe\">\n",
       "  <thead>\n",
       "    <tr style=\"text-align: right;\">\n",
       "      <th></th>\n",
       "      <th>UserId</th>\n",
       "      <th>ItemId</th>\n",
       "      <th>Rating</th>\n",
       "      <th>Time</th>\n",
       "    </tr>\n",
       "  </thead>\n",
       "  <tbody>\n",
       "    <tr>\n",
       "      <th>31</th>\n",
       "      <td>1</td>\n",
       "      <td>3186</td>\n",
       "      <td>4</td>\n",
       "      <td>2000-12-31 22:00:19</td>\n",
       "    </tr>\n",
       "    <tr>\n",
       "      <th>22</th>\n",
       "      <td>1</td>\n",
       "      <td>1270</td>\n",
       "      <td>5</td>\n",
       "      <td>2000-12-31 22:00:55</td>\n",
       "    </tr>\n",
       "    <tr>\n",
       "      <th>27</th>\n",
       "      <td>1</td>\n",
       "      <td>1721</td>\n",
       "      <td>4</td>\n",
       "      <td>2000-12-31 22:00:55</td>\n",
       "    </tr>\n",
       "    <tr>\n",
       "      <th>37</th>\n",
       "      <td>1</td>\n",
       "      <td>1022</td>\n",
       "      <td>5</td>\n",
       "      <td>2000-12-31 22:00:55</td>\n",
       "    </tr>\n",
       "    <tr>\n",
       "      <th>24</th>\n",
       "      <td>1</td>\n",
       "      <td>2340</td>\n",
       "      <td>3</td>\n",
       "      <td>2000-12-31 22:01:43</td>\n",
       "    </tr>\n",
       "    <tr>\n",
       "      <th>...</th>\n",
       "      <td>...</td>\n",
       "      <td>...</td>\n",
       "      <td>...</td>\n",
       "      <td>...</td>\n",
       "    </tr>\n",
       "    <tr>\n",
       "      <th>1000019</th>\n",
       "      <td>6040</td>\n",
       "      <td>2917</td>\n",
       "      <td>4</td>\n",
       "      <td>2001-08-10 14:40:29</td>\n",
       "    </tr>\n",
       "    <tr>\n",
       "      <th>999988</th>\n",
       "      <td>6040</td>\n",
       "      <td>1921</td>\n",
       "      <td>4</td>\n",
       "      <td>2001-08-10 14:41:04</td>\n",
       "    </tr>\n",
       "    <tr>\n",
       "      <th>1000172</th>\n",
       "      <td>6040</td>\n",
       "      <td>1784</td>\n",
       "      <td>3</td>\n",
       "      <td>2001-08-10 14:41:04</td>\n",
       "    </tr>\n",
       "    <tr>\n",
       "      <th>1000167</th>\n",
       "      <td>6040</td>\n",
       "      <td>161</td>\n",
       "      <td>3</td>\n",
       "      <td>2001-08-10 14:41:26</td>\n",
       "    </tr>\n",
       "    <tr>\n",
       "      <th>1000042</th>\n",
       "      <td>6040</td>\n",
       "      <td>1221</td>\n",
       "      <td>4</td>\n",
       "      <td>2001-08-20 13:44:15</td>\n",
       "    </tr>\n",
       "  </tbody>\n",
       "</table>\n",
       "<p>1000209 rows × 4 columns</p>\n",
       "</div>"
      ],
      "text/plain": [
       "         UserId  ItemId  Rating                Time\n",
       "31            1    3186       4 2000-12-31 22:00:19\n",
       "22            1    1270       5 2000-12-31 22:00:55\n",
       "27            1    1721       4 2000-12-31 22:00:55\n",
       "37            1    1022       5 2000-12-31 22:00:55\n",
       "24            1    2340       3 2000-12-31 22:01:43\n",
       "...         ...     ...     ...                 ...\n",
       "1000019    6040    2917       4 2001-08-10 14:40:29\n",
       "999988     6040    1921       4 2001-08-10 14:41:04\n",
       "1000172    6040    1784       3 2001-08-10 14:41:04\n",
       "1000167    6040     161       3 2001-08-10 14:41:26\n",
       "1000042    6040    1221       4 2001-08-20 13:44:15\n",
       "\n",
       "[1000209 rows x 4 columns]"
      ]
     },
     "execution_count": 427,
     "metadata": {},
     "output_type": "execute_result"
    }
   ],
   "source": [
    "data_path = Path(os.getenv('HOME')+'/aiffel/yoochoose-data/ml-1m') \n",
    "train_path = data_path / 'ratings.dat'\n",
    "\n",
    "def load_data(data_path: Path, nrows=None):\n",
    "    data = pd.read_csv(data_path, sep='::', header=None, usecols=[0, 1, 2, 3], dtype={0: np.int32, 1: np.int32, 2: np.int32}, nrows=nrows)\n",
    "    data.columns = ['UserId', 'ItemId', 'Rating', 'Time']\n",
    "    return data\n",
    "\n",
    "data = load_data(train_path, None)\n",
    "data.sort_values(['UserId', 'Time'], inplace=True)  # data를 id와 시간 순서로 정렬해줍니다.\n",
    "data['Time'] = data['Time'].map(lambda x: pd.Timestamp(x, unit='s')) # Timestamp 형식으로 변형해서 데이터를 준비합니다. \n",
    "data"
   ]
  },
  {
   "cell_type": "markdown",
   "metadata": {},
   "source": [
    "### 데이터 EDA "
   ]
  },
  {
   "cell_type": "markdown",
   "metadata": {},
   "source": [
    "UserId 와 ItemId 의 유일한 갯수"
   ]
  },
  {
   "cell_type": "code",
   "execution_count": 338,
   "metadata": {},
   "outputs": [
    {
     "data": {
      "text/plain": [
       "(6040, 3706)"
      ]
     },
     "execution_count": 338,
     "metadata": {},
     "output_type": "execute_result"
    }
   ],
   "source": [
    "data['UserId'].nunique(), data['ItemId'].nunique()"
   ]
  },
  {
   "cell_type": "markdown",
   "metadata": {},
   "source": [
    "UserId 별 데이터는 몇 개인지 확인"
   ]
  },
  {
   "cell_type": "code",
   "execution_count": 339,
   "metadata": {},
   "outputs": [
    {
     "data": {
      "text/plain": [
       "UserId\n",
       "1        53\n",
       "2       129\n",
       "3        51\n",
       "4        21\n",
       "5       198\n",
       "       ... \n",
       "6036    888\n",
       "6037    202\n",
       "6038     20\n",
       "6039    123\n",
       "6040    341\n",
       "Length: 6040, dtype: int64"
      ]
     },
     "execution_count": 339,
     "metadata": {},
     "output_type": "execute_result"
    }
   ],
   "source": [
    "user_length = data.groupby('UserId').size()\n",
    "user_length"
   ]
  },
  {
   "cell_type": "markdown",
   "metadata": {},
   "source": [
    "itemId 별 데이터가 몇 개인지 확인"
   ]
  },
  {
   "cell_type": "code",
   "execution_count": 340,
   "metadata": {},
   "outputs": [
    {
     "data": {
      "text/plain": [
       "ItemId\n",
       "1       2077\n",
       "2        701\n",
       "3        478\n",
       "4        170\n",
       "5        296\n",
       "        ... \n",
       "3948     862\n",
       "3949     304\n",
       "3950      54\n",
       "3951      40\n",
       "3952     388\n",
       "Length: 3706, dtype: int64"
      ]
     },
     "execution_count": 340,
     "metadata": {},
     "output_type": "execute_result"
    }
   ],
   "source": [
    "item_length = data.groupby('ItemId').size()\n",
    "item_length"
   ]
  },
  {
   "cell_type": "code",
   "execution_count": 341,
   "metadata": {},
   "outputs": [
    {
     "data": {
      "text/plain": [
       "(123.5, 269.88909875876953)"
      ]
     },
     "execution_count": 341,
     "metadata": {},
     "output_type": "execute_result"
    }
   ],
   "source": [
    "item_length.median(), item_length.mean()"
   ]
  },
  {
   "cell_type": "markdown",
   "metadata": {},
   "source": [
    "UserId별 시간(초)당 데이터는 몇 개인지 확인"
   ]
  },
  {
   "cell_type": "code",
   "execution_count": 342,
   "metadata": {},
   "outputs": [
    {
     "data": {
      "text/plain": [
       "UserId  Time               \n",
       "1       2000-12-31 22:00:19    1\n",
       "        2000-12-31 22:00:55    3\n",
       "        2000-12-31 22:01:43    1\n",
       "        2000-12-31 22:02:52    1\n",
       "        2000-12-31 22:04:35    1\n",
       "                              ..\n",
       "6040    2001-08-10 14:39:58    1\n",
       "        2001-08-10 14:40:29    1\n",
       "        2001-08-10 14:41:04    2\n",
       "        2001-08-10 14:41:26    1\n",
       "        2001-08-20 13:44:15    1\n",
       "Length: 471163, dtype: int64"
      ]
     },
     "execution_count": 342,
     "metadata": {},
     "output_type": "execute_result"
    }
   ],
   "source": [
    "user_time_length = data.groupby(['UserId', 'Time']).size()\n",
    "user_time_length"
   ]
  },
  {
   "cell_type": "markdown",
   "metadata": {},
   "source": [
    "한 사용자가 시간(초)당 item에 Rating을 부여하는 액션을 몇번을 취했는지 확인할 수 있다. 시간(초)당 액션 수가 비정상적으로 많다면 의심을 해봐야겠다."
   ]
  },
  {
   "cell_type": "code",
   "execution_count": 343,
   "metadata": {},
   "outputs": [
    {
     "data": {
      "text/plain": [
       "(96.0, 165.5975165562914)"
      ]
     },
     "execution_count": 343,
     "metadata": {},
     "output_type": "execute_result"
    }
   ],
   "source": [
    "user_length.median(), user_length.mean()"
   ]
  },
  {
   "cell_type": "code",
   "execution_count": 344,
   "metadata": {},
   "outputs": [
    {
     "data": {
      "text/plain": [
       "(20, 2314)"
      ]
     },
     "execution_count": 344,
     "metadata": {},
     "output_type": "execute_result"
    }
   ],
   "source": [
    "user_length.min(), user_length.max()"
   ]
  },
  {
   "cell_type": "code",
   "execution_count": 345,
   "metadata": {},
   "outputs": [
    {
     "data": {
      "text/plain": [
       "(2.0, 2.1228513274599234)"
      ]
     },
     "execution_count": 345,
     "metadata": {},
     "output_type": "execute_result"
    }
   ],
   "source": [
    "user_time_length.median(), user_time_length.mean()"
   ]
  },
  {
   "cell_type": "code",
   "execution_count": 346,
   "metadata": {},
   "outputs": [
    {
     "data": {
      "text/plain": [
       "(1, 30)"
      ]
     },
     "execution_count": 346,
     "metadata": {},
     "output_type": "execute_result"
    }
   ],
   "source": [
    "user_time_length.min(), user_time_length.max()"
   ]
  },
  {
   "cell_type": "markdown",
   "metadata": {},
   "source": [
    "사용자별 시간(초)별 보통의 액션은 2번 정도인데, 같은 시간(초)에 30번 이상 Rating을 부여하는 액션을 취한 것은 이상해 보인다."
   ]
  },
  {
   "cell_type": "code",
   "execution_count": 347,
   "metadata": {},
   "outputs": [
    {
     "data": {
      "text/plain": [
       "1343.181000000005"
      ]
     },
     "execution_count": 347,
     "metadata": {},
     "output_type": "execute_result"
    }
   ],
   "source": [
    "user_length.quantile(0.999)"
   ]
  },
  {
   "cell_type": "code",
   "execution_count": 348,
   "metadata": {
    "scrolled": true
   },
   "outputs": [
    {
     "data": {
      "text/plain": [
       "10.0"
      ]
     },
     "execution_count": 348,
     "metadata": {},
     "output_type": "execute_result"
    }
   ],
   "source": [
    "user_time_length.quantile(0.999)"
   ]
  },
  {
   "cell_type": "markdown",
   "metadata": {},
   "source": [
    "사용자별 시간(초)별 Rating한 액션을 봤을 때 99.9%가 10이하이다. 같은 사용자가 동일한 시간(초)에 10이상 Rating을 한다는 것은 비정상적인 액션같다. 아래에 동일 사용자가 동일한 시간(초) 최대 30번 Rating을 한 데이터를 조회해 봤다. 각기 다른 itemid에 rating 도 다양하게 부여되었다. 동일 초단위 시간에 다른 내용의 액션이 되었다는건 부적절한 행위가 유입된 듯 보인다."
   ]
  },
  {
   "cell_type": "code",
   "execution_count": 349,
   "metadata": {
    "scrolled": false
   },
   "outputs": [
    {
     "data": {
      "text/html": [
       "<div>\n",
       "<style scoped>\n",
       "    .dataframe tbody tr th:only-of-type {\n",
       "        vertical-align: middle;\n",
       "    }\n",
       "\n",
       "    .dataframe tbody tr th {\n",
       "        vertical-align: top;\n",
       "    }\n",
       "\n",
       "    .dataframe thead th {\n",
       "        text-align: right;\n",
       "    }\n",
       "</style>\n",
       "<table border=\"1\" class=\"dataframe\">\n",
       "  <thead>\n",
       "    <tr style=\"text-align: right;\">\n",
       "      <th></th>\n",
       "      <th>UserId</th>\n",
       "      <th>ItemId</th>\n",
       "      <th>Rating</th>\n",
       "      <th>Time</th>\n",
       "    </tr>\n",
       "  </thead>\n",
       "  <tbody>\n",
       "    <tr>\n",
       "      <th>112231</th>\n",
       "      <td>731</td>\n",
       "      <td>3044</td>\n",
       "      <td>4</td>\n",
       "      <td>2000-11-29 20:06:42</td>\n",
       "    </tr>\n",
       "    <tr>\n",
       "      <th>112251</th>\n",
       "      <td>731</td>\n",
       "      <td>1455</td>\n",
       "      <td>3</td>\n",
       "      <td>2000-11-29 20:06:42</td>\n",
       "    </tr>\n",
       "    <tr>\n",
       "      <th>112305</th>\n",
       "      <td>731</td>\n",
       "      <td>1639</td>\n",
       "      <td>5</td>\n",
       "      <td>2000-11-29 20:06:42</td>\n",
       "    </tr>\n",
       "    <tr>\n",
       "      <th>112311</th>\n",
       "      <td>731</td>\n",
       "      <td>3244</td>\n",
       "      <td>4</td>\n",
       "      <td>2000-11-29 20:06:42</td>\n",
       "    </tr>\n",
       "    <tr>\n",
       "      <th>112323</th>\n",
       "      <td>731</td>\n",
       "      <td>1656</td>\n",
       "      <td>2</td>\n",
       "      <td>2000-11-29 20:06:42</td>\n",
       "    </tr>\n",
       "    <tr>\n",
       "      <th>112342</th>\n",
       "      <td>731</td>\n",
       "      <td>3426</td>\n",
       "      <td>4</td>\n",
       "      <td>2000-11-29 20:06:42</td>\n",
       "    </tr>\n",
       "    <tr>\n",
       "      <th>112348</th>\n",
       "      <td>731</td>\n",
       "      <td>1829</td>\n",
       "      <td>2</td>\n",
       "      <td>2000-11-29 20:06:42</td>\n",
       "    </tr>\n",
       "    <tr>\n",
       "      <th>112379</th>\n",
       "      <td>731</td>\n",
       "      <td>2675</td>\n",
       "      <td>4</td>\n",
       "      <td>2000-11-29 20:06:42</td>\n",
       "    </tr>\n",
       "    <tr>\n",
       "      <th>112476</th>\n",
       "      <td>731</td>\n",
       "      <td>802</td>\n",
       "      <td>3</td>\n",
       "      <td>2000-11-29 20:06:42</td>\n",
       "    </tr>\n",
       "    <tr>\n",
       "      <th>112478</th>\n",
       "      <td>731</td>\n",
       "      <td>803</td>\n",
       "      <td>5</td>\n",
       "      <td>2000-11-29 20:06:42</td>\n",
       "    </tr>\n",
       "    <tr>\n",
       "      <th>112492</th>\n",
       "      <td>731</td>\n",
       "      <td>1357</td>\n",
       "      <td>4</td>\n",
       "      <td>2000-11-29 20:06:42</td>\n",
       "    </tr>\n",
       "    <tr>\n",
       "      <th>112508</th>\n",
       "      <td>731</td>\n",
       "      <td>838</td>\n",
       "      <td>5</td>\n",
       "      <td>2000-11-29 20:06:42</td>\n",
       "    </tr>\n",
       "    <tr>\n",
       "      <th>112509</th>\n",
       "      <td>731</td>\n",
       "      <td>2171</td>\n",
       "      <td>4</td>\n",
       "      <td>2000-11-29 20:06:42</td>\n",
       "    </tr>\n",
       "    <tr>\n",
       "      <th>112524</th>\n",
       "      <td>731</td>\n",
       "      <td>852</td>\n",
       "      <td>2</td>\n",
       "      <td>2000-11-29 20:06:42</td>\n",
       "    </tr>\n",
       "    <tr>\n",
       "      <th>112526</th>\n",
       "      <td>731</td>\n",
       "      <td>2331</td>\n",
       "      <td>4</td>\n",
       "      <td>2000-11-29 20:06:42</td>\n",
       "    </tr>\n",
       "    <tr>\n",
       "      <th>112529</th>\n",
       "      <td>731</td>\n",
       "      <td>1535</td>\n",
       "      <td>3</td>\n",
       "      <td>2000-11-29 20:06:42</td>\n",
       "    </tr>\n",
       "    <tr>\n",
       "      <th>112536</th>\n",
       "      <td>731</td>\n",
       "      <td>1393</td>\n",
       "      <td>2</td>\n",
       "      <td>2000-11-29 20:06:42</td>\n",
       "    </tr>\n",
       "    <tr>\n",
       "      <th>112566</th>\n",
       "      <td>731</td>\n",
       "      <td>1564</td>\n",
       "      <td>4</td>\n",
       "      <td>2000-11-29 20:06:42</td>\n",
       "    </tr>\n",
       "    <tr>\n",
       "      <th>112570</th>\n",
       "      <td>731</td>\n",
       "      <td>892</td>\n",
       "      <td>5</td>\n",
       "      <td>2000-11-29 20:06:42</td>\n",
       "    </tr>\n",
       "    <tr>\n",
       "      <th>112610</th>\n",
       "      <td>731</td>\n",
       "      <td>151</td>\n",
       "      <td>3</td>\n",
       "      <td>2000-11-29 20:06:42</td>\n",
       "    </tr>\n",
       "    <tr>\n",
       "      <th>112617</th>\n",
       "      <td>731</td>\n",
       "      <td>2715</td>\n",
       "      <td>2</td>\n",
       "      <td>2000-11-29 20:06:42</td>\n",
       "    </tr>\n",
       "    <tr>\n",
       "      <th>112619</th>\n",
       "      <td>731</td>\n",
       "      <td>2570</td>\n",
       "      <td>2</td>\n",
       "      <td>2000-11-29 20:06:42</td>\n",
       "    </tr>\n",
       "    <tr>\n",
       "      <th>112700</th>\n",
       "      <td>731</td>\n",
       "      <td>39</td>\n",
       "      <td>5</td>\n",
       "      <td>2000-11-29 20:06:42</td>\n",
       "    </tr>\n",
       "    <tr>\n",
       "      <th>112705</th>\n",
       "      <td>731</td>\n",
       "      <td>2919</td>\n",
       "      <td>4</td>\n",
       "      <td>2000-11-29 20:06:42</td>\n",
       "    </tr>\n",
       "    <tr>\n",
       "      <th>112713</th>\n",
       "      <td>731</td>\n",
       "      <td>49</td>\n",
       "      <td>4</td>\n",
       "      <td>2000-11-29 20:06:42</td>\n",
       "    </tr>\n",
       "    <tr>\n",
       "      <th>112726</th>\n",
       "      <td>731</td>\n",
       "      <td>58</td>\n",
       "      <td>4</td>\n",
       "      <td>2000-11-29 20:06:42</td>\n",
       "    </tr>\n",
       "    <tr>\n",
       "      <th>112754</th>\n",
       "      <td>731</td>\n",
       "      <td>1210</td>\n",
       "      <td>3</td>\n",
       "      <td>2000-11-29 20:06:42</td>\n",
       "    </tr>\n",
       "    <tr>\n",
       "      <th>112766</th>\n",
       "      <td>731</td>\n",
       "      <td>85</td>\n",
       "      <td>4</td>\n",
       "      <td>2000-11-29 20:06:42</td>\n",
       "    </tr>\n",
       "    <tr>\n",
       "      <th>112777</th>\n",
       "      <td>731</td>\n",
       "      <td>2969</td>\n",
       "      <td>4</td>\n",
       "      <td>2000-11-29 20:06:42</td>\n",
       "    </tr>\n",
       "    <tr>\n",
       "      <th>112799</th>\n",
       "      <td>731</td>\n",
       "      <td>1244</td>\n",
       "      <td>5</td>\n",
       "      <td>2000-11-29 20:06:42</td>\n",
       "    </tr>\n",
       "  </tbody>\n",
       "</table>\n",
       "</div>"
      ],
      "text/plain": [
       "        UserId  ItemId  Rating                Time\n",
       "112231     731    3044       4 2000-11-29 20:06:42\n",
       "112251     731    1455       3 2000-11-29 20:06:42\n",
       "112305     731    1639       5 2000-11-29 20:06:42\n",
       "112311     731    3244       4 2000-11-29 20:06:42\n",
       "112323     731    1656       2 2000-11-29 20:06:42\n",
       "112342     731    3426       4 2000-11-29 20:06:42\n",
       "112348     731    1829       2 2000-11-29 20:06:42\n",
       "112379     731    2675       4 2000-11-29 20:06:42\n",
       "112476     731     802       3 2000-11-29 20:06:42\n",
       "112478     731     803       5 2000-11-29 20:06:42\n",
       "112492     731    1357       4 2000-11-29 20:06:42\n",
       "112508     731     838       5 2000-11-29 20:06:42\n",
       "112509     731    2171       4 2000-11-29 20:06:42\n",
       "112524     731     852       2 2000-11-29 20:06:42\n",
       "112526     731    2331       4 2000-11-29 20:06:42\n",
       "112529     731    1535       3 2000-11-29 20:06:42\n",
       "112536     731    1393       2 2000-11-29 20:06:42\n",
       "112566     731    1564       4 2000-11-29 20:06:42\n",
       "112570     731     892       5 2000-11-29 20:06:42\n",
       "112610     731     151       3 2000-11-29 20:06:42\n",
       "112617     731    2715       2 2000-11-29 20:06:42\n",
       "112619     731    2570       2 2000-11-29 20:06:42\n",
       "112700     731      39       5 2000-11-29 20:06:42\n",
       "112705     731    2919       4 2000-11-29 20:06:42\n",
       "112713     731      49       4 2000-11-29 20:06:42\n",
       "112726     731      58       4 2000-11-29 20:06:42\n",
       "112754     731    1210       3 2000-11-29 20:06:42\n",
       "112766     731      85       4 2000-11-29 20:06:42\n",
       "112777     731    2969       4 2000-11-29 20:06:42\n",
       "112799     731    1244       5 2000-11-29 20:06:42"
      ]
     },
     "execution_count": 349,
     "metadata": {},
     "output_type": "execute_result"
    }
   ],
   "source": [
    "long_user = user_time_length[user_time_length==30].index[0]\n",
    "data[(data['UserId']==long_user[0]) & (data['Time'] == long_user[1])]"
   ]
  },
  {
   "cell_type": "markdown",
   "metadata": {},
   "source": [
    "한 사용자가 동일 시간(초)에 몇번의 액션을 취했는지(Rating을 했는지) 시각화를 통해 알아본다. 하위 99.9%까지의 분포 누적합을 시각화한 것이다."
   ]
  },
  {
   "cell_type": "code",
   "execution_count": 350,
   "metadata": {},
   "outputs": [
    {
     "data": {
      "text/plain": [
       "1    0.480048\n",
       "2    0.713936\n",
       "3    0.847350\n",
       "4    0.919684\n",
       "5    0.958639\n",
       "6    0.979132\n",
       "7    0.989772\n",
       "8    0.994989\n",
       "9    0.997604\n",
       "dtype: float64"
      ]
     },
     "execution_count": 350,
     "metadata": {},
     "output_type": "execute_result"
    }
   ],
   "source": [
    "length_count = user_time_length.groupby(user_time_length).size()\n",
    "length_percent_cumsum = length_count.cumsum() / length_count.sum()\n",
    "length_percent_cumsum_999 = length_percent_cumsum[length_percent_cumsum < 0.999]\n",
    "\n",
    "length_percent_cumsum_999"
   ]
  },
  {
   "cell_type": "code",
   "execution_count": 15,
   "metadata": {
    "scrolled": false
   },
   "outputs": [
    {
     "data": {
      "image/png": "[encoded data removed]",
      "text/plain": [
       "<Figure size 1440x720 with 1 Axes>"
      ]
     },
     "metadata": {
      "needs_background": "light"
     },
     "output_type": "display_data"
    }
   ],
   "source": [
    "import matplotlib.pyplot as plt\n",
    "\n",
    "plt.figure(figsize=(20, 10))\n",
    "plt.bar(x=length_percent_cumsum_999.index,\n",
    "        height=length_percent_cumsum_999, color='red')\n",
    "plt.xticks(length_percent_cumsum_999.index)\n",
    "plt.yticks(np.arange(0, 1.01, 0.05))\n",
    "plt.title('Cumsum Percentage Until 0.999', size=20)\n",
    "plt.show()"
   ]
  },
  {
   "cell_type": "code",
   "execution_count": 351,
   "metadata": {},
   "outputs": [
    {
     "name": "stdout",
     "output_type": "stream",
     "text": [
      "2000-04-25 23:05:32\n",
      "2003-02-28 17:49:50\n"
     ]
    }
   ],
   "source": [
    "oldest, latest = data['Time'].min(), data['Time'].max()\n",
    "print(oldest) \n",
    "print(latest)"
   ]
  },
  {
   "cell_type": "markdown",
   "metadata": {},
   "source": [
    "## Step 1. 데이터의 전처리\n",
    "`Step설명 : 위와 같이 간단히 구성해 본 데이터셋을 꼼꼼이 살펴보면서 항목별 기본분석, session length, session time, cleaning 등의 작업을 진행합니다. 특히, 이 데이터셋에서는 Session이 아닌 UserID 단위로 데이터가 생성되어 있으므로, 이를 Session 단위로 어떻게 해석할지에 주의합니다.`"
   ]
  },
  {
   "cell_type": "markdown",
   "metadata": {},
   "source": [
    "### 1-1. 데이터 Cleansing  \n",
    "데이터 전처리는 분석자의 판단에 달려있는데, 이번 분석에서는 UserId별 시간(초)별 중복이 있는 데이터는 삭제하도록 한다."
   ]
  },
  {
   "cell_type": "code",
   "execution_count": 428,
   "metadata": {},
   "outputs": [
    {
     "data": {
      "text/html": [
       "<div>\n",
       "<style scoped>\n",
       "    .dataframe tbody tr th:only-of-type {\n",
       "        vertical-align: middle;\n",
       "    }\n",
       "\n",
       "    .dataframe tbody tr th {\n",
       "        vertical-align: top;\n",
       "    }\n",
       "\n",
       "    .dataframe thead th {\n",
       "        text-align: right;\n",
       "    }\n",
       "</style>\n",
       "<table border=\"1\" class=\"dataframe\">\n",
       "  <thead>\n",
       "    <tr style=\"text-align: right;\">\n",
       "      <th></th>\n",
       "      <th>UserId</th>\n",
       "      <th>ItemId</th>\n",
       "      <th>Rating</th>\n",
       "      <th>Time</th>\n",
       "    </tr>\n",
       "  </thead>\n",
       "  <tbody>\n",
       "    <tr>\n",
       "      <th>31</th>\n",
       "      <td>1</td>\n",
       "      <td>3186</td>\n",
       "      <td>4</td>\n",
       "      <td>2000-12-31 22:00:19</td>\n",
       "    </tr>\n",
       "    <tr>\n",
       "      <th>22</th>\n",
       "      <td>1</td>\n",
       "      <td>1270</td>\n",
       "      <td>5</td>\n",
       "      <td>2000-12-31 22:00:55</td>\n",
       "    </tr>\n",
       "    <tr>\n",
       "      <th>24</th>\n",
       "      <td>1</td>\n",
       "      <td>2340</td>\n",
       "      <td>3</td>\n",
       "      <td>2000-12-31 22:01:43</td>\n",
       "    </tr>\n",
       "    <tr>\n",
       "      <th>36</th>\n",
       "      <td>1</td>\n",
       "      <td>1836</td>\n",
       "      <td>5</td>\n",
       "      <td>2000-12-31 22:02:52</td>\n",
       "    </tr>\n",
       "    <tr>\n",
       "      <th>3</th>\n",
       "      <td>1</td>\n",
       "      <td>3408</td>\n",
       "      <td>4</td>\n",
       "      <td>2000-12-31 22:04:35</td>\n",
       "    </tr>\n",
       "    <tr>\n",
       "      <th>...</th>\n",
       "      <td>...</td>\n",
       "      <td>...</td>\n",
       "      <td>...</td>\n",
       "      <td>...</td>\n",
       "    </tr>\n",
       "    <tr>\n",
       "      <th>999923</th>\n",
       "      <td>6040</td>\n",
       "      <td>232</td>\n",
       "      <td>5</td>\n",
       "      <td>2001-08-10 14:39:58</td>\n",
       "    </tr>\n",
       "    <tr>\n",
       "      <th>1000019</th>\n",
       "      <td>6040</td>\n",
       "      <td>2917</td>\n",
       "      <td>4</td>\n",
       "      <td>2001-08-10 14:40:29</td>\n",
       "    </tr>\n",
       "    <tr>\n",
       "      <th>999988</th>\n",
       "      <td>6040</td>\n",
       "      <td>1921</td>\n",
       "      <td>4</td>\n",
       "      <td>2001-08-10 14:41:04</td>\n",
       "    </tr>\n",
       "    <tr>\n",
       "      <th>1000167</th>\n",
       "      <td>6040</td>\n",
       "      <td>161</td>\n",
       "      <td>3</td>\n",
       "      <td>2001-08-10 14:41:26</td>\n",
       "    </tr>\n",
       "    <tr>\n",
       "      <th>1000042</th>\n",
       "      <td>6040</td>\n",
       "      <td>1221</td>\n",
       "      <td>4</td>\n",
       "      <td>2001-08-20 13:44:15</td>\n",
       "    </tr>\n",
       "  </tbody>\n",
       "</table>\n",
       "<p>471163 rows × 4 columns</p>\n",
       "</div>"
      ],
      "text/plain": [
       "         UserId  ItemId  Rating                Time\n",
       "31            1    3186       4 2000-12-31 22:00:19\n",
       "22            1    1270       5 2000-12-31 22:00:55\n",
       "24            1    2340       3 2000-12-31 22:01:43\n",
       "36            1    1836       5 2000-12-31 22:02:52\n",
       "3             1    3408       4 2000-12-31 22:04:35\n",
       "...         ...     ...     ...                 ...\n",
       "999923     6040     232       5 2001-08-10 14:39:58\n",
       "1000019    6040    2917       4 2001-08-10 14:40:29\n",
       "999988     6040    1921       4 2001-08-10 14:41:04\n",
       "1000167    6040     161       3 2001-08-10 14:41:26\n",
       "1000042    6040    1221       4 2001-08-20 13:44:15\n",
       "\n",
       "[471163 rows x 4 columns]"
      ]
     },
     "execution_count": 428,
     "metadata": {},
     "output_type": "execute_result"
    }
   ],
   "source": [
    "data=data.drop_duplicates(subset=['UserId', 'Time'], keep='first')\n",
    "data"
   ]
  },
  {
   "cell_type": "markdown",
   "metadata": {},
   "source": [
    "Rating이 낮은 경우는 추천하지 않고, Rating 이 높은 4, 5만 추천하도록 한다."
   ]
  },
  {
   "cell_type": "code",
   "execution_count": 429,
   "metadata": {
    "scrolled": false
   },
   "outputs": [
    {
     "data": {
      "text/html": [
       "<div>\n",
       "<style scoped>\n",
       "    .dataframe tbody tr th:only-of-type {\n",
       "        vertical-align: middle;\n",
       "    }\n",
       "\n",
       "    .dataframe tbody tr th {\n",
       "        vertical-align: top;\n",
       "    }\n",
       "\n",
       "    .dataframe thead th {\n",
       "        text-align: right;\n",
       "    }\n",
       "</style>\n",
       "<table border=\"1\" class=\"dataframe\">\n",
       "  <thead>\n",
       "    <tr style=\"text-align: right;\">\n",
       "      <th></th>\n",
       "      <th>UserId</th>\n",
       "      <th>ItemId</th>\n",
       "      <th>Rating</th>\n",
       "      <th>Time</th>\n",
       "    </tr>\n",
       "  </thead>\n",
       "  <tbody>\n",
       "    <tr>\n",
       "      <th>31</th>\n",
       "      <td>1</td>\n",
       "      <td>3186</td>\n",
       "      <td>4</td>\n",
       "      <td>2000-12-31 22:00:19</td>\n",
       "    </tr>\n",
       "    <tr>\n",
       "      <th>22</th>\n",
       "      <td>1</td>\n",
       "      <td>1270</td>\n",
       "      <td>5</td>\n",
       "      <td>2000-12-31 22:00:55</td>\n",
       "    </tr>\n",
       "    <tr>\n",
       "      <th>36</th>\n",
       "      <td>1</td>\n",
       "      <td>1836</td>\n",
       "      <td>5</td>\n",
       "      <td>2000-12-31 22:02:52</td>\n",
       "    </tr>\n",
       "    <tr>\n",
       "      <th>3</th>\n",
       "      <td>1</td>\n",
       "      <td>3408</td>\n",
       "      <td>4</td>\n",
       "      <td>2000-12-31 22:04:35</td>\n",
       "    </tr>\n",
       "    <tr>\n",
       "      <th>7</th>\n",
       "      <td>1</td>\n",
       "      <td>2804</td>\n",
       "      <td>5</td>\n",
       "      <td>2000-12-31 22:11:59</td>\n",
       "    </tr>\n",
       "    <tr>\n",
       "      <th>...</th>\n",
       "      <td>...</td>\n",
       "      <td>...</td>\n",
       "      <td>...</td>\n",
       "      <td>...</td>\n",
       "    </tr>\n",
       "    <tr>\n",
       "      <th>1000119</th>\n",
       "      <td>6040</td>\n",
       "      <td>3671</td>\n",
       "      <td>4</td>\n",
       "      <td>2001-08-10 14:39:27</td>\n",
       "    </tr>\n",
       "    <tr>\n",
       "      <th>999923</th>\n",
       "      <td>6040</td>\n",
       "      <td>232</td>\n",
       "      <td>5</td>\n",
       "      <td>2001-08-10 14:39:58</td>\n",
       "    </tr>\n",
       "    <tr>\n",
       "      <th>1000019</th>\n",
       "      <td>6040</td>\n",
       "      <td>2917</td>\n",
       "      <td>4</td>\n",
       "      <td>2001-08-10 14:40:29</td>\n",
       "    </tr>\n",
       "    <tr>\n",
       "      <th>999988</th>\n",
       "      <td>6040</td>\n",
       "      <td>1921</td>\n",
       "      <td>4</td>\n",
       "      <td>2001-08-10 14:41:04</td>\n",
       "    </tr>\n",
       "    <tr>\n",
       "      <th>1000042</th>\n",
       "      <td>6040</td>\n",
       "      <td>1221</td>\n",
       "      <td>4</td>\n",
       "      <td>2001-08-20 13:44:15</td>\n",
       "    </tr>\n",
       "  </tbody>\n",
       "</table>\n",
       "<p>273182 rows × 4 columns</p>\n",
       "</div>"
      ],
      "text/plain": [
       "         UserId  ItemId  Rating                Time\n",
       "31            1    3186       4 2000-12-31 22:00:19\n",
       "22            1    1270       5 2000-12-31 22:00:55\n",
       "36            1    1836       5 2000-12-31 22:02:52\n",
       "3             1    3408       4 2000-12-31 22:04:35\n",
       "7             1    2804       5 2000-12-31 22:11:59\n",
       "...         ...     ...     ...                 ...\n",
       "1000119    6040    3671       4 2001-08-10 14:39:27\n",
       "999923     6040     232       5 2001-08-10 14:39:58\n",
       "1000019    6040    2917       4 2001-08-10 14:40:29\n",
       "999988     6040    1921       4 2001-08-10 14:41:04\n",
       "1000042    6040    1221       4 2001-08-20 13:44:15\n",
       "\n",
       "[273182 rows x 4 columns]"
      ]
     },
     "execution_count": 429,
     "metadata": {},
     "output_type": "execute_result"
    }
   ],
   "source": [
    "idx_rating = data[data['Rating']<4].index\n",
    "data = data.drop(idx_rating)\n",
    "data"
   ]
  },
  {
   "cell_type": "markdown",
   "metadata": {},
   "source": [
    "인기가 없는 item은 삭제하도록 한다. 5이하의 클릭을 받은 item은 제거한다. "
   ]
  },
  {
   "cell_type": "code",
   "execution_count": 430,
   "metadata": {},
   "outputs": [],
   "source": [
    "def cleanse_unpopular_item(data: pd.DataFrame, least_click):\n",
    "    item_popular = data.groupby('ItemId').size()\n",
    "    item_use = item_popular[item_popular >= least_click].index\n",
    "    data = data[data['ItemId'].isin(item_use)]\n",
    "    return data"
   ]
  },
  {
   "cell_type": "code",
   "execution_count": 431,
   "metadata": {},
   "outputs": [
    {
     "data": {
      "text/html": [
       "<div>\n",
       "<style scoped>\n",
       "    .dataframe tbody tr th:only-of-type {\n",
       "        vertical-align: middle;\n",
       "    }\n",
       "\n",
       "    .dataframe tbody tr th {\n",
       "        vertical-align: top;\n",
       "    }\n",
       "\n",
       "    .dataframe thead th {\n",
       "        text-align: right;\n",
       "    }\n",
       "</style>\n",
       "<table border=\"1\" class=\"dataframe\">\n",
       "  <thead>\n",
       "    <tr style=\"text-align: right;\">\n",
       "      <th></th>\n",
       "      <th>UserId</th>\n",
       "      <th>ItemId</th>\n",
       "      <th>Rating</th>\n",
       "      <th>Time</th>\n",
       "    </tr>\n",
       "  </thead>\n",
       "  <tbody>\n",
       "    <tr>\n",
       "      <th>31</th>\n",
       "      <td>1</td>\n",
       "      <td>3186</td>\n",
       "      <td>4</td>\n",
       "      <td>2000-12-31 22:00:19</td>\n",
       "    </tr>\n",
       "    <tr>\n",
       "      <th>22</th>\n",
       "      <td>1</td>\n",
       "      <td>1270</td>\n",
       "      <td>5</td>\n",
       "      <td>2000-12-31 22:00:55</td>\n",
       "    </tr>\n",
       "    <tr>\n",
       "      <th>36</th>\n",
       "      <td>1</td>\n",
       "      <td>1836</td>\n",
       "      <td>5</td>\n",
       "      <td>2000-12-31 22:02:52</td>\n",
       "    </tr>\n",
       "    <tr>\n",
       "      <th>3</th>\n",
       "      <td>1</td>\n",
       "      <td>3408</td>\n",
       "      <td>4</td>\n",
       "      <td>2000-12-31 22:04:35</td>\n",
       "    </tr>\n",
       "    <tr>\n",
       "      <th>7</th>\n",
       "      <td>1</td>\n",
       "      <td>2804</td>\n",
       "      <td>5</td>\n",
       "      <td>2000-12-31 22:11:59</td>\n",
       "    </tr>\n",
       "    <tr>\n",
       "      <th>...</th>\n",
       "      <td>...</td>\n",
       "      <td>...</td>\n",
       "      <td>...</td>\n",
       "      <td>...</td>\n",
       "    </tr>\n",
       "    <tr>\n",
       "      <th>1000119</th>\n",
       "      <td>6040</td>\n",
       "      <td>3671</td>\n",
       "      <td>4</td>\n",
       "      <td>2001-08-10 14:39:27</td>\n",
       "    </tr>\n",
       "    <tr>\n",
       "      <th>999923</th>\n",
       "      <td>6040</td>\n",
       "      <td>232</td>\n",
       "      <td>5</td>\n",
       "      <td>2001-08-10 14:39:58</td>\n",
       "    </tr>\n",
       "    <tr>\n",
       "      <th>1000019</th>\n",
       "      <td>6040</td>\n",
       "      <td>2917</td>\n",
       "      <td>4</td>\n",
       "      <td>2001-08-10 14:40:29</td>\n",
       "    </tr>\n",
       "    <tr>\n",
       "      <th>999988</th>\n",
       "      <td>6040</td>\n",
       "      <td>1921</td>\n",
       "      <td>4</td>\n",
       "      <td>2001-08-10 14:41:04</td>\n",
       "    </tr>\n",
       "    <tr>\n",
       "      <th>1000042</th>\n",
       "      <td>6040</td>\n",
       "      <td>1221</td>\n",
       "      <td>4</td>\n",
       "      <td>2001-08-20 13:44:15</td>\n",
       "    </tr>\n",
       "  </tbody>\n",
       "</table>\n",
       "<p>271785 rows × 4 columns</p>\n",
       "</div>"
      ],
      "text/plain": [
       "         UserId  ItemId  Rating                Time\n",
       "31            1    3186       4 2000-12-31 22:00:19\n",
       "22            1    1270       5 2000-12-31 22:00:55\n",
       "36            1    1836       5 2000-12-31 22:02:52\n",
       "3             1    3408       4 2000-12-31 22:04:35\n",
       "7             1    2804       5 2000-12-31 22:11:59\n",
       "...         ...     ...     ...                 ...\n",
       "1000119    6040    3671       4 2001-08-10 14:39:27\n",
       "999923     6040     232       5 2001-08-10 14:39:58\n",
       "1000019    6040    2917       4 2001-08-10 14:40:29\n",
       "999988     6040    1921       4 2001-08-10 14:41:04\n",
       "1000042    6040    1221       4 2001-08-20 13:44:15\n",
       "\n",
       "[271785 rows x 4 columns]"
      ]
     },
     "execution_count": 431,
     "metadata": {},
     "output_type": "execute_result"
    }
   ],
   "source": [
    "data = cleanse_unpopular_item(data, least_click=5)\n",
    "data"
   ]
  },
  {
   "cell_type": "markdown",
   "metadata": {},
   "source": [
    "### 1.2. Train/ Valid/ Test split   \n",
    "Time별로 정렬한 후 Split한다. "
   ]
  },
  {
   "cell_type": "code",
   "execution_count": 432,
   "metadata": {},
   "outputs": [
    {
     "data": {
      "text/plain": [
       "(271785, 4)"
      ]
     },
     "execution_count": 432,
     "metadata": {},
     "output_type": "execute_result"
    }
   ],
   "source": [
    "data.sort_values(by=['Time'], inplace=True) \n",
    "data.shape"
   ]
  },
  {
   "cell_type": "markdown",
   "metadata": {},
   "source": [
    "(1) 방식\n",
    "split_by_date() 함수를 사용해 마지막의 하루씩을 각각 test, val로 split "
   ]
  },
  {
   "cell_type": "code",
   "execution_count": 417,
   "metadata": {},
   "outputs": [],
   "source": [
    "def split_by_date(data: pd.DataFrame, n_days: int):\n",
    "    final_time = data['Time'].max()\n",
    "    session_last_time = data.groupby('UserId')['Time'].max()\n",
    "    session_in_train = session_last_time[session_last_time < final_time - dt.timedelta(n_days)].index\n",
    "    session_in_test = session_last_time[session_last_time >= final_time - dt.timedelta(n_days)].index\n",
    "\n",
    "    before_date = data[data['UserId'].isin(session_in_train)]\n",
    "    after_date = data[data['UserId'].isin(session_in_test)]\n",
    "    after_date = after_date[after_date['ItemId'].isin(before_date['ItemId'])]\n",
    "    return before_date, after_date"
   ]
  },
  {
   "cell_type": "code",
   "execution_count": 422,
   "metadata": {},
   "outputs": [],
   "source": [
    "tr, test = split_by_date(data, n_days=1)\n",
    "tr, val = split_by_date(tr, n_days=1)"
   ]
  },
  {
   "cell_type": "markdown",
   "metadata": {},
   "source": [
    "(2) 정렬된 time을 기준으로 데이터를 나눔"
   ]
  },
  {
   "cell_type": "code",
   "execution_count": 433,
   "metadata": {},
   "outputs": [],
   "source": [
    "# split\n",
    "tr = data[:250000]\n",
    "val = data[250000:270000]\n",
    "test = data[270000:]"
   ]
  },
  {
   "cell_type": "code",
   "execution_count": 434,
   "metadata": {},
   "outputs": [],
   "source": [
    "# data에 대한 정보를 살펴봅니다.\n",
    "def stats_info(data: pd.DataFrame, status: str):\n",
    "    print(f'* {status} Set Stats Info\\n'\n",
    "          f'\\t Events: {len(data)}\\n'\n",
    "          f'\\t Users: {data[\"UserId\"].nunique()}\\n'\n",
    "          f'\\t Items: {data[\"ItemId\"].nunique()}\\n'\n",
    "          f'\\t First Time : {data[\"Time\"].min()}\\n'\n",
    "          f'\\t Last Time : {data[\"Time\"].max()}\\n')    "
   ]
  },
  {
   "cell_type": "code",
   "execution_count": 435,
   "metadata": {},
   "outputs": [
    {
     "name": "stdout",
     "output_type": "stream",
     "text": [
      "* train Set Stats Info\n",
      "\t Events: 250000\n",
      "\t Users: 6022\n",
      "\t Items: 2793\n",
      "\t First Time : 2000-04-25 23:05:32\n",
      "\t Last Time : 2001-04-12 14:37:03\n",
      "\n",
      "* valid Set Stats Info\n",
      "\t Events: 20000\n",
      "\t Users: 859\n",
      "\t Items: 2392\n",
      "\t First Time : 2001-04-12 15:31:22\n",
      "\t Last Time : 2002-12-01 18:04:52\n",
      "\n",
      "* test Set Stats Info\n",
      "\t Events: 1785\n",
      "\t Users: 202\n",
      "\t Items: 993\n",
      "\t First Time : 2002-12-01 18:06:13\n",
      "\t Last Time : 2003-02-28 17:49:50\n",
      "\n"
     ]
    }
   ],
   "source": [
    "stats_info(tr, 'train')\n",
    "stats_info(val, 'valid')\n",
    "stats_info(test, 'test')"
   ]
  },
  {
   "cell_type": "markdown",
   "metadata": {},
   "source": [
    "itemId 유일값으로 index를 부여한다."
   ]
  },
  {
   "cell_type": "code",
   "execution_count": 400,
   "metadata": {},
   "outputs": [],
   "source": [
    "# train set에 없는 아이템이 val, test기간에 생길 수 있으므로 train data를 기준으로 인덱싱합니다.\n",
    "id2idx = {item_id : index for index, item_id in enumerate(tr['ItemId'].unique())}\n",
    "\n",
    "def indexing(df, id2idx):\n",
    "    df['item_idx'] = df['ItemId'].map(lambda x: id2idx.get(x, -1))  # id2idx에 없는 아이템은 모르는 값(-1) 처리 해줍니다.\n",
    "    return df\n",
    "\n",
    "tr = indexing(tr, id2idx)\n",
    "val = indexing(val, id2idx)\n",
    "test = indexing(test, id2idx)"
   ]
  },
  {
   "cell_type": "code",
   "execution_count": 361,
   "metadata": {},
   "outputs": [
    {
     "data": {
      "text/html": [
       "<div>\n",
       "<style scoped>\n",
       "    .dataframe tbody tr th:only-of-type {\n",
       "        vertical-align: middle;\n",
       "    }\n",
       "\n",
       "    .dataframe tbody tr th {\n",
       "        vertical-align: top;\n",
       "    }\n",
       "\n",
       "    .dataframe thead th {\n",
       "        text-align: right;\n",
       "    }\n",
       "</style>\n",
       "<table border=\"1\" class=\"dataframe\">\n",
       "  <thead>\n",
       "    <tr style=\"text-align: right;\">\n",
       "      <th></th>\n",
       "      <th>UserId</th>\n",
       "      <th>ItemId</th>\n",
       "      <th>Rating</th>\n",
       "      <th>Time</th>\n",
       "      <th>item_idx</th>\n",
       "    </tr>\n",
       "  </thead>\n",
       "  <tbody>\n",
       "    <tr>\n",
       "      <th>1000138</th>\n",
       "      <td>6040</td>\n",
       "      <td>858</td>\n",
       "      <td>4</td>\n",
       "      <td>2000-04-25 23:05:32</td>\n",
       "      <td>0</td>\n",
       "    </tr>\n",
       "    <tr>\n",
       "      <th>999873</th>\n",
       "      <td>6040</td>\n",
       "      <td>593</td>\n",
       "      <td>5</td>\n",
       "      <td>2000-04-25 23:05:54</td>\n",
       "      <td>1</td>\n",
       "    </tr>\n",
       "    <tr>\n",
       "      <th>1000007</th>\n",
       "      <td>6040</td>\n",
       "      <td>1961</td>\n",
       "      <td>4</td>\n",
       "      <td>2000-04-25 23:06:17</td>\n",
       "      <td>2</td>\n",
       "    </tr>\n",
       "    <tr>\n",
       "      <th>999868</th>\n",
       "      <td>6040</td>\n",
       "      <td>573</td>\n",
       "      <td>4</td>\n",
       "      <td>2000-04-25 23:07:36</td>\n",
       "      <td>3</td>\n",
       "    </tr>\n",
       "    <tr>\n",
       "      <th>999884</th>\n",
       "      <td>6040</td>\n",
       "      <td>912</td>\n",
       "      <td>5</td>\n",
       "      <td>2000-04-25 23:09:51</td>\n",
       "      <td>4</td>\n",
       "    </tr>\n",
       "    <tr>\n",
       "      <th>...</th>\n",
       "      <td>...</td>\n",
       "      <td>...</td>\n",
       "      <td>...</td>\n",
       "      <td>...</td>\n",
       "      <td>...</td>\n",
       "    </tr>\n",
       "    <tr>\n",
       "      <th>240864</th>\n",
       "      <td>1451</td>\n",
       "      <td>2202</td>\n",
       "      <td>4</td>\n",
       "      <td>2001-04-12 04:12:17</td>\n",
       "      <td>741</td>\n",
       "    </tr>\n",
       "    <tr>\n",
       "      <th>241141</th>\n",
       "      <td>1451</td>\n",
       "      <td>2857</td>\n",
       "      <td>5</td>\n",
       "      <td>2001-04-12 04:14:35</td>\n",
       "      <td>148</td>\n",
       "    </tr>\n",
       "    <tr>\n",
       "      <th>27773</th>\n",
       "      <td>195</td>\n",
       "      <td>588</td>\n",
       "      <td>5</td>\n",
       "      <td>2001-04-12 05:46:43</td>\n",
       "      <td>44</td>\n",
       "    </tr>\n",
       "    <tr>\n",
       "      <th>635661</th>\n",
       "      <td>3832</td>\n",
       "      <td>3897</td>\n",
       "      <td>4</td>\n",
       "      <td>2001-04-12 13:40:32</td>\n",
       "      <td>2716</td>\n",
       "    </tr>\n",
       "    <tr>\n",
       "      <th>21361</th>\n",
       "      <td>157</td>\n",
       "      <td>3007</td>\n",
       "      <td>4</td>\n",
       "      <td>2001-04-12 14:37:03</td>\n",
       "      <td>1134</td>\n",
       "    </tr>\n",
       "  </tbody>\n",
       "</table>\n",
       "<p>250000 rows × 5 columns</p>\n",
       "</div>"
      ],
      "text/plain": [
       "         UserId  ItemId  Rating                Time  item_idx\n",
       "1000138    6040     858       4 2000-04-25 23:05:32         0\n",
       "999873     6040     593       5 2000-04-25 23:05:54         1\n",
       "1000007    6040    1961       4 2000-04-25 23:06:17         2\n",
       "999868     6040     573       4 2000-04-25 23:07:36         3\n",
       "999884     6040     912       5 2000-04-25 23:09:51         4\n",
       "...         ...     ...     ...                 ...       ...\n",
       "240864     1451    2202       4 2001-04-12 04:12:17       741\n",
       "241141     1451    2857       5 2001-04-12 04:14:35       148\n",
       "27773       195     588       5 2001-04-12 05:46:43        44\n",
       "635661     3832    3897       4 2001-04-12 13:40:32      2716\n",
       "21361       157    3007       4 2001-04-12 14:37:03      1134\n",
       "\n",
       "[250000 rows x 5 columns]"
      ]
     },
     "execution_count": 361,
     "metadata": {},
     "output_type": "execute_result"
    }
   ],
   "source": [
    "tr"
   ]
  },
  {
   "cell_type": "markdown",
   "metadata": {},
   "source": [
    "전처리한 데이터셋 저장하기"
   ]
  },
  {
   "cell_type": "code",
   "execution_count": 362,
   "metadata": {},
   "outputs": [],
   "source": [
    "save_path = data_path / 'processed_pj'\n",
    "save_path.mkdir(parents=True, exist_ok=True)\n",
    "\n",
    "tr.to_pickle(save_path / 'train.pkl')\n",
    "val.to_pickle(save_path / 'valid.pkl')\n",
    "test.to_pickle(save_path / 'test.pkl')"
   ]
  },
  {
   "cell_type": "markdown",
   "metadata": {},
   "source": [
    "## Step 2. 미니 배치의 구성\n",
    "`Step설명 : 실습코드 내역을 참고하여 데이터셋과 미니 배치를 구성해 봅시다. Session-Parallel Mini-Batch의 개념에 따라, 학습 속도의 저하가 최소화될 수 있도록 구성합니다. 단, 위 Step 1에서 Session 단위를 어떻게 정의했느냐에 따라서 Session-Parallel Mini-Batch이 굳이 필요하지 않을 수도 있습니다.`\n",
    "\n"
   ]
  },
  {
   "cell_type": "markdown",
   "metadata": {},
   "source": [
    "전처리한 데이터셋 불러오기"
   ]
  },
  {
   "cell_type": "code",
   "execution_count": 411,
   "metadata": {},
   "outputs": [],
   "source": [
    "import pickle\n",
    "from pathlib import Path\n",
    "import os\n",
    "\n",
    "data_path = Path(os.getenv('HOME')+'/aiffel/yoochoose-data/processed_pj/processed_pj') \n",
    "train_path = data_path / 'train.pkl'\n",
    "val_path = data_path / 'valid.pkl'\n",
    "test_path = data_path / 'test.pkl'\n",
    "\n",
    "# load\n",
    "with open(train_path, 'rb') as f:\n",
    "    tr = pickle.load(f)\n",
    "    \n",
    "# load\n",
    "with open(val_path, 'rb') as f:\n",
    "    val = pickle.load(f)\n",
    "    \n",
    "# load\n",
    "with open(test_path, 'rb') as f:\n",
    "    test = pickle.load(f)    "
   ]
  },
  {
   "cell_type": "markdown",
   "metadata": {},
   "source": [
    "### 3-1. Indexing"
   ]
  },
  {
   "cell_type": "markdown",
   "metadata": {},
   "source": [
    "click_offsets : UserId를 기준으로 rating을 부여한 Time이 처음 발생한때부터 끝난 Time까지 offsets를 만든다.  \n",
    "seesion_idx : UserId를 기준으로 group을 형성해 index를 부여한다. "
   ]
  },
  {
   "cell_type": "code",
   "execution_count": 401,
   "metadata": {},
   "outputs": [],
   "source": [
    "# UserId로 offsets\n",
    "class SessionDataset:\n",
    "    \"\"\"Credit to yhs-968/pyGRU4REC.\"\"\"\n",
    "\n",
    "    def __init__(self, data):\n",
    "        self.df = data\n",
    "        self.click_offsets = self.get_click_offsets()\n",
    "        self.session_idx = np.arange(self.df['UserId'].nunique())  # indexing to SessionId\n",
    "\n",
    "    def get_click_offsets(self):\n",
    "        \"\"\"\n",
    "        Return the indexes of the first click of each session IDs,\n",
    "        \"\"\"\n",
    "        offsets = np.zeros(self.df['UserId'].nunique() + 1, dtype=np.int32)\n",
    "        offsets[1:] = self.df.groupby('UserId').size().cumsum()\n",
    "        return offsets"
   ]
  },
  {
   "cell_type": "markdown",
   "metadata": {},
   "source": [
    "### 3-2. SessionDataLoader  \n",
    "SessionDataset에서 만는 click_offsets과 session_idx를 이용해 미니배치를 만든다.   \n",
    "`__iter__` 를 통해 반복자를 만든 후 훈련시 꺼내쓴다. "
   ]
  },
  {
   "cell_type": "code",
   "execution_count": 367,
   "metadata": {},
   "outputs": [],
   "source": [
    "class SessionDataLoader:\n",
    "    \"\"\"Credit to yhs-968/pyGRU4REC.\"\"\"\n",
    "\n",
    "    def __init__(self, dataset: SessionDataset, batch_size=50):\n",
    "        self.dataset = dataset\n",
    "        self.batch_size = batch_size\n",
    "\n",
    "    def __iter__(self):\n",
    "        \"\"\" Returns the iterator for producing session-parallel training mini-batches.\n",
    "        Yields:\n",
    "            input (B,):  Item indices that will be encoded as one-hot vectors later.\n",
    "            target (B,): a Variable that stores the target item indices\n",
    "            masks: Numpy array indicating the positions of the sessions to be terminated\n",
    "        \"\"\"\n",
    "\n",
    "        start, end, mask, last_session, finished = self.initialize()  # initialize 메소드에서 확인해주세요.\n",
    "        \"\"\"\n",
    "        start : Index Where Session Start\n",
    "        end : Index Where Session End\n",
    "        mask : indicator for the sessions to be terminated\n",
    "        \"\"\"\n",
    "\n",
    "        while not finished:\n",
    "            min_len = (end - start).min() - 1  # Shortest Length Among Sessions\n",
    "            for i in range(min_len):\n",
    "                # Build inputs & targets\n",
    "                inp = self.dataset.df['item_idx'].values[start + i]\n",
    "                target = self.dataset.df['item_idx'].values[start + i + 1]\n",
    "                yield inp, target, mask\n",
    "\n",
    "            start, end, mask, last_session, finished = self.update_status(start, end, min_len, last_session, finished)\n",
    "\n",
    "    def initialize(self):\n",
    "        first_iters = np.arange(self.batch_size)    # 첫 배치에 사용할 세션 Index를 가져옵니다.\n",
    "        last_session = self.batch_size - 1    # 마지막으로 다루고 있는 세션 Index를 저장해둡니다.\n",
    "        \n",
    "        start = self.dataset.click_offsets[self.dataset.session_idx[first_iters]]       # data 상에서 session이 시작된 위치를 가져옵니다.\n",
    "        end = self.dataset.click_offsets[self.dataset.session_idx[first_iters] + 1]  # session이 끝난 위치 바로 다음 위치를 가져옵니다.\n",
    "        \n",
    "        mask = np.array([])   # session의 모든 아이템을 다 돌은 경우 mask에 추가해줄 것입니다.\n",
    "        finished = False         # data를 전부 돌았는지 기록하기 위한 변수입니다.\n",
    "        return start, end, mask, last_session, finished\n",
    "\n",
    "    def update_status(self, start: np.ndarray, end: np.ndarray, min_len: int, last_session: int, finished: bool):  \n",
    "        # 다음 배치 데이터를 생성하기 위해 상태를 update합니다.\n",
    "        \n",
    "        start += min_len   # __iter__에서 min_len 만큼 for문을 돌았으므로 start를 min_len 만큼 더해줍니다.\n",
    "        mask = np.arange(self.batch_size)[(end - start) == 1]  \n",
    "        # end는 다음 세션이 시작되는 위치인데 start와 한 칸 차이난다는 것은 session이 끝났다는 뜻입니다. mask에 기록해줍니다.\n",
    "\n",
    "        for i, idx in enumerate(mask, start=1):  # mask에 추가된 세션 개수만큼 새로운 세션을 돌것입니다.\n",
    "            new_session = last_session + i  \n",
    "            if new_session > self.dataset.session_idx[-1]:  # 만약 새로운 세션이 마지막 세션 index보다 크다면 모든 학습데이터를 돈 것입니다.\n",
    "                finished = True\n",
    "                break\n",
    "            # update the next starting/ending point\n",
    "            start[idx] = self.dataset.click_offsets[self.dataset.session_idx[new_session]]     # 종료된 세션 대신 새로운 세션의 시작점을 기록합니다.\n",
    "            end[idx] = self.dataset.click_offsets[self.dataset.session_idx[new_session] + 1]\n",
    "\n",
    "        last_session += len(mask)  # 마지막 세션의 위치를 기록해둡니다.\n",
    "        return start, end, mask, last_session, finished"
   ]
  },
  {
   "cell_type": "markdown",
   "metadata": {},
   "source": [
    "## Step 3. 모델 구성\n",
    "`Step설명 : 이 부분도 실습코드 내역을 참고하여 다양하게 모델 구조를 시도해볼 수 있습니다.`"
   ]
  },
  {
   "cell_type": "markdown",
   "metadata": {},
   "source": [
    "### 3-1 Evaluation Metric  \n",
    "Recall과 MRR 을 평가로 삼는다. "
   ]
  },
  {
   "cell_type": "code",
   "execution_count": 368,
   "metadata": {},
   "outputs": [],
   "source": [
    "def mrr_k(pred, truth: int, k: int):\n",
    "    indexing = np.where(pred[:k] == truth)[0]\n",
    "    if len(indexing) > 0:\n",
    "        return 1 / (indexing[0] + 1)\n",
    "    else:\n",
    "        return 0\n",
    "\n",
    "\n",
    "def recall_k(pred, truth: int, k: int) -> int:\n",
    "    answer = truth in pred[:k]\n",
    "    return int(answer)"
   ]
  },
  {
   "cell_type": "markdown",
   "metadata": {},
   "source": [
    "### 3-2 Model Arcitecture  \n",
    "모델을 만들고 파라미터를 세팅한다. "
   ]
  },
  {
   "cell_type": "code",
   "execution_count": 369,
   "metadata": {},
   "outputs": [],
   "source": [
    "import numpy as np\n",
    "import tensorflow as tf\n",
    "from tensorflow.keras.layers import Input, Dense, Dropout, GRU\n",
    "from tensorflow.keras.losses import categorical_crossentropy\n",
    "from tensorflow.keras.models import Model\n",
    "from tensorflow.keras.optimizers import Adam\n",
    "from tensorflow.keras.utils import to_categorical\n",
    "from tqdm import tqdm"
   ]
  },
  {
   "cell_type": "code",
   "execution_count": 402,
   "metadata": {},
   "outputs": [],
   "source": [
    "def create_model(args):\n",
    "    inputs = Input(batch_shape=(args.batch_size, 1, args.num_items))\n",
    "    gru, _ = GRU(args.hsz, stateful=True, return_state=True, name='GRU')(inputs)\n",
    "    dropout = Dropout(args.drop_rate)(gru)\n",
    "    predictions = Dense(args.num_items, activation='softmax')(dropout)\n",
    "    model = Model(inputs=inputs, outputs=[predictions])\n",
    "    model.compile(loss=categorical_crossentropy, optimizer=Adam(args.lr), metrics=['accuracy'])\n",
    "    model.summary()\n",
    "    return model"
   ]
  },
  {
   "cell_type": "code",
   "execution_count": 403,
   "metadata": {},
   "outputs": [],
   "source": [
    "class Args:\n",
    "    def __init__(self, tr, val, test, batch_size, hsz, drop_rate, lr, epochs, k):\n",
    "        self.tr = tr\n",
    "        self.val = val\n",
    "        self.test = test\n",
    "        self.num_items = tr['ItemId'].nunique()\n",
    "        self.num_sessions = tr['UserId'].nunique()\n",
    "        self.batch_size = batch_size\n",
    "        self.hsz = hsz\n",
    "        self.drop_rate = drop_rate\n",
    "        self.lr = lr\n",
    "        self.epochs = epochs\n",
    "        self.k = k\n"
   ]
  },
  {
   "cell_type": "markdown",
   "metadata": {},
   "source": [
    "## Step 4. 모델 학습\n",
    "`Step설명 : 다양한 하이퍼파라미터를 변경해 보며 검증해 보도록 합니다. 실습코드에 언급되었던 Recall, MRR 등의 개념들도 함께 관리될 수 있도록 합니다.`"
   ]
  },
  {
   "cell_type": "code",
   "execution_count": null,
   "metadata": {},
   "outputs": [],
   "source": [
    "# SessionId -> UserId\n",
    "def train_model(model, args):\n",
    "    train_dataset = SessionDataset(args.tr)\n",
    "    train_loader = SessionDataLoader(train_dataset, batch_size=args.batch_size)\n",
    "\n",
    "    for epoch in range(1, args.epochs + 1):\n",
    "        total_step = len(args.tr) - args.tr['UserId'].nunique()\n",
    "        tr_loader = tqdm(train_loader, total=total_step // args.batch_size, desc='Train', mininterval=1)\n",
    "        for feat, target, mask in tr_loader:\n",
    "            reset_hidden_states(model, mask)  # 종료된 session은 hidden_state를 초기화합니다. 아래 메서드에서 확인해주세요.\n",
    "\n",
    "            input_ohe = to_categorical(feat, num_classes=args.num_items)\n",
    "            input_ohe = np.expand_dims(input_ohe, axis=1)\n",
    "            target_ohe = to_categorical(target, num_classes=args.num_items)\n",
    "\n",
    "            result = model.train_on_batch(input_ohe, target_ohe)\n",
    "            tr_loader.set_postfix(train_loss=result[0], accuracy = result[1])\n",
    "\n",
    "        val_recall, val_mrr = get_metrics(args.val, model, args, args.k)  # valid set에 대해 검증합니다.\n",
    "\n",
    "        print(f\"\\t - Recall@{args.k} epoch {epoch}: {val_recall:3f}\")\n",
    "        print(f\"\\t - MRR@{args.k}    epoch {epoch}: {val_mrr:3f}\\n\")\n",
    "\n",
    "\n",
    "def reset_hidden_states(model, mask):\n",
    "    gru_layer = model.get_layer(name='GRU')  # model에서 gru layer를 가져옵니다.\n",
    "    hidden_states = gru_layer.states[0].numpy()  # gru_layer의 parameter를 가져옵니다.\n",
    "    for elt in mask:  # mask된 인덱스 즉, 종료된 세션의 인덱스를 돌면서\n",
    "        hidden_states[elt, :] = 0  # parameter를 초기화 합니다.\n",
    "    gru_layer.reset_states(states=hidden_states)\n",
    "\n",
    "\n",
    "def get_metrics(data, model, args, k: int):  # valid셋과 test셋을 평가하는 코드입니다. \n",
    "                                             # train과 거의 같지만 mrr, recall을 구하는 라인이 있습니다.\n",
    "    dataset = SessionDataset(data)\n",
    "    loader = SessionDataLoader(dataset, batch_size=args.batch_size)\n",
    "    recall_list, mrr_list = [], []\n",
    "\n",
    "    total_step = len(data) - data['UserId'].nunique()\n",
    "    for inputs, label, mask in tqdm(loader, total=total_step // args.batch_size, desc='Evaluation', mininterval=1):\n",
    "        reset_hidden_states(model, mask)\n",
    "        input_ohe = to_categorical(inputs, num_classes=args.num_items)\n",
    "        input_ohe = np.expand_dims(input_ohe, axis=1)\n",
    "\n",
    "        pred = model.predict(input_ohe, batch_size=args.batch_size)\n",
    "        pred_arg = tf.argsort(pred, direction='DESCENDING')  # softmax 값이 큰 순서대로 sorting 합니다.\n",
    "\n",
    "        length = len(inputs)\n",
    "        recall_list.extend([recall_k(pred_arg[i], label[i], k) for i in range(length)])\n",
    "        mrr_list.extend([mrr_k(pred_arg[i], label[i], k) for i in range(length)])\n",
    "\n",
    "    recall, mrr = np.mean(recall_list), np.mean(mrr_list)\n",
    "    return recall, mrr"
   ]
  },
  {
   "cell_type": "markdown",
   "metadata": {},
   "source": [
    "### 4-1. 학습 (1)"
   ]
  },
  {
   "cell_type": "code",
   "execution_count": 380,
   "metadata": {},
   "outputs": [],
   "source": [
    "args = Args(tr, val, test, batch_size=50, hsz=50, drop_rate=0.1, lr=0.001, epochs=10, k=20)"
   ]
  },
  {
   "cell_type": "code",
   "execution_count": 381,
   "metadata": {
    "scrolled": true
   },
   "outputs": [
    {
     "name": "stdout",
     "output_type": "stream",
     "text": [
      "Model: \"model_6\"\n",
      "_________________________________________________________________\n",
      "Layer (type)                 Output Shape              Param #   \n",
      "=================================================================\n",
      "input_7 (InputLayer)         [(50, 1, 2793)]           0         \n",
      "_________________________________________________________________\n",
      "GRU (GRU)                    [(50, 50), (50, 50)]      426750    \n",
      "_________________________________________________________________\n",
      "dropout_6 (Dropout)          (50, 50)                  0         \n",
      "_________________________________________________________________\n",
      "dense_6 (Dense)              (50, 2793)                142443    \n",
      "=================================================================\n",
      "Total params: 569,193\n",
      "Trainable params: 569,193\n",
      "Non-trainable params: 0\n",
      "_________________________________________________________________\n"
     ]
    }
   ],
   "source": [
    "model = create_model(args)"
   ]
  },
  {
   "cell_type": "code",
   "execution_count": 376,
   "metadata": {
    "scrolled": false
   },
   "outputs": [
    {
     "name": "stderr",
     "output_type": "stream",
     "text": [
      "Train:  99%|█████████▉| 4843/4879 [00:34<00:00, 141.67it/s, accuracy=0.02, train_loss=7.43]\n",
      "Evaluation:  94%|█████████▎| 358/382 [01:01<00:04,  5.80it/s]\n",
      "Train:   0%|          | 0/4879 [00:00<?, ?it/s, accuracy=0.02, train_loss=7.09]"
     ]
    },
    {
     "name": "stdout",
     "output_type": "stream",
     "text": [
      "\t - Recall@20 epoch 1: 0.058156\n",
      "\t - MRR@20    epoch 1: 0.012907\n",
      "\n"
     ]
    },
    {
     "name": "stderr",
     "output_type": "stream",
     "text": [
      "Train:  99%|█████████▉| 4843/4879 [00:33<00:00, 146.10it/s, accuracy=0.02, train_loss=7.3] \n",
      "Evaluation:  94%|█████████▎| 358/382 [01:01<00:04,  5.87it/s]\n",
      "Train:   0%|          | 0/4879 [00:00<?, ?it/s, accuracy=0.02, train_loss=6.98]"
     ]
    },
    {
     "name": "stdout",
     "output_type": "stream",
     "text": [
      "\t - Recall@20 epoch 2: 0.069944\n",
      "\t - MRR@20    epoch 2: 0.015115\n",
      "\n"
     ]
    },
    {
     "name": "stderr",
     "output_type": "stream",
     "text": [
      "Train:  99%|█████████▉| 4843/4879 [00:33<00:00, 143.46it/s, accuracy=0.02, train_loss=7.13]\n",
      "Evaluation:  94%|█████████▎| 358/382 [01:00<00:04,  5.87it/s]\n",
      "Train:   0%|          | 0/4879 [00:00<?, ?it/s, accuracy=0.02, train_loss=6.79]"
     ]
    },
    {
     "name": "stdout",
     "output_type": "stream",
     "text": [
      "\t - Recall@20 epoch 3: 0.083184\n",
      "\t - MRR@20    epoch 3: 0.018483\n",
      "\n"
     ]
    },
    {
     "name": "stderr",
     "output_type": "stream",
     "text": [
      "Train:  99%|█████████▉| 4843/4879 [00:33<00:00, 146.71it/s, accuracy=0.04, train_loss=6.93]\n",
      "Evaluation:  94%|█████████▎| 358/382 [01:00<00:04,  5.88it/s]\n",
      "Train:   0%|          | 0/4879 [00:00<?, ?it/s, accuracy=0.02, train_loss=6.69]"
     ]
    },
    {
     "name": "stdout",
     "output_type": "stream",
     "text": [
      "\t - Recall@20 epoch 4: 0.091006\n",
      "\t - MRR@20    epoch 4: 0.021243\n",
      "\n"
     ]
    },
    {
     "name": "stderr",
     "output_type": "stream",
     "text": [
      "Train:  99%|█████████▉| 4843/4879 [00:32<00:00, 148.08it/s, accuracy=0.08, train_loss=6.87]\n",
      "Evaluation:  94%|█████████▎| 358/382 [01:00<00:04,  5.89it/s]\n",
      "Train:   0%|          | 0/4879 [00:00<?, ?it/s, accuracy=0.02, train_loss=6.58]"
     ]
    },
    {
     "name": "stdout",
     "output_type": "stream",
     "text": [
      "\t - Recall@20 epoch 5: 0.092235\n",
      "\t - MRR@20    epoch 5: 0.022006\n",
      "\n"
     ]
    },
    {
     "name": "stderr",
     "output_type": "stream",
     "text": [
      "Train:  99%|█████████▉| 4843/4879 [00:32<00:00, 147.30it/s, accuracy=0.04, train_loss=6.72]\n",
      "Evaluation:  94%|█████████▎| 358/382 [01:01<00:04,  5.87it/s]\n",
      "Train:   0%|          | 0/4879 [00:00<?, ?it/s, accuracy=0.02, train_loss=6.5] "
     ]
    },
    {
     "name": "stdout",
     "output_type": "stream",
     "text": [
      "\t - Recall@20 epoch 6: 0.094525\n",
      "\t - MRR@20    epoch 6: 0.022923\n",
      "\n"
     ]
    },
    {
     "name": "stderr",
     "output_type": "stream",
     "text": [
      "Train:  99%|█████████▉| 4843/4879 [00:32<00:00, 147.02it/s, accuracy=0.04, train_loss=6.69]\n",
      "Evaluation:  94%|█████████▎| 358/382 [01:00<00:04,  5.88it/s]\n",
      "Train:   0%|          | 0/4879 [00:00<?, ?it/s, accuracy=0.02, train_loss=6.49]"
     ]
    },
    {
     "name": "stdout",
     "output_type": "stream",
     "text": [
      "\t - Recall@20 epoch 7: 0.096369\n",
      "\t - MRR@20    epoch 7: 0.023152\n",
      "\n"
     ]
    },
    {
     "name": "stderr",
     "output_type": "stream",
     "text": [
      "Train:  99%|█████████▉| 4843/4879 [00:31<00:00, 151.76it/s, accuracy=0.04, train_loss=6.58]\n",
      "Evaluation:  94%|█████████▎| 358/382 [01:01<00:04,  5.85it/s]\n",
      "Train:   0%|          | 0/4879 [00:00<?, ?it/s, accuracy=0, train_loss=6.72]   "
     ]
    },
    {
     "name": "stdout",
     "output_type": "stream",
     "text": [
      "\t - Recall@20 epoch 8: 0.095084\n",
      "\t - MRR@20    epoch 8: 0.022650\n",
      "\n"
     ]
    },
    {
     "name": "stderr",
     "output_type": "stream",
     "text": [
      "Train:  99%|█████████▉| 4843/4879 [00:31<00:00, 153.06it/s, accuracy=0.02, train_loss=6.55]\n",
      "Evaluation:  94%|█████████▎| 358/382 [01:00<00:04,  5.92it/s]\n",
      "Train:   0%|          | 0/4879 [00:00<?, ?it/s, accuracy=0, train_loss=6.32]   "
     ]
    },
    {
     "name": "stdout",
     "output_type": "stream",
     "text": [
      "\t - Recall@20 epoch 9: 0.094749\n",
      "\t - MRR@20    epoch 9: 0.022727\n",
      "\n"
     ]
    },
    {
     "name": "stderr",
     "output_type": "stream",
     "text": [
      "Train:  99%|█████████▉| 4843/4879 [00:30<00:00, 156.23it/s, accuracy=0.04, train_loss=6.34]\n",
      "Evaluation:  94%|█████████▎| 358/382 [01:00<00:04,  5.94it/s]"
     ]
    },
    {
     "name": "stdout",
     "output_type": "stream",
     "text": [
      "\t - Recall@20 epoch 10: 0.093184\n",
      "\t - MRR@20    epoch 10: 0.022545\n",
      "\n"
     ]
    },
    {
     "name": "stderr",
     "output_type": "stream",
     "text": [
      "\n"
     ]
    }
   ],
   "source": [
    "train_model(model, args)"
   ]
  },
  {
   "cell_type": "code",
   "execution_count": 379,
   "metadata": {},
   "outputs": [
    {
     "name": "stderr",
     "output_type": "stream",
     "text": [
      "Evaluation:  99%|█████████▉| 4843/4879 [04:35<00:02, 17.60it/s]"
     ]
    },
    {
     "name": "stdout",
     "output_type": "stream",
     "text": [
      "\t - Recall@20: 0.060533\n",
      "\t - MRR@20: 0.041459\n",
      "\n"
     ]
    },
    {
     "name": "stderr",
     "output_type": "stream",
     "text": [
      "\n"
     ]
    }
   ],
   "source": [
    "def test_model(model, args, test):\n",
    "    test_recall, test_mrr = get_metrics(tr, model, args, 3)\n",
    "    print(f\"\\t - Recall@{args.k}: {test_recall:3f}\")\n",
    "    print(f\"\\t - MRR@{args.k}: {test_mrr:3f}\\n\")\n",
    "\n",
    "test_model(model, args, test)"
   ]
  },
  {
   "cell_type": "markdown",
   "metadata": {},
   "source": [
    "Recall이 10% 도 나오지 않았다. "
   ]
  },
  {
   "cell_type": "markdown",
   "metadata": {},
   "source": [
    "### 4-2. 학습 (2)  \n",
    "learning rate와 drop_rate를 변경해보았다. "
   ]
  },
  {
   "cell_type": "code",
   "execution_count": 382,
   "metadata": {},
   "outputs": [],
   "source": [
    "args = Args(tr, val, test, batch_size=50, hsz=50, drop_rate=0.2, lr=0.002, epochs=20, k=20)"
   ]
  },
  {
   "cell_type": "code",
   "execution_count": 383,
   "metadata": {
    "scrolled": true
   },
   "outputs": [
    {
     "name": "stdout",
     "output_type": "stream",
     "text": [
      "Model: \"model_7\"\n",
      "_________________________________________________________________\n",
      "Layer (type)                 Output Shape              Param #   \n",
      "=================================================================\n",
      "input_8 (InputLayer)         [(50, 1, 2793)]           0         \n",
      "_________________________________________________________________\n",
      "GRU (GRU)                    [(50, 50), (50, 50)]      426750    \n",
      "_________________________________________________________________\n",
      "dropout_7 (Dropout)          (50, 50)                  0         \n",
      "_________________________________________________________________\n",
      "dense_7 (Dense)              (50, 2793)                142443    \n",
      "=================================================================\n",
      "Total params: 569,193\n",
      "Trainable params: 569,193\n",
      "Non-trainable params: 0\n",
      "_________________________________________________________________\n"
     ]
    }
   ],
   "source": [
    "model = create_model(args)"
   ]
  },
  {
   "cell_type": "code",
   "execution_count": 384,
   "metadata": {
    "scrolled": false
   },
   "outputs": [
    {
     "name": "stderr",
     "output_type": "stream",
     "text": [
      "Train:  99%|█████████▉| 4843/4879 [00:35<00:00, 137.54it/s, accuracy=0.02, train_loss=7.39]\n",
      "Evaluation:  94%|█████████▎| 358/382 [01:03<00:04,  5.66it/s]\n",
      "Train:   0%|          | 0/4879 [00:00<?, ?it/s, accuracy=0.02, train_loss=7.05]"
     ]
    },
    {
     "name": "stdout",
     "output_type": "stream",
     "text": [
      "\t - Recall@20 epoch 1: 0.067933\n",
      "\t - MRR@20    epoch 1: 0.015254\n",
      "\n"
     ]
    },
    {
     "name": "stderr",
     "output_type": "stream",
     "text": [
      "Train:  99%|█████████▉| 4843/4879 [00:33<00:00, 142.83it/s, accuracy=0.02, train_loss=7.18]\n",
      "Evaluation:  94%|█████████▎| 358/382 [01:01<00:04,  5.84it/s]\n",
      "Train:   0%|          | 0/4879 [00:00<?, ?it/s, accuracy=0.04, train_loss=6.76]"
     ]
    },
    {
     "name": "stdout",
     "output_type": "stream",
     "text": [
      "\t - Recall@20 epoch 2: 0.088883\n",
      "\t - MRR@20    epoch 2: 0.020750\n",
      "\n"
     ]
    },
    {
     "name": "stderr",
     "output_type": "stream",
     "text": [
      "Train:  99%|█████████▉| 4843/4879 [00:33<00:00, 145.50it/s, accuracy=0, train_loss=7.04]   \n",
      "Evaluation:  94%|█████████▎| 358/382 [01:00<00:04,  5.90it/s]\n",
      "Train:   0%|          | 0/4879 [00:00<?, ?it/s, accuracy=0.02, train_loss=6.74]"
     ]
    },
    {
     "name": "stdout",
     "output_type": "stream",
     "text": [
      "\t - Recall@20 epoch 3: 0.093464\n",
      "\t - MRR@20    epoch 3: 0.022996\n",
      "\n"
     ]
    },
    {
     "name": "stderr",
     "output_type": "stream",
     "text": [
      "Train:  99%|█████████▉| 4843/4879 [00:32<00:00, 147.64it/s, accuracy=0, train_loss=6.89]   \n",
      "Evaluation:  94%|█████████▎| 358/382 [01:00<00:04,  5.87it/s]\n",
      "Train:   0%|          | 0/4879 [00:00<?, ?it/s, accuracy=0.02, train_loss=6.64]"
     ]
    },
    {
     "name": "stdout",
     "output_type": "stream",
     "text": [
      "\t - Recall@20 epoch 4: 0.096480\n",
      "\t - MRR@20    epoch 4: 0.023600\n",
      "\n"
     ]
    },
    {
     "name": "stderr",
     "output_type": "stream",
     "text": [
      "Train:  99%|█████████▉| 4843/4879 [00:32<00:00, 146.85it/s, accuracy=0.02, train_loss=6.8] \n",
      "Evaluation:  94%|█████████▎| 358/382 [01:01<00:04,  5.86it/s]\n",
      "Train:   0%|          | 0/4879 [00:00<?, ?it/s, accuracy=0.06, train_loss=6.52]"
     ]
    },
    {
     "name": "stdout",
     "output_type": "stream",
     "text": [
      "\t - Recall@20 epoch 5: 0.096145\n",
      "\t - MRR@20    epoch 5: 0.023122\n",
      "\n"
     ]
    },
    {
     "name": "stderr",
     "output_type": "stream",
     "text": [
      "Train:  99%|█████████▉| 4843/4879 [00:32<00:00, 147.32it/s, accuracy=0, train_loss=6.7]    \n",
      "Evaluation:  94%|█████████▎| 358/382 [01:01<00:04,  5.83it/s]\n",
      "Train:   0%|          | 0/4879 [00:00<?, ?it/s, accuracy=0.04, train_loss=6.44]"
     ]
    },
    {
     "name": "stdout",
     "output_type": "stream",
     "text": [
      "\t - Recall@20 epoch 6: 0.093743\n",
      "\t - MRR@20    epoch 6: 0.022711\n",
      "\n"
     ]
    },
    {
     "name": "stderr",
     "output_type": "stream",
     "text": [
      "Train:  99%|█████████▉| 4843/4879 [00:33<00:00, 145.84it/s, accuracy=0.06, train_loss=6.64]\n",
      "Evaluation:  94%|█████████▎| 358/382 [01:00<00:04,  5.88it/s]\n",
      "Train:   0%|          | 0/4879 [00:00<?, ?it/s, accuracy=0.02, train_loss=6.31]"
     ]
    },
    {
     "name": "stdout",
     "output_type": "stream",
     "text": [
      "\t - Recall@20 epoch 7: 0.091453\n",
      "\t - MRR@20    epoch 7: 0.022413\n",
      "\n"
     ]
    },
    {
     "name": "stderr",
     "output_type": "stream",
     "text": [
      "Train:  99%|█████████▉| 4843/4879 [00:33<00:00, 144.99it/s, accuracy=0.06, train_loss=6.67]\n",
      "Evaluation:  94%|█████████▎| 358/382 [01:00<00:04,  5.87it/s]\n",
      "Train:   0%|          | 0/4879 [00:00<?, ?it/s, accuracy=0.04, train_loss=6.29]"
     ]
    },
    {
     "name": "stdout",
     "output_type": "stream",
     "text": [
      "\t - Recall@20 epoch 8: 0.090168\n",
      "\t - MRR@20    epoch 8: 0.021833\n",
      "\n"
     ]
    },
    {
     "name": "stderr",
     "output_type": "stream",
     "text": [
      "Train:  99%|█████████▉| 4843/4879 [00:32<00:00, 147.50it/s, accuracy=0.04, train_loss=6.55]\n",
      "Evaluation:  94%|█████████▎| 358/382 [01:01<00:04,  5.84it/s]\n",
      "Train:   0%|          | 0/4879 [00:00<?, ?it/s, accuracy=0.04, train_loss=6.36]"
     ]
    },
    {
     "name": "stdout",
     "output_type": "stream",
     "text": [
      "\t - Recall@20 epoch 9: 0.089497\n",
      "\t - MRR@20    epoch 9: 0.021447\n",
      "\n"
     ]
    },
    {
     "name": "stderr",
     "output_type": "stream",
     "text": [
      "Train:  99%|█████████▉| 4843/4879 [00:33<00:00, 143.74it/s, accuracy=0.12, train_loss=6.37]\n",
      "Evaluation:  94%|█████████▎| 358/382 [01:01<00:04,  5.80it/s]\n",
      "Train:   0%|          | 0/4879 [00:00<?, ?it/s, accuracy=0.04, train_loss=6.32]"
     ]
    },
    {
     "name": "stdout",
     "output_type": "stream",
     "text": [
      "\t - Recall@20 epoch 10: 0.087709\n",
      "\t - MRR@20    epoch 10: 0.021082\n",
      "\n"
     ]
    },
    {
     "name": "stderr",
     "output_type": "stream",
     "text": [
      "Train:  99%|█████████▉| 4843/4879 [00:34<00:00, 141.32it/s, accuracy=0.06, train_loss=6.24]\n",
      "Evaluation:  94%|█████████▎| 358/382 [01:01<00:04,  5.79it/s]\n",
      "Train:   0%|          | 0/4879 [00:00<?, ?it/s, accuracy=0.02, train_loss=6.05]"
     ]
    },
    {
     "name": "stdout",
     "output_type": "stream",
     "text": [
      "\t - Recall@20 epoch 11: 0.083911\n",
      "\t - MRR@20    epoch 11: 0.020189\n",
      "\n"
     ]
    },
    {
     "name": "stderr",
     "output_type": "stream",
     "text": [
      "Train:  99%|█████████▉| 4843/4879 [00:33<00:00, 146.63it/s, accuracy=0.04, train_loss=6.26]\n",
      "Evaluation:  94%|█████████▎| 358/382 [01:02<00:04,  5.76it/s]\n",
      "Train:   0%|          | 0/4879 [00:00<?, ?it/s, accuracy=0.04, train_loss=5.9] "
     ]
    },
    {
     "name": "stdout",
     "output_type": "stream",
     "text": [
      "\t - Recall@20 epoch 12: 0.082905\n",
      "\t - MRR@20    epoch 12: 0.019929\n",
      "\n"
     ]
    },
    {
     "name": "stderr",
     "output_type": "stream",
     "text": [
      "Train:  99%|█████████▉| 4843/4879 [00:33<00:00, 146.19it/s, accuracy=0.04, train_loss=6.38]\n",
      "Evaluation:  94%|█████████▎| 358/382 [01:01<00:04,  5.85it/s]\n",
      "Train:   0%|          | 0/4879 [00:00<?, ?it/s, accuracy=0.08, train_loss=6.32]"
     ]
    },
    {
     "name": "stdout",
     "output_type": "stream",
     "text": [
      "\t - Recall@20 epoch 13: 0.081899\n",
      "\t - MRR@20    epoch 13: 0.019353\n",
      "\n"
     ]
    },
    {
     "name": "stderr",
     "output_type": "stream",
     "text": [
      "Train:  99%|█████████▉| 4843/4879 [00:32<00:00, 148.66it/s, accuracy=0.06, train_loss=6.2] \n",
      "Evaluation:  94%|█████████▎| 358/382 [01:01<00:04,  5.78it/s]\n",
      "Train:   0%|          | 0/4879 [00:00<?, ?it/s, accuracy=0.06, train_loss=6.42]"
     ]
    },
    {
     "name": "stdout",
     "output_type": "stream",
     "text": [
      "\t - Recall@20 epoch 14: 0.081788\n",
      "\t - MRR@20    epoch 14: 0.019428\n",
      "\n"
     ]
    },
    {
     "name": "stderr",
     "output_type": "stream",
     "text": [
      "Train:  99%|█████████▉| 4843/4879 [00:34<00:00, 141.76it/s, accuracy=0.08, train_loss=6.11]\n",
      "Evaluation:  94%|█████████▎| 358/382 [01:01<00:04,  5.81it/s]\n",
      "Train:   0%|          | 0/4879 [00:00<?, ?it/s, accuracy=0.08, train_loss=6.28]"
     ]
    },
    {
     "name": "stdout",
     "output_type": "stream",
     "text": [
      "\t - Recall@20 epoch 15: 0.079832\n",
      "\t - MRR@20    epoch 15: 0.019593\n",
      "\n"
     ]
    },
    {
     "name": "stderr",
     "output_type": "stream",
     "text": [
      "Train:  99%|█████████▉| 4843/4879 [00:32<00:00, 147.29it/s, accuracy=0.1, train_loss=6.11] \n",
      "Evaluation:  94%|█████████▎| 358/382 [01:00<00:04,  5.88it/s]\n",
      "Train:   0%|          | 0/4879 [00:00<?, ?it/s, accuracy=0.02, train_loss=6.26]"
     ]
    },
    {
     "name": "stdout",
     "output_type": "stream",
     "text": [
      "\t - Recall@20 epoch 16: 0.079162\n",
      "\t - MRR@20    epoch 16: 0.019318\n",
      "\n"
     ]
    },
    {
     "name": "stderr",
     "output_type": "stream",
     "text": [
      "Train:  99%|█████████▉| 4843/4879 [00:32<00:00, 147.83it/s, accuracy=0.06, train_loss=6.13]\n",
      "Evaluation:  94%|█████████▎| 358/382 [01:00<00:04,  5.87it/s]\n",
      "Train:   0%|          | 0/4879 [00:00<?, ?it/s, accuracy=0.06, train_loss=6.21]"
     ]
    },
    {
     "name": "stdout",
     "output_type": "stream",
     "text": [
      "\t - Recall@20 epoch 17: 0.079553\n",
      "\t - MRR@20    epoch 17: 0.019135\n",
      "\n"
     ]
    },
    {
     "name": "stderr",
     "output_type": "stream",
     "text": [
      "Train:  99%|█████████▉| 4843/4879 [00:33<00:00, 146.68it/s, accuracy=0.08, train_loss=5.98]\n",
      "Evaluation:  94%|█████████▎| 358/382 [01:01<00:04,  5.86it/s]\n",
      "Train:   0%|          | 0/4879 [00:00<?, ?it/s, accuracy=0.02, train_loss=6.28]"
     ]
    },
    {
     "name": "stdout",
     "output_type": "stream",
     "text": [
      "\t - Recall@20 epoch 18: 0.077821\n",
      "\t - MRR@20    epoch 18: 0.018755\n",
      "\n"
     ]
    },
    {
     "name": "stderr",
     "output_type": "stream",
     "text": [
      "Train:  99%|█████████▉| 4843/4879 [00:32<00:00, 151.10it/s, accuracy=0.08, train_loss=6.09]\n",
      "Evaluation:  94%|█████████▎| 358/382 [01:00<00:04,  5.93it/s]\n",
      "Train:   0%|          | 0/4879 [00:00<?, ?it/s, accuracy=0.02, train_loss=6.41]"
     ]
    },
    {
     "name": "stdout",
     "output_type": "stream",
     "text": [
      "\t - Recall@20 epoch 19: 0.077095\n",
      "\t - MRR@20    epoch 19: 0.018876\n",
      "\n"
     ]
    },
    {
     "name": "stderr",
     "output_type": "stream",
     "text": [
      "Train:  99%|█████████▉| 4843/4879 [00:31<00:00, 152.80it/s, accuracy=0.1, train_loss=6.07] \n",
      "Evaluation:  94%|█████████▎| 358/382 [01:00<00:04,  5.89it/s]"
     ]
    },
    {
     "name": "stdout",
     "output_type": "stream",
     "text": [
      "\t - Recall@20 epoch 20: 0.077095\n",
      "\t - MRR@20    epoch 20: 0.018708\n",
      "\n"
     ]
    },
    {
     "name": "stderr",
     "output_type": "stream",
     "text": [
      "\n"
     ]
    }
   ],
   "source": [
    "train_model(model, args)"
   ]
  },
  {
   "cell_type": "code",
   "execution_count": 386,
   "metadata": {},
   "outputs": [
    {
     "name": "stderr",
     "output_type": "stream",
     "text": [
      "Evaluation:  99%|█████████▉| 4843/4879 [04:40<00:02, 17.29it/s]"
     ]
    },
    {
     "name": "stdout",
     "output_type": "stream",
     "text": [
      "\t - Recall@20: 0.093673\n",
      "\t - MRR@20: 0.066644\n",
      "\n"
     ]
    },
    {
     "name": "stderr",
     "output_type": "stream",
     "text": [
      "\n"
     ]
    }
   ],
   "source": [
    "def test_model(model, args, test):\n",
    "    test_recall, test_mrr = get_metrics(tr, model, args, 3)\n",
    "    print(f\"\\t - Recall@{args.k}: {test_recall:3f}\")\n",
    "    print(f\"\\t - MRR@{args.k}: {test_mrr:3f}\\n\")\n",
    "\n",
    "test_model(model, args, test)"
   ]
  },
  {
   "cell_type": "markdown",
   "metadata": {},
   "source": [
    "Recall@20이 아주 조금 올랐다. 그래도 Recall이 10% 도 나오지 않는 상황이다."
   ]
  },
  {
   "cell_type": "markdown",
   "metadata": {},
   "source": [
    "### 4-3. 학습(3)  \n",
    "batch size를 epochs를 바꿔보았다."
   ]
  },
  {
   "cell_type": "code",
   "execution_count": 387,
   "metadata": {
    "scrolled": false
   },
   "outputs": [
    {
     "name": "stderr",
     "output_type": "stream",
     "text": [
      "\r",
      "Train:   0%|          | 0/3812 [00:00<?, ?it/s]"
     ]
    },
    {
     "name": "stdout",
     "output_type": "stream",
     "text": [
      "Model: \"model_8\"\n",
      "_________________________________________________________________\n",
      "Layer (type)                 Output Shape              Param #   \n",
      "=================================================================\n",
      "input_9 (InputLayer)         [(64, 1, 2793)]           0         \n",
      "_________________________________________________________________\n",
      "GRU (GRU)                    [(64, 50), (64, 50)]      426750    \n",
      "_________________________________________________________________\n",
      "dropout_8 (Dropout)          (64, 50)                  0         \n",
      "_________________________________________________________________\n",
      "dense_8 (Dense)              (64, 2793)                142443    \n",
      "=================================================================\n",
      "Total params: 569,193\n",
      "Trainable params: 569,193\n",
      "Non-trainable params: 0\n",
      "_________________________________________________________________\n"
     ]
    },
    {
     "name": "stderr",
     "output_type": "stream",
     "text": [
      "Train:  99%|█████████▉| 3774/3812 [00:28<00:00, 133.70it/s, accuracy=0, train_loss=7.37]     \n",
      "Evaluation:  92%|█████████▏| 274/299 [01:00<00:05,  4.55it/s]\n",
      "Train:   0%|          | 0/3812 [00:00<?, ?it/s, accuracy=0, train_loss=7.12]     "
     ]
    },
    {
     "name": "stdout",
     "output_type": "stream",
     "text": [
      "\t - Recall@20 epoch 1: 0.047559\n",
      "\t - MRR@20    epoch 1: 0.010283\n",
      "\n"
     ]
    },
    {
     "name": "stderr",
     "output_type": "stream",
     "text": [
      "Train:  99%|█████████▉| 3774/3812 [00:27<00:00, 137.65it/s, accuracy=0.0156, train_loss=7.2] \n",
      "Evaluation:  92%|█████████▏| 274/299 [00:59<00:05,  4.61it/s]\n",
      "Train:   0%|          | 0/3812 [00:00<?, ?it/s, accuracy=0, train_loss=7.1]      "
     ]
    },
    {
     "name": "stdout",
     "output_type": "stream",
     "text": [
      "\t - Recall@20 epoch 2: 0.062215\n",
      "\t - MRR@20    epoch 2: 0.013163\n",
      "\n"
     ]
    },
    {
     "name": "stderr",
     "output_type": "stream",
     "text": [
      "Train:  99%|█████████▉| 3774/3812 [00:27<00:00, 138.63it/s, accuracy=0.0156, train_loss=7.1] \n",
      "Evaluation:  92%|█████████▏| 274/299 [00:58<00:05,  4.67it/s]\n",
      "Train:   0%|          | 0/3812 [00:00<?, ?it/s, accuracy=0.0156, train_loss=6.7] "
     ]
    },
    {
     "name": "stdout",
     "output_type": "stream",
     "text": [
      "\t - Recall@20 epoch 3: 0.070826\n",
      "\t - MRR@20    epoch 3: 0.014822\n",
      "\n"
     ]
    },
    {
     "name": "stderr",
     "output_type": "stream",
     "text": [
      "Train:  99%|█████████▉| 3774/3812 [00:27<00:00, 137.78it/s, accuracy=0.0156, train_loss=6.93]\n",
      "Evaluation:  92%|█████████▏| 274/299 [00:57<00:05,  4.73it/s]\n",
      "Train:   0%|          | 0/3812 [00:00<?, ?it/s, accuracy=0.0156, train_loss=6.51]"
     ]
    },
    {
     "name": "stdout",
     "output_type": "stream",
     "text": [
      "\t - Recall@20 epoch 4: 0.081490\n",
      "\t - MRR@20    epoch 4: 0.017950\n",
      "\n"
     ]
    },
    {
     "name": "stderr",
     "output_type": "stream",
     "text": [
      "Train:  99%|█████████▉| 3774/3812 [00:26<00:00, 139.83it/s, accuracy=0.0156, train_loss=6.94]\n",
      "Evaluation:  92%|█████████▏| 274/299 [00:58<00:05,  4.70it/s]\n",
      "Train:   0%|          | 0/3812 [00:00<?, ?it/s, accuracy=0.0156, train_loss=6.65]"
     ]
    },
    {
     "name": "stdout",
     "output_type": "stream",
     "text": [
      "\t - Recall@20 epoch 5: 0.086793\n",
      "\t - MRR@20    epoch 5: 0.019919\n",
      "\n"
     ]
    },
    {
     "name": "stderr",
     "output_type": "stream",
     "text": [
      "Train:  99%|█████████▉| 3774/3812 [00:26<00:00, 140.34it/s, accuracy=0.0156, train_loss=6.81]\n",
      "Evaluation:  92%|█████████▏| 274/299 [00:57<00:05,  4.77it/s]\n",
      "Train:   0%|          | 0/3812 [00:00<?, ?it/s, accuracy=0.0156, train_loss=6.83]"
     ]
    },
    {
     "name": "stdout",
     "output_type": "stream",
     "text": [
      "\t - Recall@20 epoch 6: 0.089986\n",
      "\t - MRR@20    epoch 6: 0.020931\n",
      "\n"
     ]
    },
    {
     "name": "stderr",
     "output_type": "stream",
     "text": [
      "Train:  99%|█████████▉| 3774/3812 [00:26<00:00, 141.37it/s, accuracy=0.0156, train_loss=6.8] \n",
      "Evaluation:  92%|█████████▏| 274/299 [00:57<00:05,  4.75it/s]\n",
      "Train:   0%|          | 0/3812 [00:00<?, ?it/s, accuracy=0.0312, train_loss=6.42]"
     ]
    },
    {
     "name": "stdout",
     "output_type": "stream",
     "text": [
      "\t - Recall@20 epoch 7: 0.093066\n",
      "\t - MRR@20    epoch 7: 0.021321\n",
      "\n"
     ]
    },
    {
     "name": "stderr",
     "output_type": "stream",
     "text": [
      "Train:  99%|█████████▉| 3774/3812 [00:26<00:00, 143.06it/s, accuracy=0.0156, train_loss=6.75]\n",
      "Evaluation:  92%|█████████▏| 274/299 [00:57<00:05,  4.79it/s]\n",
      "Train:   0%|          | 0/3812 [00:00<?, ?it/s, accuracy=0.0156, train_loss=6.49]"
     ]
    },
    {
     "name": "stdout",
     "output_type": "stream",
     "text": [
      "\t - Recall@20 epoch 8: 0.094891\n",
      "\t - MRR@20    epoch 8: 0.022026\n",
      "\n"
     ]
    },
    {
     "name": "stderr",
     "output_type": "stream",
     "text": [
      "Train:  99%|█████████▉| 3774/3812 [00:26<00:00, 142.21it/s, accuracy=0, train_loss=6.63]     \n",
      "Evaluation:  92%|█████████▏| 274/299 [00:57<00:05,  4.77it/s]\n",
      "Train:   0%|          | 0/3812 [00:00<?, ?it/s, accuracy=0, train_loss=6.54]     "
     ]
    },
    {
     "name": "stdout",
     "output_type": "stream",
     "text": [
      "\t - Recall@20 epoch 9: 0.093579\n",
      "\t - MRR@20    epoch 9: 0.021862\n",
      "\n"
     ]
    },
    {
     "name": "stderr",
     "output_type": "stream",
     "text": [
      "Train:  99%|█████████▉| 3774/3812 [00:26<00:00, 143.26it/s, accuracy=0, train_loss=6.71]     \n",
      "Evaluation:  92%|█████████▏| 274/299 [00:57<00:05,  4.76it/s]\n",
      "Train:   0%|          | 0/3812 [00:00<?, ?it/s, accuracy=0.0312, train_loss=6.29]"
     ]
    },
    {
     "name": "stdout",
     "output_type": "stream",
     "text": [
      "\t - Recall@20 epoch 10: 0.093864\n",
      "\t - MRR@20    epoch 10: 0.022257\n",
      "\n"
     ]
    },
    {
     "name": "stderr",
     "output_type": "stream",
     "text": [
      "Train:  99%|█████████▉| 3774/3812 [00:26<00:00, 142.68it/s, accuracy=0, train_loss=6.66]     \n",
      "Evaluation:  92%|█████████▏| 274/299 [00:57<00:05,  4.77it/s]\n",
      "Train:   0%|          | 0/3812 [00:00<?, ?it/s, accuracy=0.0625, train_loss=6.36]"
     ]
    },
    {
     "name": "stdout",
     "output_type": "stream",
     "text": [
      "\t - Recall@20 epoch 11: 0.092039\n",
      "\t - MRR@20    epoch 11: 0.022101\n",
      "\n"
     ]
    },
    {
     "name": "stderr",
     "output_type": "stream",
     "text": [
      "Train:  99%|█████████▉| 3774/3812 [00:26<00:00, 142.34it/s, accuracy=0, train_loss=6.73]     \n",
      "Evaluation:  92%|█████████▏| 274/299 [00:58<00:05,  4.71it/s]\n",
      "Train:   0%|          | 0/3812 [00:00<?, ?it/s, accuracy=0, train_loss=6.49]     "
     ]
    },
    {
     "name": "stdout",
     "output_type": "stream",
     "text": [
      "\t - Recall@20 epoch 12: 0.090956\n",
      "\t - MRR@20    epoch 12: 0.021850\n",
      "\n"
     ]
    },
    {
     "name": "stderr",
     "output_type": "stream",
     "text": [
      "Train:  99%|█████████▉| 3774/3812 [00:27<00:00, 136.93it/s, accuracy=0, train_loss=6.61]     \n",
      "Evaluation:  92%|█████████▏| 274/299 [00:58<00:05,  4.72it/s]\n",
      "Train:   0%|          | 0/3812 [00:00<?, ?it/s, accuracy=0.0625, train_loss=6.06]"
     ]
    },
    {
     "name": "stdout",
     "output_type": "stream",
     "text": [
      "\t - Recall@20 epoch 13: 0.090328\n",
      "\t - MRR@20    epoch 13: 0.021620\n",
      "\n"
     ]
    },
    {
     "name": "stderr",
     "output_type": "stream",
     "text": [
      "Train:  99%|█████████▉| 3774/3812 [00:28<00:00, 133.74it/s, accuracy=0.0156, train_loss=6.68]\n",
      "Evaluation:  92%|█████████▏| 274/299 [00:58<00:05,  4.66it/s]\n",
      "Train:   0%|          | 0/3812 [00:00<?, ?it/s, accuracy=0.0312, train_loss=6.42]"
     ]
    },
    {
     "name": "stdout",
     "output_type": "stream",
     "text": [
      "\t - Recall@20 epoch 14: 0.089359\n",
      "\t - MRR@20    epoch 14: 0.021468\n",
      "\n"
     ]
    },
    {
     "name": "stderr",
     "output_type": "stream",
     "text": [
      "Train:  99%|█████████▉| 3774/3812 [00:27<00:00, 138.04it/s, accuracy=0.0156, train_loss=6.67]\n",
      "Evaluation:  92%|█████████▏| 274/299 [00:57<00:05,  4.75it/s]"
     ]
    },
    {
     "name": "stdout",
     "output_type": "stream",
     "text": [
      "\t - Recall@20 epoch 15: 0.088219\n",
      "\t - MRR@20    epoch 15: 0.021475\n",
      "\n"
     ]
    },
    {
     "name": "stderr",
     "output_type": "stream",
     "text": [
      "\n"
     ]
    }
   ],
   "source": [
    "# 학습 \n",
    "args = Args(tr, val, test, batch_size=64, hsz=50, drop_rate=0.2, lr=0.001, epochs=15, k=20)\n",
    "model = create_model(args)\n",
    "train_model(model, args)"
   ]
  },
  {
   "cell_type": "code",
   "execution_count": 388,
   "metadata": {},
   "outputs": [
    {
     "name": "stderr",
     "output_type": "stream",
     "text": [
      "Evaluation:  99%|█████████▉| 3774/3812 [04:18<00:02, 14.59it/s]"
     ]
    },
    {
     "name": "stdout",
     "output_type": "stream",
     "text": [
      "\t - Recall@20: 0.068810\n",
      "\t - MRR@20: 0.047273\n",
      "\n"
     ]
    },
    {
     "name": "stderr",
     "output_type": "stream",
     "text": [
      "\n"
     ]
    }
   ],
   "source": [
    "def test_model(model, args, test):\n",
    "    test_recall, test_mrr = get_metrics(tr, model, args, 3)\n",
    "    print(f\"\\t - Recall@{args.k}: {test_recall:3f}\")\n",
    "    print(f\"\\t - MRR@{args.k}: {test_mrr:3f}\\n\")\n",
    "\n",
    "test_model(model, args, test)"
   ]
  },
  {
   "cell_type": "markdown",
   "metadata": {},
   "source": [
    "평가는 더 나빠졌다. "
   ]
  },
  {
   "cell_type": "markdown",
   "metadata": {},
   "source": [
    "### 4-4. 학습(4)  \n",
    "epochs를 바꿔보았고, 데이터셋 분리를 달리해보았다. 마지막 10일을 기준으로 test, val을 분리해보았다.  "
   ]
  },
  {
   "cell_type": "code",
   "execution_count": 413,
   "metadata": {
    "scrolled": false
   },
   "outputs": [
    {
     "name": "stderr",
     "output_type": "stream",
     "text": [
      "\r",
      "Train:   0%|          | 0/4976 [00:00<?, ?it/s]"
     ]
    },
    {
     "name": "stdout",
     "output_type": "stream",
     "text": [
      "Model: \"model_16\"\n",
      "_________________________________________________________________\n",
      "Layer (type)                 Output Shape              Param #   \n",
      "=================================================================\n",
      "input_18 (InputLayer)        [(50, 1, 2797)]           0         \n",
      "_________________________________________________________________\n",
      "GRU (GRU)                    [(50, 50), (50, 50)]      427350    \n",
      "_________________________________________________________________\n",
      "dropout_16 (Dropout)         (50, 50)                  0         \n",
      "_________________________________________________________________\n",
      "dense_16 (Dense)             (50, 2797)                142647    \n",
      "=================================================================\n",
      "Total params: 569,997\n",
      "Trainable params: 569,997\n",
      "Non-trainable params: 0\n",
      "_________________________________________________________________\n"
     ]
    },
    {
     "name": "stderr",
     "output_type": "stream",
     "text": [
      "Train:  99%|█████████▉| 4937/4976 [00:35<00:00, 137.43it/s, accuracy=0, train_loss=7.06]   \n",
      "Evaluation:  39%|███▉      | 70/179 [00:12<00:19,  5.63it/s]\n",
      "Train:   0%|          | 0/4976 [00:00<?, ?it/s, accuracy=0, train_loss=7.14]   "
     ]
    },
    {
     "name": "stdout",
     "output_type": "stream",
     "text": [
      "\t - Recall@20 epoch 1: 0.060286\n",
      "\t - MRR@20    epoch 1: 0.012483\n",
      "\n"
     ]
    },
    {
     "name": "stderr",
     "output_type": "stream",
     "text": [
      "Train:  99%|█████████▉| 4937/4976 [00:33<00:00, 146.97it/s, accuracy=0, train_loss=6.98]   \n",
      "Evaluation:  39%|███▉      | 70/179 [00:11<00:18,  5.88it/s]\n",
      "Train:   0%|          | 0/4976 [00:00<?, ?it/s, accuracy=0, train_loss=6.88]   "
     ]
    },
    {
     "name": "stdout",
     "output_type": "stream",
     "text": [
      "\t - Recall@20 epoch 2: 0.079429\n",
      "\t - MRR@20    epoch 2: 0.017668\n",
      "\n"
     ]
    },
    {
     "name": "stderr",
     "output_type": "stream",
     "text": [
      "Train:  99%|█████████▉| 4937/4976 [00:34<00:00, 144.23it/s, accuracy=0, train_loss=6.91]   \n",
      "Evaluation:  39%|███▉      | 70/179 [00:12<00:18,  5.82it/s]\n",
      "Train:   0%|          | 0/4976 [00:00<?, ?it/s, accuracy=0.02, train_loss=6.94]"
     ]
    },
    {
     "name": "stdout",
     "output_type": "stream",
     "text": [
      "\t - Recall@20 epoch 3: 0.102571\n",
      "\t - MRR@20    epoch 3: 0.024784\n",
      "\n"
     ]
    },
    {
     "name": "stderr",
     "output_type": "stream",
     "text": [
      "Train:  99%|█████████▉| 4937/4976 [00:36<00:00, 136.58it/s, accuracy=0, train_loss=6.8]    \n",
      "Evaluation:  39%|███▉      | 70/179 [00:12<00:18,  5.80it/s]\n",
      "Train:   0%|          | 0/4976 [00:00<?, ?it/s, accuracy=0, train_loss=6.68]   "
     ]
    },
    {
     "name": "stdout",
     "output_type": "stream",
     "text": [
      "\t - Recall@20 epoch 4: 0.115143\n",
      "\t - MRR@20    epoch 4: 0.027382\n",
      "\n"
     ]
    },
    {
     "name": "stderr",
     "output_type": "stream",
     "text": [
      "Train:  99%|█████████▉| 4937/4976 [00:35<00:00, 138.53it/s, accuracy=0, train_loss=6.59]   \n",
      "Evaluation:  39%|███▉      | 70/179 [00:11<00:18,  6.00it/s]\n",
      "Train:   0%|          | 0/4976 [00:00<?, ?it/s, accuracy=0.02, train_loss=6.63]"
     ]
    },
    {
     "name": "stdout",
     "output_type": "stream",
     "text": [
      "\t - Recall@20 epoch 5: 0.124286\n",
      "\t - MRR@20    epoch 5: 0.029130\n",
      "\n"
     ]
    },
    {
     "name": "stderr",
     "output_type": "stream",
     "text": [
      "Train:  99%|█████████▉| 4937/4976 [00:34<00:00, 144.92it/s, accuracy=0, train_loss=6.43]   \n",
      "Evaluation:  39%|███▉      | 70/179 [00:12<00:18,  5.83it/s]\n",
      "Train:   0%|          | 0/4976 [00:00<?, ?it/s, accuracy=0.04, train_loss=6.47]"
     ]
    },
    {
     "name": "stdout",
     "output_type": "stream",
     "text": [
      "\t - Recall@20 epoch 6: 0.126571\n",
      "\t - MRR@20    epoch 6: 0.030418\n",
      "\n"
     ]
    },
    {
     "name": "stderr",
     "output_type": "stream",
     "text": [
      "Train:  99%|█████████▉| 4937/4976 [00:34<00:00, 143.72it/s, accuracy=0.02, train_loss=6.38]\n",
      "Evaluation:  39%|███▉      | 70/179 [00:11<00:18,  5.89it/s]\n",
      "Train:   0%|          | 0/4976 [00:00<?, ?it/s, accuracy=0.04, train_loss=6.5] "
     ]
    },
    {
     "name": "stdout",
     "output_type": "stream",
     "text": [
      "\t - Recall@20 epoch 7: 0.130286\n",
      "\t - MRR@20    epoch 7: 0.032232\n",
      "\n"
     ]
    },
    {
     "name": "stderr",
     "output_type": "stream",
     "text": [
      "Train:  99%|█████████▉| 4937/4976 [00:34<00:00, 143.36it/s, accuracy=0.02, train_loss=6.32]\n",
      "Evaluation:  39%|███▉      | 70/179 [00:11<00:18,  6.05it/s]\n",
      "Train:   0%|          | 0/4976 [00:00<?, ?it/s, accuracy=0.02, train_loss=6.43]"
     ]
    },
    {
     "name": "stdout",
     "output_type": "stream",
     "text": [
      "\t - Recall@20 epoch 8: 0.132571\n",
      "\t - MRR@20    epoch 8: 0.032749\n",
      "\n"
     ]
    },
    {
     "name": "stderr",
     "output_type": "stream",
     "text": [
      "Train:  99%|█████████▉| 4937/4976 [00:34<00:00, 144.49it/s, accuracy=0.02, train_loss=6.18]\n",
      "Evaluation:  39%|███▉      | 70/179 [00:11<00:18,  5.99it/s]\n",
      "Train:   0%|          | 0/4976 [00:00<?, ?it/s, accuracy=0.04, train_loss=6.45]"
     ]
    },
    {
     "name": "stdout",
     "output_type": "stream",
     "text": [
      "\t - Recall@20 epoch 9: 0.132571\n",
      "\t - MRR@20    epoch 9: 0.033484\n",
      "\n"
     ]
    },
    {
     "name": "stderr",
     "output_type": "stream",
     "text": [
      "Train:  99%|█████████▉| 4937/4976 [00:34<00:00, 145.00it/s, accuracy=0.04, train_loss=6.13]\n",
      "Evaluation:  39%|███▉      | 70/179 [00:11<00:18,  5.94it/s]\n",
      "Train:   0%|          | 0/4976 [00:00<?, ?it/s, accuracy=0.08, train_loss=6.4] "
     ]
    },
    {
     "name": "stdout",
     "output_type": "stream",
     "text": [
      "\t - Recall@20 epoch 10: 0.131429\n",
      "\t - MRR@20    epoch 10: 0.033738\n",
      "\n"
     ]
    },
    {
     "name": "stderr",
     "output_type": "stream",
     "text": [
      "Train:  99%|█████████▉| 4937/4976 [00:34<00:00, 143.72it/s, accuracy=0.02, train_loss=6.09]\n",
      "Evaluation:  39%|███▉      | 70/179 [00:11<00:18,  6.02it/s]\n",
      "Train:   0%|          | 0/4976 [00:00<?, ?it/s, accuracy=0.06, train_loss=6.3] "
     ]
    },
    {
     "name": "stdout",
     "output_type": "stream",
     "text": [
      "\t - Recall@20 epoch 11: 0.131429\n",
      "\t - MRR@20    epoch 11: 0.033763\n",
      "\n"
     ]
    },
    {
     "name": "stderr",
     "output_type": "stream",
     "text": [
      "Train:  99%|█████████▉| 4937/4976 [00:34<00:00, 141.07it/s, accuracy=0.08, train_loss=6.05]\n",
      "Evaluation:  39%|███▉      | 70/179 [00:11<00:18,  5.85it/s]\n",
      "Train:   0%|          | 0/4976 [00:00<?, ?it/s, accuracy=0.02, train_loss=6.22]"
     ]
    },
    {
     "name": "stdout",
     "output_type": "stream",
     "text": [
      "\t - Recall@20 epoch 12: 0.130286\n",
      "\t - MRR@20    epoch 12: 0.032340\n",
      "\n"
     ]
    },
    {
     "name": "stderr",
     "output_type": "stream",
     "text": [
      "Train:  99%|█████████▉| 4937/4976 [00:36<00:00, 133.47it/s, accuracy=0.02, train_loss=5.93]\n",
      "Evaluation:  39%|███▉      | 70/179 [00:12<00:19,  5.61it/s]\n",
      "Train:   0%|          | 0/4976 [00:00<?, ?it/s, accuracy=0.08, train_loss=6.26]"
     ]
    },
    {
     "name": "stdout",
     "output_type": "stream",
     "text": [
      "\t - Recall@20 epoch 13: 0.126571\n",
      "\t - MRR@20    epoch 13: 0.032426\n",
      "\n"
     ]
    },
    {
     "name": "stderr",
     "output_type": "stream",
     "text": [
      "Train:  99%|█████████▉| 4937/4976 [00:34<00:00, 144.58it/s, accuracy=0.06, train_loss=5.99]\n",
      "Evaluation:  39%|███▉      | 70/179 [00:11<00:18,  5.85it/s]\n",
      "Train:   0%|          | 0/4976 [00:00<?, ?it/s, accuracy=0.08, train_loss=6.24]"
     ]
    },
    {
     "name": "stdout",
     "output_type": "stream",
     "text": [
      "\t - Recall@20 epoch 14: 0.125143\n",
      "\t - MRR@20    epoch 14: 0.032164\n",
      "\n"
     ]
    },
    {
     "name": "stderr",
     "output_type": "stream",
     "text": [
      "Train:  99%|█████████▉| 4937/4976 [00:35<00:00, 140.62it/s, accuracy=0.06, train_loss=5.91]\n",
      "Evaluation:  39%|███▉      | 70/179 [00:11<00:18,  5.95it/s]"
     ]
    },
    {
     "name": "stdout",
     "output_type": "stream",
     "text": [
      "\t - Recall@20 epoch 15: 0.122286\n",
      "\t - MRR@20    epoch 15: 0.031485\n",
      "\n"
     ]
    },
    {
     "name": "stderr",
     "output_type": "stream",
     "text": [
      "\n"
     ]
    }
   ],
   "source": [
    "# 학습 \n",
    "args = Args(tr, val, test, batch_size=50, hsz=50, drop_rate=0.1, lr=0.001, epochs=15, k=20)\n",
    "model = create_model(args)\n",
    "train_model(model, args)"
   ]
  },
  {
   "cell_type": "markdown",
   "metadata": {},
   "source": [
    "13epochs에서 보면 Recall@20이 조금 나아졌고, \n",
    "MRR@20도 다른 훈련보다 낮다. "
   ]
  },
  {
   "cell_type": "markdown",
   "metadata": {},
   "source": [
    "## Step 5. 모델 테스트\n",
    "`Step설명 : 미리 구성한 테스트셋을 바탕으로 Recall, MRR 을 확인해 봅니다.`   \n",
    "\n",
    "마지막으로 훈련한 모델을 테스트 해보았다.   \n",
    "훈련과정은 다른 훈련실험보다 나은 듯 했으나 결과는 좋지 못하였다."
   ]
  },
  {
   "cell_type": "code",
   "execution_count": 415,
   "metadata": {
    "scrolled": true
   },
   "outputs": [
    {
     "name": "stderr",
     "output_type": "stream",
     "text": [
      "Evaluation:  99%|█████████▉| 4937/4976 [04:43<00:02, 17.43it/s]"
     ]
    },
    {
     "name": "stdout",
     "output_type": "stream",
     "text": [
      "\t - Recall@20: 0.073097\n",
      "\t - MRR@20: 0.050583\n",
      "\n"
     ]
    },
    {
     "name": "stderr",
     "output_type": "stream",
     "text": [
      "\n"
     ]
    }
   ],
   "source": [
    "def test_model(model, args, test):\n",
    "    test_recall, test_mrr = get_metrics(tr, model, args, 3)\n",
    "    print(f\"\\t - Recall@{args.k}: {test_recall:3f}\")\n",
    "    print(f\"\\t - MRR@{args.k}: {test_mrr:3f}\\n\")\n",
    "\n",
    "test_model(model, args, test)"
   ]
  }
 ],
 "metadata": {
  "kernelspec": {
   "display_name": "Python 3 (ipykernel)",
   "language": "python",
   "name": "python3"
  },
  "language_info": {
   "codemirror_mode": {
    "name": "ipython",
    "version": 3
   },
   "file_extension": ".py",
   "mimetype": "text/x-python",
   "name": "python",
   "nbconvert_exporter": "python",
   "pygments_lexer": "ipython3",
   "version": "3.9.7"
  }
 },
 "nbformat": 4,
 "nbformat_minor": 4
}
