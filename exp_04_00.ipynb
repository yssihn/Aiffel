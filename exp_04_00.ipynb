{
 "cells": [
  {
   "cell_type": "markdown",
   "id": "52a2fffa",
   "metadata": {},
   "source": [
    "# Exploration 4\n",
    "\n",
    "## 작사가 인공지능 만들기\n",
    "\n",
    "## 평가\n",
    "\n",
    "### 1. 가사 텍스트 생성 모델이 정상적으로 동작하는가? (텍스트 제너레이션 결과가 그럴듯한 문장으로 생성되는가?)\n",
    "* 텍스트 생성 모델이 정상적으로 작동 함 (그럴듯한 문장이 생성됨)\n",
    "* 예) smile => smile , i m not leaving you\n",
    "\n",
    "### 2. 데이터의 전처리와 데이터셋 구성 과정이 체계적으로 진행되었는가? (특수문자 제거, 토크나이저 생성, 패딩처리 등의 과정이 빠짐없이 진행되었는가?)\n",
    "* 강의 내용에 충실하게 전처리 과정을 모두 진행 함. \n",
    "\n",
    "### 3. 텍스트 생성모델이 안정적으로 학습되었는가? (텍스트 생성모델의 validation loss가 2.2 이하로 낮아졌는가?)\n",
    "* 안정적으로 생성됨.   \n",
    "* model.fit() 진행시 마지막 epoch 결과\n",
    "  Epoch 10/10\n",
    "  549/549 [==============================] - 92s 168ms/step - loss: 2.2998\n",
    "\n",
    "## 회고1 (강의 내용과 프로젝트의 차이)\n",
    "* 강의 내용과 프로젝트의 차이는 보다 많은 학습데이터\n",
    "* 문장을 토큰화 할때 가사인 점을 감안하여 기존의 20개에서 15개로 변경 \n",
    "  preprocess_sentence()함수에서 15개 보다 많은 토크의 생성을 막음.\n",
    "* 훈련 데이터와 평가 데이터의 분리. sklearn 모듈의 train_test_split() 사용\n",
    "  enc_train, enc_val, dec_train, dec_val = train_test_split(src_input, tgt_input, test_size=0.2)\n",
    "* 단어장 크기를 12000으로 변경\n",
    "\n",
    "## 회고1 (강의 내용과 프로젝트의 차이)\n",
    "* 훈련데이터와 테스트데이터를 나눈 후에 기존에 사용하던 변수를 찾는 과정에서 소스를 더욱더 꼼꼼하게 보게됨 (좋았다)\n",
    "* 모델을 평가하는 것은 직접 단어를 입력하고, 결과를 받아 봐서 문장이 그럴사 한지 확인 해야 한다.\n",
    "  단순히 이번 프로젝트이전에 evaluate 하는 것은 적합하지 않은 것 같음.\n",
    "* 그래도 test 데이터를 이용하여 평가하려고 (테스트 데이터로 loss값을 찾으려함) 하여도 \n",
    "  predict data를 구하는 방법을 고안해내지 못함\n",
    "    지금의 프로그램은 predict 값이 단어 한번 사람이 직접 입력을 하고, 결과 문장을 받는 방법임.\n",
    "    별도의 방법이 필요할 것 으로 생각됨 (사실 잘 모르는 부분입니다.)\n",
    "* 결과적으로 loss값은 training 중에 나온 마지막 값으로 확인 함. \n"
   ]
  },
  {
   "cell_type": "markdown",
   "id": "457912ed",
   "metadata": {},
   "source": [
    "#### 1. 시작 파일을  한 라인 단위로 읽어 온다. \n"
   ]
  },
  {
   "cell_type": "code",
   "execution_count": 129,
   "id": "0add2780",
   "metadata": {},
   "outputs": [
    {
     "name": "stdout",
     "output_type": "stream",
     "text": [
      "데이터 크기: 187088\n",
      "Examples:\n",
      " [\"Now I've heard there was a secret chord\", 'That David played, and it pleased the Lord', \"But you don't really care for music, do you?\"]\n"
     ]
    }
   ],
   "source": [
    "import glob\n",
    "import os, re \n",
    "import numpy as np\n",
    "import tensorflow as tf\n",
    "\n",
    "# 파일을 읽기모드로 열고\n",
    "# 라인 단위로 끊어서 list 형태로 읽어옵니다.\n",
    "file_path = os.getenv('HOME') + '/aiffel/lyricist/data/lyrics/*'\n",
    "\n",
    "txt_list = glob.glob(file_path)\n",
    "\n",
    "raw_corpus = []\n",
    "\n",
    "# 여러개의 txt 파일을 모두 읽어서 raw_corpus 에 저장함\n",
    "for txt_file in txt_list:\n",
    "    with open(txt_file, \"r\") as f:\n",
    "        raw = f.read().splitlines()\n",
    "        raw_corpus.extend(raw)\n",
    "\n",
    "print(\"데이터 크기:\", len(raw_corpus))\n",
    "print(\"Examples:\\n\", raw_corpus[:3])"
   ]
  },
  {
   "cell_type": "markdown",
   "id": "b00f37bb",
   "metadata": {},
   "source": [
    "#### 2. 전처리 작업 (1)\n",
    "   - 길이가 0인(내용이 없는) 문장은 제외 한다. \n",
    "   - 문장의 끝이 \":\"인 문장(희곡에서 화자를 말하는 부분)은 제외한다.\n"
   ]
  },
  {
   "cell_type": "code",
   "execution_count": 130,
   "id": "d081ab28",
   "metadata": {},
   "outputs": [
    {
     "name": "stdout",
     "output_type": "stream",
     "text": [
      "Now I've heard there was a secret chord\n",
      "That David played, and it pleased the Lord\n",
      "But you don't really care for music, do you?\n",
      "It goes like this\n",
      "The fourth, the fifth\n",
      "The minor fall, the major lift\n",
      "The baffled king composing Hallelujah Hallelujah\n",
      "Hallelujah\n",
      "Hallelujah\n",
      "Hallelujah Your faith was strong but you needed proof\n"
     ]
    }
   ],
   "source": [
    "for idx, sentence in enumerate(raw_corpus):\n",
    "    if len(sentence) == 0: continue   # 길이가 0인 문장은 건너뜁니다.\n",
    "    if sentence[-1] == \":\": continue  # 문장의 끝이 : 인 문장은 건너뜁니다.\n",
    "\n",
    "    if idx > 9: break   # 일단 문장 10개만 확인해 볼 겁니다.\n",
    "        \n",
    "    print(sentence)"
   ]
  },
  {
   "cell_type": "code",
   "execution_count": null,
   "id": "b3004c5b",
   "metadata": {},
   "outputs": [],
   "source": [
    "#### 3. 전처리작업 (2)\n",
    "정규표현식(Regex)을 이용하여 필터링을 한다. \n",
    "3-1. 모든 문자를 소문자로 바꾸고, 양쪽 공백을 지웁니다  \n",
    "3-2. 특수문자 양쪽에 공백을 넣고  \n",
    "3-3. 여러개의 공백은 하나의 공백으로 바꿉니다  \n",
    "3-4. a-zA-Z?.!,¿가 아닌 모든 문자를 하나의 공백으로 바꿉니다  \n",
    "3-5. 다시 양쪽 공백을 지웁니다  \n",
    "3-6. 문장 시작에는 <start>, 끝에는 <end>를 추가합니다\n"
   ]
  },
  {
   "cell_type": "code",
   "execution_count": 131,
   "id": "96bb0b89",
   "metadata": {},
   "outputs": [
    {
     "name": "stdout",
     "output_type": "stream",
     "text": [
      "<start> this is sample sentence . sf df wefwef fwef wefw wefw wefwwef wef <end>\n"
     ]
    }
   ],
   "source": [
    "def preprocess_sentence(sentence):\n",
    "    sentence = sentence.lower().strip() # 3-1\n",
    "    sentence = re.sub(r\"([?.!,¿])\", r\" \\1 \", sentence) # 3-2\n",
    "    sentence = re.sub(r'[\" \"]+', \" \", sentence) # 3-3\n",
    "    sentence = re.sub(r\"[^a-zA-Z?.!,¿]+\", \" \", sentence) # 3-4\n",
    "    sentence = sentence.strip() # 3-5\n",
    "    \n",
    "    # sentence의 단어 수가 13개를 넘으면 강재로 13까지로 잘라 줍니다.\n",
    "    # 뒤에서 토큰화 했을 때 토큰의 개수가 15개를 넘어가는 문장을 학습 데이터에서 제외하기 \n",
    "    if len(sentence.split()) > 13:  \n",
    "        sentence = ' '.join(sentence.split()[0:13])\n",
    "        \n",
    "    sentence = '<start> ' + sentence + ' <end>' # 3-6 문장 시작에는 <start>, 끝에는 <end>를 추가합니다\n",
    "    return sentence\n",
    "\n",
    "# 이 문장이 어떻게 필터링되는지 확인해 보세요.\n",
    "print(preprocess_sentence(\"This @_is ;;;sample sentence. sf df wefwef fwef wefw wefw wefwwef wef eg werf ergf ergf ergf ergf ergf ergf ergf\"))\n"
   ]
  },
  {
   "cell_type": "markdown",
   "id": "531a30d2",
   "metadata": {},
   "source": [
    "#### 3. 전처리작업 (3)\n",
    "문장이 없거나, 화자를 나타낸 부분을 걸러낸다."
   ]
  },
  {
   "cell_type": "code",
   "execution_count": 132,
   "id": "a368f327",
   "metadata": {},
   "outputs": [
    {
     "data": {
      "text/plain": [
       "['<start> now i ve heard there was a secret chord <end>',\n",
       " '<start> that david played , and it pleased the lord <end>',\n",
       " '<start> but you don t really care for music , do you ? <end>',\n",
       " '<start> it goes like this <end>',\n",
       " '<start> the fourth , the fifth <end>',\n",
       " '<start> the minor fall , the major lift <end>',\n",
       " '<start> the baffled king composing hallelujah hallelujah <end>',\n",
       " '<start> hallelujah <end>',\n",
       " '<start> hallelujah <end>',\n",
       " '<start> hallelujah your faith was strong but you needed proof <end>']"
      ]
     },
     "execution_count": 132,
     "metadata": {},
     "output_type": "execute_result"
    }
   ],
   "source": [
    "# 여기에 정제된 문장을 모을겁니다\n",
    "corpus = []\n",
    "\n",
    "for sentence in raw_corpus:\n",
    "    # 우리가 원하지 않는 문장은 건너뜁니다\n",
    "    if len(sentence) == 0: continue\n",
    "    if sentence[-1] == \":\": continue\n",
    "    \n",
    "    # 정제를 하고 담아주세요\n",
    "    preprocessed_sentence = preprocess_sentence(sentence)\n",
    "    corpus.append(preprocessed_sentence)\n",
    "        \n",
    "# 정제된 결과를 10개만 확인해보죠\n",
    "corpus[:10]\n"
   ]
  },
  {
   "cell_type": "markdown",
   "id": "36f831f0",
   "metadata": {},
   "source": [
    "#### 3. 전처리작업 (4)\n",
    "tokenize() 함수를 작성 한다. \n",
    "- 위에까지 전처리된 문자형식으로 정리된 데이터를 단어장인 tokenizer와 \n",
    "  tokenizer를 이용한여 생성한 숫자로 이루어진 tensor 데이터를 생성 한다. \n",
    "- 입력 데이터의 시퀀스 길이를 일정하게 맞춰주기 위하여 padding 작업을 한다. "
   ]
  },
  {
   "cell_type": "code",
   "execution_count": 133,
   "id": "263155c1",
   "metadata": {},
   "outputs": [
    {
     "name": "stdout",
     "output_type": "stream",
     "text": [
      "[[   2   51    5 ...    0    0    0]\n",
      " [   2   17 2630 ...    0    0    0]\n",
      " [   2   32    7 ...   48    3    0]\n",
      " ...\n",
      " [   2  130    5 ...    6 1989    3]\n",
      " [   2   22   89 ...    6 1044    3]\n",
      " [   2    7   35 ...    0    0    0]] <keras_preprocessing.text.Tokenizer object at 0x7f0f71609670>\n"
     ]
    }
   ],
   "source": [
    "# 토큰화 할 때 텐서플로우의 Tokenizer와 pad_sequences를 사용합니다\n",
    "# 더 잘 알기 위해 아래 문서들을 참고하면 좋습니다\n",
    "# https://www.tensorflow.org/api_docs/python/tf/keras/preprocessing/text/Tokenizer\n",
    "# https://www.tensorflow.org/api_docs/python/tf/keras/preprocessing/sequence/pad_sequences\n",
    "def tokenize(corpus):\n",
    "    # 12,000단어를 기억할 수 있는 tokenizer를 만들겁니다\n",
    "    # 우리는 이미 문장을 정제했으니 filters가 필요없어요\n",
    "    # 12,000단어에 포함되지 못한 단어는 '<unk>'로 바꿀거에요\n",
    "    tokenizer = tf.keras.preprocessing.text.Tokenizer(\n",
    "        num_words=12000, \n",
    "        filters=' ',\n",
    "        oov_token=\"<unk>\"\n",
    "    )\n",
    "    # corpus를 이용해 tokenizer 내부의 단어장을 완성합니다\n",
    "    tokenizer.fit_on_texts(corpus)\n",
    "    \n",
    "    # 준비한 tokenizer를 이용해 corpus를 Tensor로 변환합니다\n",
    "    tensor = tokenizer.texts_to_sequences(corpus)   \n",
    "    \n",
    "    # 입력 데이터의 시퀀스 길이를 일정하게 맞춰줍니다\n",
    "    # 만약 시퀀스가 짧다면 문장 뒤에 패딩을 붙여 길이를 맞춰줍니다.\n",
    "    # 문장 앞에 패딩을 붙여 길이를 맞추고 싶다면 padding='pre'를 사용합니다\n",
    "    tensor = tf.keras.preprocessing.sequence.pad_sequences(tensor, padding='post')  \n",
    "    \n",
    "    print(tensor,tokenizer)\n",
    "    return tensor, tokenizer\n",
    "\n",
    "tensor, tokenizer = tokenize(corpus)"
   ]
  },
  {
   "cell_type": "code",
   "execution_count": 134,
   "id": "d6dded56",
   "metadata": {},
   "outputs": [
    {
     "name": "stdout",
     "output_type": "stream",
     "text": [
      "1 : <unk>\n",
      "2 : <start>\n",
      "3 : <end>\n",
      "4 : ,\n",
      "5 : i\n",
      "6 : the\n",
      "7 : you\n",
      "8 : and\n",
      "9 : a\n",
      "10 : to\n"
     ]
    }
   ],
   "source": [
    "# 단어장 내용 확인 \n",
    "for idx in tokenizer.index_word:\n",
    "    print(idx, \":\", tokenizer.index_word[idx])\n",
    "\n",
    "    if idx >= 10: break"
   ]
  },
  {
   "cell_type": "markdown",
   "id": "9ec2e757",
   "metadata": {},
   "source": [
    "#### 3. 전처리작업 (5)\n",
    "모델이 연속적인 학습으 하기 위하여 전처리를 또 한다. "
   ]
  },
  {
   "cell_type": "code",
   "execution_count": 171,
   "id": "4d24bf9f",
   "metadata": {},
   "outputs": [
    {
     "name": "stdout",
     "output_type": "stream",
     "text": [
      "[   2   51    5   92  293   65   56    9  952 6241    3    0    0    0]\n",
      "[  51    5   92  293   65   56    9  952 6241    3    0    0    0    0]\n"
     ]
    }
   ],
   "source": [
    "# tensor에서 마지막 토큰을 잘라내서 소스 문장을 생성합니다\n",
    "# 마지막 토큰은 <end>가 아니라 <pad>일 가능성이 높습니다.\n",
    "src_input = tensor[:, :-1]  \n",
    "# tensor에서 <start>를 잘라내서 타겟 문장을 생성합니다.\n",
    "tgt_input = tensor[:, 1:]    \n",
    "\n",
    "print(src_input[0])\n",
    "print(tgt_input[0])\n"
   ]
  },
  {
   "cell_type": "markdown",
   "id": "70e355d6",
   "metadata": {},
   "source": [
    "#### 3. 전처리작업 (6)\n",
    "dataset으로 만든 tensor를 train data와 test data로 분리합니다."
   ]
  },
  {
   "cell_type": "code",
   "execution_count": 173,
   "id": "11e69274",
   "metadata": {},
   "outputs": [
    {
     "name": "stdout",
     "output_type": "stream",
     "text": [
      "20.000113798656038\n",
      "79.99988620134395\n"
     ]
    }
   ],
   "source": [
    "from sklearn.model_selection import train_test_split\n",
    "# X_train, X_test, y_train, y_test = train_test_split(X, y, test_size=0.2, random_state=42)\n",
    "\n",
    "enc_train, enc_val, dec_train, dec_val = train_test_split(src_input, tgt_input, test_size=0.2)\n",
    "\n",
    "# print(len(enc_train))\n",
    "# print(len(enc_val))\n",
    "# print(len(enc_train) + len(enc_val))\n",
    "print(len(enc_val) / (len(enc_train) + len(enc_val)) * 100)\n",
    "print(len(enc_train) / (len(enc_train) + len(enc_val)) * 100)\n"
   ]
  },
  {
   "cell_type": "markdown",
   "id": "d47bfab9",
   "metadata": {},
   "source": [
    "#### 3. 전처리작업 (7)\n",
    "데이터 전처리작업의 마직막으로 최종적으로 사용할 dataset을 만든다."
   ]
  },
  {
   "cell_type": "code",
   "execution_count": 137,
   "id": "5b942129",
   "metadata": {},
   "outputs": [
    {
     "data": {
      "text/plain": [
       "<BatchDataset shapes: ((256, 14), (256, 14)), types: (tf.int32, tf.int32)>"
      ]
     },
     "execution_count": 137,
     "metadata": {},
     "output_type": "execute_result"
    }
   ],
   "source": [
    "# BUFFER_SIZE = len(src_input)\n",
    "BUFFER_SIZE = len(enc_train)\n",
    "BATCH_SIZE = 256\n",
    "# steps_per_epoch = len(src_input) // BATCH_SIZE\n",
    "steps_per_epoch = len(enc_train) // BATCH_SIZE\n",
    "\n",
    "# tokenizer가 구축한 단어사전 내 12,000개와, 여기 포함되지 않은 0:<pad>를 포함하여 12,001개\n",
    "VOCAB_SIZE = tokenizer.num_words + 1   \n",
    "\n",
    "# 준비한 데이터 소스로부터 데이터셋을 만듭니다\n",
    "# 데이터셋에 대해서는 아래 문서를 참고하세요\n",
    "# 자세히 알아둘수록 도움이 많이 되는 중요한 문서입니다\n",
    "# https://www.tensorflow.org/api_docs/python/tf/data/Dataset\n",
    "dataset = tf.data.Dataset.from_tensor_slices((enc_train, dec_train))\n",
    "dataset = dataset.shuffle(BUFFER_SIZE)\n",
    "dataset = dataset.batch(BATCH_SIZE, drop_remainder=True)\n",
    "dataset"
   ]
  },
  {
   "cell_type": "markdown",
   "id": "6c37cb66",
   "metadata": {},
   "source": [
    "#### 4. 모델 디자인\n",
    "- layer는 다음과 같이 input layer 한개, output layer 한개, hidden layer 2개로 구성한다. \n",
    "  (embedding layer, LSTM hidden layer1, LSTM hidden layer2, dense layer)"
   ]
  },
  {
   "cell_type": "code",
   "execution_count": 138,
   "id": "8c593f89",
   "metadata": {},
   "outputs": [],
   "source": [
    "class TextGenerator(tf.keras.Model):\n",
    "    def __init__(self, vocab_size, embedding_size, hidden_size):\n",
    "        super().__init__()\n",
    "        \n",
    "        self.embedding = tf.keras.layers.Embedding(vocab_size, embedding_size)\n",
    "        self.rnn_1 = tf.keras.layers.LSTM(hidden_size, return_sequences=True)\n",
    "        self.rnn_2 = tf.keras.layers.LSTM(hidden_size, return_sequences=True)\n",
    "        self.linear = tf.keras.layers.Dense(vocab_size)\n",
    "        \n",
    "    def call(self, x):\n",
    "        out = self.embedding(x)\n",
    "        out = self.rnn_1(out)\n",
    "        out = self.rnn_2(out)\n",
    "        out = self.linear(out)\n",
    "        \n",
    "        return out\n",
    "\n",
    "# hiperparameter 조정 하자!\n",
    "embedding_size = 256\n",
    "hidden_size = 1024\n",
    "model = TextGenerator(tokenizer.num_words + 1, embedding_size , hidden_size)\n"
   ]
  },
  {
   "cell_type": "code",
   "execution_count": 184,
   "id": "d19a96fc",
   "metadata": {},
   "outputs": [
    {
     "name": "stdout",
     "output_type": "stream",
     "text": [
      "Model: \"text_generator_2\"\n",
      "_________________________________________________________________\n",
      "Layer (type)                 Output Shape              Param #   \n",
      "=================================================================\n",
      "embedding_2 (Embedding)      multiple                  3072256   \n",
      "_________________________________________________________________\n",
      "lstm_4 (LSTM)                multiple                  5246976   \n",
      "_________________________________________________________________\n",
      "lstm_5 (LSTM)                multiple                  8392704   \n",
      "_________________________________________________________________\n",
      "dense_2 (Dense)              multiple                  12301025  \n",
      "=================================================================\n",
      "Total params: 29,012,961\n",
      "Trainable params: 29,012,961\n",
      "Non-trainable params: 0\n",
      "_________________________________________________________________\n"
     ]
    }
   ],
   "source": [
    "model.summary()"
   ]
  },
  {
   "cell_type": "code",
   "execution_count": 139,
   "id": "f3638ebc",
   "metadata": {},
   "outputs": [
    {
     "data": {
      "text/plain": [
       "<tf.Tensor: shape=(256, 14, 12001), dtype=float32, numpy=\n",
       "array([[[-2.01259303e-04, -3.92656475e-05, -2.38218432e-04, ...,\n",
       "         -1.83112948e-04,  1.38595889e-04,  6.69659712e-05],\n",
       "        [-6.62942650e-04,  2.87055300e-04, -2.71077181e-04, ...,\n",
       "         -3.18025443e-04, -2.18537643e-05,  2.36611988e-04],\n",
       "        [-8.69255047e-04,  5.26356453e-04, -3.78989003e-04, ...,\n",
       "         -5.52613172e-04, -1.73657856e-04,  1.61345481e-04],\n",
       "        ...,\n",
       "        [-5.37862477e-04,  3.70192080e-04, -6.68391469e-04, ...,\n",
       "          5.06643031e-04,  7.77111505e-04,  9.65363870e-05],\n",
       "        [-5.62284666e-04,  7.64305296e-05, -7.10894179e-04, ...,\n",
       "          5.49925724e-04,  9.42286570e-04, -7.93044892e-05],\n",
       "        [-5.69545547e-04, -2.85156217e-04, -7.54587585e-04, ...,\n",
       "          6.01964653e-04,  1.05449499e-03, -3.90619156e-04]],\n",
       "\n",
       "       [[-2.01259303e-04, -3.92656475e-05, -2.38218432e-04, ...,\n",
       "         -1.83112948e-04,  1.38595889e-04,  6.69659712e-05],\n",
       "        [-2.04585769e-04, -1.74702422e-04, -2.82240071e-04, ...,\n",
       "         -1.37251016e-04,  1.03962950e-04,  9.61388796e-05],\n",
       "        [-4.57212911e-04, -2.22167931e-04, -3.74332623e-04, ...,\n",
       "         -2.15958353e-04, -1.21843856e-04,  3.77304241e-04],\n",
       "        ...,\n",
       "        [-7.60937750e-04, -2.00480688e-03, -7.96983251e-04, ...,\n",
       "          7.01040786e-04, -4.37889947e-04,  8.33332597e-05],\n",
       "        [-6.85393636e-04, -2.28442112e-03, -8.25776660e-04, ...,\n",
       "          7.27782201e-04, -2.13920415e-04, -4.15016199e-04],\n",
       "        [-6.11729163e-04, -2.53670290e-03, -8.41518049e-04, ...,\n",
       "          7.33439287e-04,  3.00148236e-06, -8.86499940e-04]],\n",
       "\n",
       "       [[-2.01259303e-04, -3.92656475e-05, -2.38218432e-04, ...,\n",
       "         -1.83112948e-04,  1.38595889e-04,  6.69659712e-05],\n",
       "        [-3.14236037e-04, -1.51454136e-04, -2.39181521e-04, ...,\n",
       "         -1.45604790e-04, -5.76509883e-05, -1.39725977e-04],\n",
       "        [-2.76009261e-04, -2.56494066e-04, -2.77319108e-04, ...,\n",
       "         -2.32344915e-04, -2.56431085e-04, -5.87033806e-04],\n",
       "        ...,\n",
       "        [-3.44087341e-04, -3.03167128e-03, -6.78221404e-04, ...,\n",
       "          3.62816325e-04,  5.57280611e-04, -2.75943847e-03],\n",
       "        [-2.72347825e-04, -3.19003896e-03, -7.30281114e-04, ...,\n",
       "          4.61940974e-04,  7.44794786e-04, -2.91166990e-03],\n",
       "        [-1.93879503e-04, -3.31603456e-03, -7.78916059e-04, ...,\n",
       "          5.59252861e-04,  9.26389068e-04, -3.03454045e-03]],\n",
       "\n",
       "       ...,\n",
       "\n",
       "       [[-2.01259303e-04, -3.92656475e-05, -2.38218432e-04, ...,\n",
       "         -1.83112948e-04,  1.38595889e-04,  6.69659712e-05],\n",
       "        [-2.74404651e-04,  6.67030326e-05, -2.45163392e-04, ...,\n",
       "         -1.23671532e-04,  2.59371795e-04, -1.20313751e-04],\n",
       "        [-2.33479350e-05, -8.76052945e-05, -5.36964100e-04, ...,\n",
       "         -3.68081528e-04,  2.70456803e-04, -1.88941747e-04],\n",
       "        ...,\n",
       "        [-1.33307138e-03, -7.05267375e-05, -7.48357095e-04, ...,\n",
       "         -5.53376158e-04, -1.65625301e-03,  3.19790503e-04],\n",
       "        [-1.16642180e-03, -6.98492368e-05, -6.88473810e-04, ...,\n",
       "         -8.06600787e-04, -1.53395196e-03,  2.82736291e-04],\n",
       "        [-9.79341916e-04, -4.32566667e-05, -6.29438844e-04, ...,\n",
       "         -7.99728266e-04, -1.64508552e-03,  6.44496104e-05]],\n",
       "\n",
       "       [[-2.01259303e-04, -3.92656475e-05, -2.38218432e-04, ...,\n",
       "         -1.83112948e-04,  1.38595889e-04,  6.69659712e-05],\n",
       "        [-2.96322105e-04,  1.70333064e-04, -8.25391835e-05, ...,\n",
       "         -1.90137725e-04,  8.62500819e-05,  2.95228001e-05],\n",
       "        [-8.24515737e-05,  5.79284824e-05, -2.76244362e-04, ...,\n",
       "         -5.24668780e-04,  8.05910095e-05,  1.41811863e-04],\n",
       "        ...,\n",
       "        [-7.80708506e-05, -2.27836845e-05, -1.56783639e-03, ...,\n",
       "         -1.70376326e-03,  6.89831631e-06,  3.11057724e-04],\n",
       "        [-1.40242279e-04, -1.13687711e-04, -1.77952100e-03, ...,\n",
       "         -1.68058556e-03,  1.72336120e-04,  3.29880655e-04],\n",
       "        [-3.49009817e-04, -3.42627056e-04, -1.81438099e-03, ...,\n",
       "         -1.67912536e-03,  4.08177206e-04,  9.21803512e-05]],\n",
       "\n",
       "       [[-2.01259303e-04, -3.92656475e-05, -2.38218432e-04, ...,\n",
       "         -1.83112948e-04,  1.38595889e-04,  6.69659712e-05],\n",
       "        [-3.76929784e-05, -2.69335549e-04, -6.06165617e-04, ...,\n",
       "         -5.87067741e-04,  1.89596220e-04,  1.68278464e-04],\n",
       "        [ 1.22205456e-04, -3.00266634e-04, -7.01159472e-04, ...,\n",
       "         -7.47076119e-04, -2.05833858e-05,  4.81072784e-04],\n",
       "        ...,\n",
       "        [-3.05797701e-04, -3.77694494e-04, -5.58396627e-04, ...,\n",
       "          4.74861066e-04,  3.96364921e-04,  3.41335079e-04],\n",
       "        [-3.42429877e-04, -7.19984120e-04, -6.46489672e-04, ...,\n",
       "          5.06360841e-04,  4.68269573e-04, -1.16127856e-04],\n",
       "        [-3.67082073e-04, -1.08052196e-03, -7.29760155e-04, ...,\n",
       "          5.35917294e-04,  5.46337804e-04, -5.80408378e-04]]],\n",
       "      dtype=float32)>"
      ]
     },
     "execution_count": 139,
     "metadata": {},
     "output_type": "execute_result"
    }
   ],
   "source": [
    "# 데이터셋에서 데이터 한 배치만 불러오는 방법입니다.\n",
    "# 지금은 동작 원리에 너무 빠져들지 마세요~\n",
    "\n",
    "for src_sample, tgt_sample in dataset.take(1): break \n",
    "                                                     # dataset.take(1)를 통해서 1개의 배치, \n",
    "                                                     # 즉 256개의 문장 데이터를 가져온 것\n",
    "# 한 배치만 불러온 데이터를 모델에 넣어봅니다\n",
    "model(src_sample)\n",
    "\n",
    "# shape=(256, 20, 7001)\n",
    "# 256 : BATCH_SIZE\n",
    "# 20 : 데이터셋의 max_len\n",
    "# 7001 : VOCAB_SIZE = tokenizer.num_words + 1  \n",
    "# tokenizer.num_words : 7000\n",
    "\n",
    "# shape=(256, 14, 12001)\n",
    "# 256 : BATCH_SIZE\n",
    "# 14 : 데이터셋의 max_len\n",
    "# 12,001 : VOCAB_SIZE = tokenizer.num_words + 1  \n",
    "# tokenizer.num_words : 12000"
   ]
  },
  {
   "cell_type": "markdown",
   "id": "8b88ae5a",
   "metadata": {},
   "source": [
    "#### 5. 모델 학습\n",
    "- optimizer와 loss를 구성하고 학습시킵니다 !!!!!!!! "
   ]
  },
  {
   "cell_type": "code",
   "execution_count": 140,
   "id": "35800475",
   "metadata": {},
   "outputs": [
    {
     "name": "stdout",
     "output_type": "stream",
     "text": [
      "Epoch 1/10\n",
      "549/549 [==============================] - 95s 169ms/step - loss: 3.6755\n",
      "Epoch 2/10\n",
      "549/549 [==============================] - 93s 169ms/step - loss: 3.2013\n",
      "Epoch 3/10\n",
      "549/549 [==============================] - 93s 168ms/step - loss: 3.0154\n",
      "Epoch 4/10\n",
      "549/549 [==============================] - 92s 168ms/step - loss: 2.8794\n",
      "Epoch 5/10\n",
      "549/549 [==============================] - 92s 168ms/step - loss: 2.7611\n",
      "Epoch 6/10\n",
      "549/549 [==============================] - 92s 168ms/step - loss: 2.6558\n",
      "Epoch 7/10\n",
      "549/549 [==============================] - 92s 168ms/step - loss: 2.5574\n",
      "Epoch 8/10\n",
      "549/549 [==============================] - 93s 169ms/step - loss: 2.4665\n",
      "Epoch 9/10\n",
      "549/549 [==============================] - 93s 168ms/step - loss: 2.3808\n",
      "Epoch 10/10\n",
      "549/549 [==============================] - 92s 168ms/step - loss: 2.2998\n"
     ]
    },
    {
     "data": {
      "text/plain": [
       "<keras.callbacks.History at 0x7f1001ef2310>"
      ]
     },
     "execution_count": 140,
     "metadata": {},
     "output_type": "execute_result"
    }
   ],
   "source": [
    "# optimizer와 loss등은 차차 배웁니다\n",
    "# 혹시 미리 알고 싶다면 아래 문서를 참고하세요\n",
    "# https://www.tensorflow.org/api_docs/python/tf/keras/optimizers\n",
    "# https://www.tensorflow.org/api_docs/python/tf/keras/losses\n",
    "# 양이 상당히 많은 편이니 지금 보는 것은 추천하지 않습니다\n",
    "# \n",
    "# tf.test.is_gpu_available() 소스를 실행해 텐서플로우가 GPU를 잘 사용하고 있는지 확인가능 함.\n",
    "\n",
    "optimizer = tf.keras.optimizers.Adam()\n",
    "loss = tf.keras.losses.SparseCategoricalCrossentropy(\n",
    "    from_logits=True, \n",
    "    reduction='none'\n",
    ")\n",
    "# loss = tf.keras.losses.SparseCategoricalCrossentropy(\n",
    "#     from_logits=True,\n",
    "#     reduction='none'\n",
    "# )\n",
    "\n",
    "model.compile(loss=loss, optimizer=optimizer)\n",
    "model.fit(dataset, epochs=10)"
   ]
  },
  {
   "cell_type": "markdown",
   "id": "68b7a1ab",
   "metadata": {},
   "source": [
    "#### 6. 모델 학습\n",
    "- 작문을 시켜보고 직접 평가하는 함수 작성\n",
    "- generate_text 함수는 모델에게 시작 문장을 전달하면 모델이 시작 문장을 바탕으로 작문을 진행합니다."
   ]
  },
  {
   "cell_type": "code",
   "execution_count": 141,
   "id": "4b0da873",
   "metadata": {},
   "outputs": [],
   "source": [
    "def generate_text(model, tokenizer, init_sentence=\"<start>\", max_len=14):\n",
    "    # 테스트를 위해서 입력받은 init_sentence도 텐서로 변환합니다\n",
    "    test_input = tokenizer.texts_to_sequences([init_sentence])\n",
    "    test_tensor = tf.convert_to_tensor(test_input, dtype=tf.int64)\n",
    "    end_token = tokenizer.word_index[\"<end>\"]\n",
    "\n",
    "    # 단어 하나씩 예측해 문장을 만듭니다\n",
    "    #    1. 입력받은 문장의 텐서를 입력합니다\n",
    "    #    2. 예측된 값 중 가장 높은 확률인 word index를 뽑아냅니다\n",
    "    #    3. 2에서 예측된 word index를 문장 뒤에 붙입니다\n",
    "    #    4. 모델이 <end>를 예측했거나, max_len에 도달했다면 문장 생성을 마칩니다\n",
    "    while True:\n",
    "        # 1\n",
    "        predict = model(test_tensor) \n",
    "        # 2\n",
    "        predict_word = tf.argmax(tf.nn.softmax(predict, axis=-1), axis=-1)[:, -1] \n",
    "        # 3 \n",
    "        test_tensor = tf.concat([test_tensor, tf.expand_dims(predict_word, axis=0)], axis=-1)\n",
    "        # 4\n",
    "        if predict_word.numpy()[0] == end_token: break\n",
    "        if test_tensor.shape[1] >= max_len: break\n",
    "\n",
    "    generated = \"\"\n",
    "    # tokenizer를 이용해 word index를 단어로 하나씩 변환합니다 \n",
    "    for word_index in test_tensor[0].numpy():\n",
    "        generated += tokenizer.index_word[word_index] + \" \"\n",
    "\n",
    "    return generated"
   ]
  },
  {
   "cell_type": "markdown",
   "id": "e740ef6b",
   "metadata": {},
   "source": [
    "#### 7. 테스트 및 결과 확인 "
   ]
  },
  {
   "cell_type": "code",
   "execution_count": 176,
   "id": "e92668c0",
   "metadata": {},
   "outputs": [
    {
     "data": {
      "text/plain": [
       "'<start> smile , i m not leaving you <end> '"
      ]
     },
     "execution_count": 176,
     "metadata": {},
     "output_type": "execute_result"
    }
   ],
   "source": [
    "# 테스트 시작 \n",
    "generate_text(model, tokenizer, init_sentence=\"<start> smile\")\n"
   ]
  }
 ],
 "metadata": {
  "kernelspec": {
   "display_name": "Python 3 (ipykernel)",
   "language": "python",
   "name": "python3"
  },
  "language_info": {
   "codemirror_mode": {
    "name": "ipython",
    "version": 3
   },
   "file_extension": ".py",
   "mimetype": "text/x-python",
   "name": "python",
   "nbconvert_exporter": "python",
   "pygments_lexer": "ipython3",
   "version": "3.9.7"
  }
 },
 "nbformat": 4,
 "nbformat_minor": 5
}
