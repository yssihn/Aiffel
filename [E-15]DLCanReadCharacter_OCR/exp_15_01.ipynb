{
 "cells": [
  {
   "cell_type": "markdown",
   "id": "42d12f8d",
   "metadata": {},
   "source": [
    "# 14-9. 프로젝트 - Movielens 영화 추천 실습\n",
    "\n",
    "1. 유저가 영화에 대해 평점을 매긴 데이터가 데이터 크기 별로 있습니다. MovieLens 1M Dataset 사용을 권장합니다.\n",
    "2. 별점 데이터는 대표적인 explicit 데이터입니다. 하지만 implicit 데이터로 간주하고 테스트해 볼 수 있습니다.\n",
    "3. 별점을 시청횟수로 해석해서 생각하겠습니다.\n",
    "4. 또한 유저가 3점 미만으로 준 데이터는 선호하지 않는다고 가정하고 제외하겠습니다."
   ]
  },
  {
   "cell_type": "markdown",
   "id": "4c9c8147",
   "metadata": {},
   "source": [
    "## 1-1) 데이터 준비와 전처리"
   ]
  },
  {
   "cell_type": "code",
   "execution_count": 1,
   "id": "76a8d25a",
   "metadata": {},
   "outputs": [
    {
     "data": {
      "text/html": [
       "<div>\n",
       "<style scoped>\n",
       "    .dataframe tbody tr th:only-of-type {\n",
       "        vertical-align: middle;\n",
       "    }\n",
       "\n",
       "    .dataframe tbody tr th {\n",
       "        vertical-align: top;\n",
       "    }\n",
       "\n",
       "    .dataframe thead th {\n",
       "        text-align: right;\n",
       "    }\n",
       "</style>\n",
       "<table border=\"1\" class=\"dataframe\">\n",
       "  <thead>\n",
       "    <tr style=\"text-align: right;\">\n",
       "      <th></th>\n",
       "      <th>user_id</th>\n",
       "      <th>movie_id</th>\n",
       "      <th>ratings</th>\n",
       "      <th>timestamp</th>\n",
       "    </tr>\n",
       "  </thead>\n",
       "  <tbody>\n",
       "    <tr>\n",
       "      <th>0</th>\n",
       "      <td>1</td>\n",
       "      <td>1193</td>\n",
       "      <td>5</td>\n",
       "      <td>978300760</td>\n",
       "    </tr>\n",
       "    <tr>\n",
       "      <th>1</th>\n",
       "      <td>1</td>\n",
       "      <td>661</td>\n",
       "      <td>3</td>\n",
       "      <td>978302109</td>\n",
       "    </tr>\n",
       "    <tr>\n",
       "      <th>2</th>\n",
       "      <td>1</td>\n",
       "      <td>914</td>\n",
       "      <td>3</td>\n",
       "      <td>978301968</td>\n",
       "    </tr>\n",
       "    <tr>\n",
       "      <th>3</th>\n",
       "      <td>1</td>\n",
       "      <td>3408</td>\n",
       "      <td>4</td>\n",
       "      <td>978300275</td>\n",
       "    </tr>\n",
       "    <tr>\n",
       "      <th>4</th>\n",
       "      <td>1</td>\n",
       "      <td>2355</td>\n",
       "      <td>5</td>\n",
       "      <td>978824291</td>\n",
       "    </tr>\n",
       "  </tbody>\n",
       "</table>\n",
       "</div>"
      ],
      "text/plain": [
       "   user_id  movie_id  ratings  timestamp\n",
       "0        1      1193        5  978300760\n",
       "1        1       661        3  978302109\n",
       "2        1       914        3  978301968\n",
       "3        1      3408        4  978300275\n",
       "4        1      2355        5  978824291"
      ]
     },
     "execution_count": 1,
     "metadata": {},
     "output_type": "execute_result"
    }
   ],
   "source": [
    "import pandas as pd\n",
    "import os\n",
    "\n",
    "rating_file_path=os.getenv('HOME') + '/aiffel/recommendata_iu/data/ml-1m/ratings.dat'\n",
    "ratings_cols = ['user_id', 'movie_id', 'ratings', 'timestamp']\n",
    "ratings = pd.read_csv(rating_file_path, sep='::', names=ratings_cols, \n",
    "                      engine='python', encoding = \"ISO-8859-1\")\n",
    "orginal_data_size = len(ratings)\n",
    "ratings.head()\n"
   ]
  },
  {
   "cell_type": "code",
   "execution_count": 2,
   "id": "18cc86e5",
   "metadata": {
    "scrolled": true
   },
   "outputs": [
    {
     "name": "stdout",
     "output_type": "stream",
     "text": [
      "orginal_data_size: 1000209, filtered_data_size: 836478\n",
      "Ratio of Remaining Data is 83.63%\n"
     ]
    }
   ],
   "source": [
    "# 3점 이상만 남깁니다.\n",
    "ratings = ratings[ratings['ratings']>=3]\n",
    "filtered_data_size = len(ratings)\n",
    "\n",
    "print(f'orginal_data_size: {orginal_data_size}, filtered_data_size: {filtered_data_size}')\n",
    "print(f'Ratio of Remaining Data is {filtered_data_size / orginal_data_size:.2%}')"
   ]
  },
  {
   "cell_type": "code",
   "execution_count": 3,
   "id": "1a3fdb9f",
   "metadata": {},
   "outputs": [
    {
     "name": "stdout",
     "output_type": "stream",
     "text": [
      "뿡=3\n"
     ]
    }
   ],
   "source": [
    "# ratings 컬럼의 이름을 counts로 바꿉니다.\n",
    "ratings.rename(columns={'ratings':'counts'}, inplace=True)\n",
    "\n",
    "print(\"뿡=3\")"
   ]
  },
  {
   "cell_type": "code",
   "execution_count": 4,
   "id": "6ff98b08",
   "metadata": {},
   "outputs": [
    {
     "data": {
      "text/plain": [
       "0          5\n",
       "1          3\n",
       "2          3\n",
       "3          4\n",
       "4          5\n",
       "          ..\n",
       "1000203    3\n",
       "1000205    5\n",
       "1000206    5\n",
       "1000207    4\n",
       "1000208    4\n",
       "Name: counts, Length: 836478, dtype: int64"
      ]
     },
     "execution_count": 4,
     "metadata": {},
     "output_type": "execute_result"
    }
   ],
   "source": [
    "# ratings['user_id', 'movie_id', 'counts', 'timestamp']\n",
    "ratings[\"counts\"]"
   ]
  },
  {
   "cell_type": "code",
   "execution_count": 5,
   "id": "221e6ccc",
   "metadata": {},
   "outputs": [
    {
     "data": {
      "text/html": [
       "<div>\n",
       "<style scoped>\n",
       "    .dataframe tbody tr th:only-of-type {\n",
       "        vertical-align: middle;\n",
       "    }\n",
       "\n",
       "    .dataframe tbody tr th {\n",
       "        vertical-align: top;\n",
       "    }\n",
       "\n",
       "    .dataframe thead th {\n",
       "        text-align: right;\n",
       "    }\n",
       "</style>\n",
       "<table border=\"1\" class=\"dataframe\">\n",
       "  <thead>\n",
       "    <tr style=\"text-align: right;\">\n",
       "      <th></th>\n",
       "      <th>user_id</th>\n",
       "      <th>movie_id</th>\n",
       "      <th>counts</th>\n",
       "      <th>timestamp</th>\n",
       "    </tr>\n",
       "  </thead>\n",
       "  <tbody>\n",
       "    <tr>\n",
       "      <th>0</th>\n",
       "      <td>1</td>\n",
       "      <td>1193</td>\n",
       "      <td>5</td>\n",
       "      <td>978300760</td>\n",
       "    </tr>\n",
       "    <tr>\n",
       "      <th>1</th>\n",
       "      <td>1</td>\n",
       "      <td>661</td>\n",
       "      <td>3</td>\n",
       "      <td>978302109</td>\n",
       "    </tr>\n",
       "    <tr>\n",
       "      <th>2</th>\n",
       "      <td>1</td>\n",
       "      <td>914</td>\n",
       "      <td>3</td>\n",
       "      <td>978301968</td>\n",
       "    </tr>\n",
       "    <tr>\n",
       "      <th>3</th>\n",
       "      <td>1</td>\n",
       "      <td>3408</td>\n",
       "      <td>4</td>\n",
       "      <td>978300275</td>\n",
       "    </tr>\n",
       "    <tr>\n",
       "      <th>4</th>\n",
       "      <td>1</td>\n",
       "      <td>2355</td>\n",
       "      <td>5</td>\n",
       "      <td>978824291</td>\n",
       "    </tr>\n",
       "  </tbody>\n",
       "</table>\n",
       "</div>"
      ],
      "text/plain": [
       "   user_id  movie_id  counts  timestamp\n",
       "0        1      1193       5  978300760\n",
       "1        1       661       3  978302109\n",
       "2        1       914       3  978301968\n",
       "3        1      3408       4  978300275\n",
       "4        1      2355       5  978824291"
      ]
     },
     "execution_count": 5,
     "metadata": {},
     "output_type": "execute_result"
    }
   ],
   "source": [
    "ratings.head()"
   ]
  },
  {
   "cell_type": "code",
   "execution_count": 11,
   "id": "1eb50e31",
   "metadata": {},
   "outputs": [
    {
     "data": {
      "text/html": [
       "<div>\n",
       "<style scoped>\n",
       "    .dataframe tbody tr th:only-of-type {\n",
       "        vertical-align: middle;\n",
       "    }\n",
       "\n",
       "    .dataframe tbody tr th {\n",
       "        vertical-align: top;\n",
       "    }\n",
       "\n",
       "    .dataframe thead th {\n",
       "        text-align: right;\n",
       "    }\n",
       "</style>\n",
       "<table border=\"1\" class=\"dataframe\">\n",
       "  <thead>\n",
       "    <tr style=\"text-align: right;\">\n",
       "      <th></th>\n",
       "      <th>movie_id</th>\n",
       "      <th>title</th>\n",
       "      <th>genre</th>\n",
       "    </tr>\n",
       "  </thead>\n",
       "  <tbody>\n",
       "    <tr>\n",
       "      <th>0</th>\n",
       "      <td>1</td>\n",
       "      <td>Toy Story (1995)</td>\n",
       "      <td>Animation|Children's|Comedy</td>\n",
       "    </tr>\n",
       "    <tr>\n",
       "      <th>1</th>\n",
       "      <td>2</td>\n",
       "      <td>Jumanji (1995)</td>\n",
       "      <td>Adventure|Children's|Fantasy</td>\n",
       "    </tr>\n",
       "    <tr>\n",
       "      <th>2</th>\n",
       "      <td>3</td>\n",
       "      <td>Grumpier Old Men (1995)</td>\n",
       "      <td>Comedy|Romance</td>\n",
       "    </tr>\n",
       "    <tr>\n",
       "      <th>3</th>\n",
       "      <td>4</td>\n",
       "      <td>Waiting to Exhale (1995)</td>\n",
       "      <td>Comedy|Drama</td>\n",
       "    </tr>\n",
       "    <tr>\n",
       "      <th>4</th>\n",
       "      <td>5</td>\n",
       "      <td>Father of the Bride Part II (1995)</td>\n",
       "      <td>Comedy</td>\n",
       "    </tr>\n",
       "    <tr>\n",
       "      <th>5</th>\n",
       "      <td>6</td>\n",
       "      <td>Heat (1995)</td>\n",
       "      <td>Action|Crime|Thriller</td>\n",
       "    </tr>\n",
       "    <tr>\n",
       "      <th>6</th>\n",
       "      <td>7</td>\n",
       "      <td>Sabrina (1995)</td>\n",
       "      <td>Comedy|Romance</td>\n",
       "    </tr>\n",
       "    <tr>\n",
       "      <th>7</th>\n",
       "      <td>8</td>\n",
       "      <td>Tom and Huck (1995)</td>\n",
       "      <td>Adventure|Children's</td>\n",
       "    </tr>\n",
       "    <tr>\n",
       "      <th>8</th>\n",
       "      <td>9</td>\n",
       "      <td>Sudden Death (1995)</td>\n",
       "      <td>Action</td>\n",
       "    </tr>\n",
       "    <tr>\n",
       "      <th>9</th>\n",
       "      <td>10</td>\n",
       "      <td>GoldenEye (1995)</td>\n",
       "      <td>Action|Adventure|Thriller</td>\n",
       "    </tr>\n",
       "  </tbody>\n",
       "</table>\n",
       "</div>"
      ],
      "text/plain": [
       "   movie_id                               title                         genre\n",
       "0         1                    Toy Story (1995)   Animation|Children's|Comedy\n",
       "1         2                      Jumanji (1995)  Adventure|Children's|Fantasy\n",
       "2         3             Grumpier Old Men (1995)                Comedy|Romance\n",
       "3         4            Waiting to Exhale (1995)                  Comedy|Drama\n",
       "4         5  Father of the Bride Part II (1995)                        Comedy\n",
       "5         6                         Heat (1995)         Action|Crime|Thriller\n",
       "6         7                      Sabrina (1995)                Comedy|Romance\n",
       "7         8                 Tom and Huck (1995)          Adventure|Children's\n",
       "8         9                 Sudden Death (1995)                        Action\n",
       "9        10                    GoldenEye (1995)     Action|Adventure|Thriller"
      ]
     },
     "execution_count": 11,
     "metadata": {},
     "output_type": "execute_result"
    }
   ],
   "source": [
    "# 영화 제목을 보기 위해 메타 데이터를 읽어옵니다.\n",
    "movie_file_path=os.getenv('HOME') + '/aiffel/recommendata_iu/data/ml-1m/movies.dat'\n",
    "cols = ['movie_id', 'title', 'genre'] \n",
    "movies = pd.read_csv(movie_file_path, sep='::', names=cols, engine='python', encoding='ISO-8859-1')\n",
    "movies.head(10)"
   ]
  },
  {
   "cell_type": "code",
   "execution_count": null,
   "id": "1b056e7c",
   "metadata": {},
   "outputs": [],
   "source": [
    "# ratings : user_id, movie_id, ratings, timestamp\n",
    "# movies  : movie_id, title, genre\n",
    "    \n",
    "    \n",
    "    \n",
    "    \n",
    "    \n",
    "    "
   ]
  },
  {
   "cell_type": "markdown",
   "id": "5f667592",
   "metadata": {},
   "source": [
    "### 데이터 둘러보기"
   ]
  },
  {
   "cell_type": "code",
   "execution_count": 7,
   "id": "75a7925d",
   "metadata": {},
   "outputs": [
    {
     "data": {
      "text/plain": [
       "6039"
      ]
     },
     "execution_count": 7,
     "metadata": {},
     "output_type": "execute_result"
    }
   ],
   "source": [
    "# 유저 수\n",
    "ratings['user_id'].nunique()"
   ]
  },
  {
   "cell_type": "code",
   "execution_count": 8,
   "id": "ae17b646",
   "metadata": {},
   "outputs": [
    {
     "data": {
      "text/plain": [
       "3628"
      ]
     },
     "execution_count": 8,
     "metadata": {},
     "output_type": "execute_result"
    }
   ],
   "source": [
    "# 영화 수 in ratings\n",
    "ratings['movie_id'].nunique()"
   ]
  },
  {
   "cell_type": "code",
   "execution_count": 9,
   "id": "932771a2",
   "metadata": {},
   "outputs": [
    {
     "data": {
      "text/plain": [
       "3883"
      ]
     },
     "execution_count": 9,
     "metadata": {},
     "output_type": "execute_result"
    }
   ],
   "source": [
    "# 영화 수 in movies\n",
    "movies['movie_id'].nunique()"
   ]
  },
  {
   "cell_type": "code",
   "execution_count": 10,
   "id": "7dfe582c",
   "metadata": {},
   "outputs": [
    {
     "data": {
      "text/plain": [
       "movie_id\n",
       "2858    3211\n",
       "260     2910\n",
       "1196    2885\n",
       "1210    2716\n",
       "2028    2561\n",
       "589     2509\n",
       "593     2498\n",
       "1198    2473\n",
       "1270    2460\n",
       "2571    2434\n",
       "Name: user_id, dtype: int64"
      ]
     },
     "execution_count": 10,
     "metadata": {},
     "output_type": "execute_result"
    }
   ],
   "source": [
    "# 인기 많은 영화\n",
    "ratings_count = ratings.groupby('movie_id')['user_id'].count()\n",
    "ratings_count.sort_values(ascending=False).head(10)"
   ]
  },
  {
   "cell_type": "code",
   "execution_count": null,
   "id": "fa1f3a01",
   "metadata": {},
   "outputs": [],
   "source": []
  },
  {
   "cell_type": "code",
   "execution_count": null,
   "id": "68243402",
   "metadata": {},
   "outputs": [],
   "source": []
  },
  {
   "cell_type": "code",
   "execution_count": 5,
   "id": "89ddf7af",
   "metadata": {},
   "outputs": [
    {
     "data": {
      "text/plain": [
       "358868"
      ]
     },
     "execution_count": 5,
     "metadata": {},
     "output_type": "execute_result"
    }
   ],
   "source": [
    "# pandas.DataFrame.nunique()은 특정 컬럼에 포함된 유니크한 데이터의 개수를 알아보는데 유용합니다.\n",
    "\n",
    "# 유저 수\n",
    "data['user_id'].nunique()"
   ]
  },
  {
   "cell_type": "code",
   "execution_count": 6,
   "id": "6ecfb0c7",
   "metadata": {},
   "outputs": [
    {
     "data": {
      "text/plain": [
       "291346"
      ]
     },
     "execution_count": 6,
     "metadata": {},
     "output_type": "execute_result"
    }
   ],
   "source": [
    "# 아티스트 수\n",
    "data['artist'].nunique()"
   ]
  },
  {
   "cell_type": "code",
   "execution_count": 7,
   "id": "9fa074e8",
   "metadata": {},
   "outputs": [
    {
     "data": {
      "text/plain": [
       "artist\n",
       "radiohead                77254\n",
       "the beatles              76245\n",
       "coldplay                 66658\n",
       "red hot chili peppers    48924\n",
       "muse                     46954\n",
       "metallica                45233\n",
       "pink floyd               44443\n",
       "the killers              41229\n",
       "linkin park              39773\n",
       "nirvana                  39479\n",
       "system of a down         37267\n",
       "queen                    34174\n",
       "u2                       33206\n",
       "daft punk                33001\n",
       "the cure                 32624\n",
       "led zeppelin             32295\n",
       "placebo                  32072\n",
       "depeche mode             31916\n",
       "david bowie              31862\n",
       "bob dylan                31799\n",
       "death cab for cutie      31482\n",
       "arctic monkeys           30348\n",
       "foo fighters             30144\n",
       "air                      29795\n",
       "the rolling stones       29754\n",
       "nine inch nails          28946\n",
       "sigur rós                28901\n",
       "green day                28732\n",
       "massive attack           28691\n",
       "moby                     28232\n",
       "Name: user_id, dtype: int64"
      ]
     },
     "execution_count": 7,
     "metadata": {},
     "output_type": "execute_result"
    }
   ],
   "source": [
    "# 인기 많은 아티스트\n",
    "artist_count = data.groupby('artist')['user_id'].count()\n",
    "artist_count.sort_values(ascending=False).head(30)"
   ]
  },
  {
   "cell_type": "code",
   "execution_count": 8,
   "id": "df7463cf",
   "metadata": {},
   "outputs": [
    {
     "data": {
      "text/plain": [
       "count    358868.000000\n",
       "mean         48.863234\n",
       "std           8.524272\n",
       "min           1.000000\n",
       "25%          46.000000\n",
       "50%          49.000000\n",
       "75%          51.000000\n",
       "max         166.000000\n",
       "Name: artist, dtype: float64"
      ]
     },
     "execution_count": 8,
     "metadata": {},
     "output_type": "execute_result"
    }
   ],
   "source": [
    "# 유저별 몇 명의 아티스트를 듣고 있는지에 대한 통계\n",
    "user_count = data.groupby('user_id')['artist'].count()\n",
    "user_count.describe()"
   ]
  },
  {
   "cell_type": "code",
   "execution_count": 9,
   "id": "6f487c7d",
   "metadata": {},
   "outputs": [
    {
     "data": {
      "text/plain": [
       "count    358868.000000\n",
       "mean        142.187676\n",
       "std         213.089902\n",
       "min           1.000000\n",
       "25%          32.000000\n",
       "50%          83.000000\n",
       "75%         180.000000\n",
       "max       50142.000000\n",
       "Name: play, dtype: float64"
      ]
     },
     "execution_count": 9,
     "metadata": {},
     "output_type": "execute_result"
    }
   ],
   "source": [
    "# 유저별 play횟수 중앙값에 대한 통계\n",
    "user_median = data.groupby('user_id')['play'].median()\n",
    "user_median.describe()"
   ]
  },
  {
   "cell_type": "markdown",
   "id": "f0b2f267",
   "metadata": {},
   "source": [
    "### 모델 검증을 위한 사용자 초기 정보 세팅"
   ]
  },
  {
   "cell_type": "code",
   "execution_count": 10,
   "id": "a14cd2a2",
   "metadata": {},
   "outputs": [
    {
     "data": {
      "text/html": [
       "<div>\n",
       "<style scoped>\n",
       "    .dataframe tbody tr th:only-of-type {\n",
       "        vertical-align: middle;\n",
       "    }\n",
       "\n",
       "    .dataframe tbody tr th {\n",
       "        vertical-align: top;\n",
       "    }\n",
       "\n",
       "    .dataframe thead th {\n",
       "        text-align: right;\n",
       "    }\n",
       "</style>\n",
       "<table border=\"1\" class=\"dataframe\">\n",
       "  <thead>\n",
       "    <tr style=\"text-align: right;\">\n",
       "      <th></th>\n",
       "      <th>user_id</th>\n",
       "      <th>artist</th>\n",
       "      <th>play</th>\n",
       "    </tr>\n",
       "  </thead>\n",
       "  <tbody>\n",
       "    <tr>\n",
       "      <th>17535650</th>\n",
       "      <td>sep 20, 2008</td>\n",
       "      <td>turbostaat</td>\n",
       "      <td>12</td>\n",
       "    </tr>\n",
       "    <tr>\n",
       "      <th>17535651</th>\n",
       "      <td>sep 20, 2008</td>\n",
       "      <td>cuba missouri</td>\n",
       "      <td>11</td>\n",
       "    </tr>\n",
       "    <tr>\n",
       "      <th>17535652</th>\n",
       "      <td>sep 20, 2008</td>\n",
       "      <td>little man tate</td>\n",
       "      <td>11</td>\n",
       "    </tr>\n",
       "    <tr>\n",
       "      <th>17535653</th>\n",
       "      <td>sep 20, 2008</td>\n",
       "      <td>sigur rós</td>\n",
       "      <td>10</td>\n",
       "    </tr>\n",
       "    <tr>\n",
       "      <th>17535654</th>\n",
       "      <td>sep 20, 2008</td>\n",
       "      <td>the smiths</td>\n",
       "      <td>10</td>\n",
       "    </tr>\n",
       "    <tr>\n",
       "      <th>0</th>\n",
       "      <td>zimin</td>\n",
       "      <td>black eyed peas</td>\n",
       "      <td>30</td>\n",
       "    </tr>\n",
       "    <tr>\n",
       "      <th>1</th>\n",
       "      <td>zimin</td>\n",
       "      <td>maroon5</td>\n",
       "      <td>30</td>\n",
       "    </tr>\n",
       "    <tr>\n",
       "      <th>2</th>\n",
       "      <td>zimin</td>\n",
       "      <td>jason mraz</td>\n",
       "      <td>30</td>\n",
       "    </tr>\n",
       "    <tr>\n",
       "      <th>3</th>\n",
       "      <td>zimin</td>\n",
       "      <td>coldplay</td>\n",
       "      <td>30</td>\n",
       "    </tr>\n",
       "    <tr>\n",
       "      <th>4</th>\n",
       "      <td>zimin</td>\n",
       "      <td>beyoncé</td>\n",
       "      <td>30</td>\n",
       "    </tr>\n",
       "  </tbody>\n",
       "</table>\n",
       "</div>"
      ],
      "text/plain": [
       "               user_id           artist  play\n",
       "17535650  sep 20, 2008       turbostaat    12\n",
       "17535651  sep 20, 2008    cuba missouri    11\n",
       "17535652  sep 20, 2008  little man tate    11\n",
       "17535653  sep 20, 2008        sigur rós    10\n",
       "17535654  sep 20, 2008       the smiths    10\n",
       "0                zimin  black eyed peas    30\n",
       "1                zimin          maroon5    30\n",
       "2                zimin       jason mraz    30\n",
       "3                zimin         coldplay    30\n",
       "4                zimin          beyoncé    30"
      ]
     },
     "execution_count": 10,
     "metadata": {},
     "output_type": "execute_result"
    }
   ],
   "source": [
    "# 본인이 좋아하시는 아티스트 데이터로 바꿔서 추가하셔도 됩니다! 단, 이름은 꼭 데이터셋에 있는 것과 동일하게 맞춰주세요. \n",
    "my_favorite = ['black eyed peas' , 'maroon5' ,'jason mraz' ,'coldplay' ,'beyoncé']\n",
    "\n",
    "# 'zimin'이라는 user_id가 위 아티스트의 노래를 30회씩 들었다고 가정하겠습니다.\n",
    "my_playlist = pd.DataFrame({'user_id': ['zimin']*5, 'artist': my_favorite, 'play':[30]*5})\n",
    "\n",
    "if not data.isin({'user_id':['zimin']})['user_id'].any():  # user_id에 'zimin'이라는 데이터가 없다면\n",
    "    data = data.append(my_playlist)                        # 위에 임의로 만든 my_favorite 데이터를 추가해 줍니다. \n",
    "\n",
    "data.tail(10)       # 잘 추가되었는지 확인해 봅시다."
   ]
  },
  {
   "cell_type": "markdown",
   "id": "e5408e07",
   "metadata": {},
   "source": [
    "### 모델에 활용하기 위한 전처리 (실습)"
   ]
  },
  {
   "cell_type": "code",
   "execution_count": 11,
   "id": "e083b36c",
   "metadata": {},
   "outputs": [],
   "source": [
    "# 고유한 유저, 아티스트를 찾아내는 코드\n",
    "user_unique = data['user_id'].unique()\n",
    "artist_unique = data['artist'].unique()\n",
    "\n",
    "# 유저, 아티스트 indexing 하는 코드 idx는 index의 약자입니다.\n",
    "user_to_idx = {v:k for k,v in enumerate(user_unique)}\n",
    "artist_to_idx = {v:k for k,v in enumerate(artist_unique)}\n",
    "\n",
    "print(\"뿡=3\")"
   ]
  },
  {
   "cell_type": "code",
   "execution_count": 12,
   "id": "3f903f0c",
   "metadata": {},
   "outputs": [
    {
     "name": "stdout",
     "output_type": "stream",
     "text": [
      "358868\n",
      "376\n"
     ]
    }
   ],
   "source": [
    "# 인덱싱이 잘 되었는지 확인해 봅니다. \n",
    "print(user_to_idx['zimin'])    # 358869명의 유저 중 마지막으로 추가된 유저이니 358868이 나와야 합니다. \n",
    "print(artist_to_idx['black eyed peas'])"
   ]
  },
  {
   "cell_type": "code",
   "execution_count": 13,
   "id": "c7dbddcf",
   "metadata": {},
   "outputs": [
    {
     "name": "stdout",
     "output_type": "stream",
     "text": [
      "user_id column indexing OK!!\n",
      "artist column indexing OK!!\n"
     ]
    },
    {
     "data": {
      "text/html": [
       "<div>\n",
       "<style scoped>\n",
       "    .dataframe tbody tr th:only-of-type {\n",
       "        vertical-align: middle;\n",
       "    }\n",
       "\n",
       "    .dataframe tbody tr th {\n",
       "        vertical-align: top;\n",
       "    }\n",
       "\n",
       "    .dataframe thead th {\n",
       "        text-align: right;\n",
       "    }\n",
       "</style>\n",
       "<table border=\"1\" class=\"dataframe\">\n",
       "  <thead>\n",
       "    <tr style=\"text-align: right;\">\n",
       "      <th></th>\n",
       "      <th>user_id</th>\n",
       "      <th>artist</th>\n",
       "      <th>play</th>\n",
       "    </tr>\n",
       "  </thead>\n",
       "  <tbody>\n",
       "    <tr>\n",
       "      <th>0</th>\n",
       "      <td>0</td>\n",
       "      <td>0</td>\n",
       "      <td>2137</td>\n",
       "    </tr>\n",
       "    <tr>\n",
       "      <th>1</th>\n",
       "      <td>0</td>\n",
       "      <td>1</td>\n",
       "      <td>1099</td>\n",
       "    </tr>\n",
       "    <tr>\n",
       "      <th>2</th>\n",
       "      <td>0</td>\n",
       "      <td>2</td>\n",
       "      <td>897</td>\n",
       "    </tr>\n",
       "    <tr>\n",
       "      <th>3</th>\n",
       "      <td>0</td>\n",
       "      <td>3</td>\n",
       "      <td>717</td>\n",
       "    </tr>\n",
       "    <tr>\n",
       "      <th>4</th>\n",
       "      <td>0</td>\n",
       "      <td>4</td>\n",
       "      <td>706</td>\n",
       "    </tr>\n",
       "    <tr>\n",
       "      <th>...</th>\n",
       "      <td>...</td>\n",
       "      <td>...</td>\n",
       "      <td>...</td>\n",
       "    </tr>\n",
       "    <tr>\n",
       "      <th>0</th>\n",
       "      <td>358868</td>\n",
       "      <td>376</td>\n",
       "      <td>30</td>\n",
       "    </tr>\n",
       "    <tr>\n",
       "      <th>1</th>\n",
       "      <td>358868</td>\n",
       "      <td>270115</td>\n",
       "      <td>30</td>\n",
       "    </tr>\n",
       "    <tr>\n",
       "      <th>2</th>\n",
       "      <td>358868</td>\n",
       "      <td>3746</td>\n",
       "      <td>30</td>\n",
       "    </tr>\n",
       "    <tr>\n",
       "      <th>3</th>\n",
       "      <td>358868</td>\n",
       "      <td>62</td>\n",
       "      <td>30</td>\n",
       "    </tr>\n",
       "    <tr>\n",
       "      <th>4</th>\n",
       "      <td>358868</td>\n",
       "      <td>396</td>\n",
       "      <td>30</td>\n",
       "    </tr>\n",
       "  </tbody>\n",
       "</table>\n",
       "<p>17535660 rows × 3 columns</p>\n",
       "</div>"
      ],
      "text/plain": [
       "    user_id  artist  play\n",
       "0         0       0  2137\n",
       "1         0       1  1099\n",
       "2         0       2   897\n",
       "3         0       3   717\n",
       "4         0       4   706\n",
       "..      ...     ...   ...\n",
       "0    358868     376    30\n",
       "1    358868  270115    30\n",
       "2    358868    3746    30\n",
       "3    358868      62    30\n",
       "4    358868     396    30\n",
       "\n",
       "[17535660 rows x 3 columns]"
      ]
     },
     "execution_count": 13,
     "metadata": {},
     "output_type": "execute_result"
    }
   ],
   "source": [
    "# indexing을 통해 데이터 컬럼 내 값을 바꾸는 코드\n",
    "# dictionary 자료형의 get 함수는 https://wikidocs.net/16 을 참고하세요.\n",
    "\n",
    "# user_to_idx.get을 통해 user_id 컬럼의 모든 값을 인덱싱한 Series를 구해 봅시다. \n",
    "# 혹시 정상적으로 인덱싱되지 않은 row가 있다면 인덱스가 NaN이 될 테니 dropna()로 제거합니다. \n",
    "temp_user_data = data['user_id'].map(user_to_idx.get).dropna()\n",
    "\n",
    "if len(temp_user_data) == len(data):   # 모든 row가 정상적으로 인덱싱되었다면\n",
    "    print('user_id column indexing OK!!')\n",
    "    data['user_id'] = temp_user_data   # data['user_id']을 인덱싱된 Series로 교체해 줍니다. \n",
    "else:\n",
    "    print('user_id column indexing Fail!!')\n",
    "\n",
    "# artist_to_idx을 통해 artist 컬럼도 동일한 방식으로 인덱싱해 줍니다. \n",
    "temp_artist_data = data['artist'].map(artist_to_idx.get).dropna()\n",
    "\n",
    "if len(temp_artist_data) == len(data):\n",
    "    print('artist column indexing OK!!')\n",
    "    data['artist'] = temp_artist_data\n",
    "else:\n",
    "    print('artist column indexing Fail!!')\n",
    "\n",
    "data"
   ]
  },
  {
   "cell_type": "markdown",
   "id": "4196de25",
   "metadata": {},
   "source": [
    "### 데이터 전처리 완료"
   ]
  },
  {
   "cell_type": "code",
   "execution_count": 14,
   "id": "d467b58b",
   "metadata": {},
   "outputs": [
    {
     "name": "stdout",
     "output_type": "stream",
     "text": [
      "147740,17535660\n",
      "Ratio of only_one over all data is 0.84%\n"
     ]
    }
   ],
   "source": [
    "# 1회만 play한 데이터의 비율을 보는 코드\n",
    "only_one = data[data['play']<2]\n",
    "one, all_data = len(only_one), len(data)\n",
    "print(f'{one},{all_data}')\n",
    "print(f'Ratio of only_one over all data is {one/all_data:.2%}')  # f-format에 대한 설명은 https://bit.ly/2DTLqYU"
   ]
  },
  {
   "cell_type": "markdown",
   "id": "8e27a5ac",
   "metadata": {},
   "source": [
    "## 14-5. Matrix Factorization(MF)\n",
    "기본 아이디어는 아래 그림과 같습니다. (m,n) 사이즈의 행렬 R을 (m,k) 사이즈의 행렬 P와 (k,n) 사이즈의 행렬 Q로 분해한다면 R이란 그저 P와 Q의 행렬곱으로 표현 가능할 수 있다는 간단한 아이디어 입니다.<br>\n",
    " 대체로 k는 m이나 n보다 훨씬 작은 값이기 때문에 계산량 측면으로도 훨씬 유리해집니다. 하지만 아이디어의 단순함에도 불구하고 MF 모델은 성능이 준수하고 Scalability가 좋아서 많이 사용되는 모델입니다.<br><br>\n",
    "큰 평가 행렬 R을 두 개의 Feature Matrix P와 Q로 분해."
   ]
  },
  {
   "cell_type": "markdown",
   "id": "e3acb647",
   "metadata": {},
   "source": [
    "## 14-6. CSR(Compressed Sparse Row) Matrix"
   ]
  },
  {
   "cell_type": "code",
   "execution_count": 15,
   "id": "08dbd747",
   "metadata": {},
   "outputs": [
    {
     "data": {
      "text/plain": [
       "<358869x291347 sparse matrix of type '<class 'numpy.int64'>'\n",
       "\twith 17535578 stored elements in Compressed Sparse Row format>"
      ]
     },
     "execution_count": 15,
     "metadata": {},
     "output_type": "execute_result"
    }
   ],
   "source": [
    "# https://docs.scipy.org/doc/scipy/reference/generated/scipy.sparse.csr_matrix.html\n",
    "# csr_matrix((data, (row_ind, col_ind)), [shape=(M, N)])\n",
    "# where data, row_ind and col_ind satisfy \n",
    "# the relationship a[row_ind[k], col_ind[k]] = data[k].\n",
    "\n",
    "# 실습 위에 설명보고 이해해서 만들어보기\n",
    "from scipy.sparse import csr_matrix\n",
    "\n",
    "num_user = data['user_id'].nunique()\n",
    "num_artist = data['artist'].nunique()\n",
    "\n",
    "csr_data = csr_matrix((data.play, (data.user_id, data.artist)), shape= (num_user, num_artist))\n",
    "\n",
    "csr_data # csr_data.toarray() 하면 데이터의 양이 많아서 kernel이 down 된다. \n"
   ]
  },
  {
   "cell_type": "markdown",
   "id": "128ad75c",
   "metadata": {},
   "source": [
    "## 14-7. MF 모델 학습하기\n",
    "이전 스텝에서 설명한 Matrix Factorization 모델을 **implicit 패키지**(https://github.com/benfred/implicit)를 사용하여 학습해 봅시다.<br><br>\n",
    "implicit 패키지는 이전 스텝에서 설명한 암묵적(implicit) dataset을 사용하는 다양한 모델을 굉장히 빠르게 학습할 수 있는 패키지입니다.<br><br>\n",
    "이 패키지에 구현된 **als(AlternatingLeastSquares) 모델**을 사용하겠습니다. Matrix Factorization에서 쪼개진 두 Feature Matrix를 한꺼번에 훈련하는 것은 잘 수렴하지 않기 때문에, <br>\n",
    "한쪽을 고정시키고 다른 쪽을 학습하는 방식을 번갈아 수행하는 **AlternatingLeastSquares 방식**이 효과적인 것으로 알려져 있습니다."
   ]
  },
  {
   "cell_type": "code",
   "execution_count": 22,
   "id": "9d54c374",
   "metadata": {},
   "outputs": [
    {
     "name": "stdout",
     "output_type": "stream",
     "text": [
      "=3\n"
     ]
    }
   ],
   "source": [
    "from implicit.als import AlternatingLeastSquares\n",
    "import os\n",
    "import numpy as np\n",
    "\n",
    "# **********************************************************************\n",
    "# #implicit의 Basic Usage\n",
    "# import implicit\n",
    "# # initialize a model\n",
    "# model = implicit.als.AlternatingLeastSquares(factors=50)\n",
    "# # train the model on a sparse matrix of user/item/confidence weights\n",
    "# model.fit(user_item_data)\n",
    "# # recommend items for a user\n",
    "# recommendations = model.recommend(userid, user_item_data[userid])\n",
    "# # find related items\n",
    "# related = model.similar_items(itemid)\n",
    "# **********************************************************************\n",
    "\n",
    "# implicit 라이브러리에서 권장하고 있는 부분입니다. 학습 내용과는 무관합니다.\n",
    "os.environ['OPENBLAS_NUM_THREADS']='1'\n",
    "os.environ['KMP_DUPLICATE_LIB_OK']='True'\n",
    "os.environ['MKL_NUM_THREADS']='1'\n",
    "\n",
    "\n",
    "# AlternatingLeastSquares 클래스의 __init__ 파라미터를 살펴보겠습니다.\n",
    "\n",
    "# 1. factors : 유저와 아이템의 벡터를 몇 차원으로 할 것인지\n",
    "# 2. regularization : 과적합을 방지하기 위해 정규화 값을 얼마나 사용할 것인지\n",
    "# 3. use_gpu : GPU를 사용할 것인지\n",
    "# 4. iterations : epochs와 같은 의미입니다. 데이터를 몇 번 반복해서 학습할 것인지\n",
    "\n",
    "# 1과 4를 늘릴수록 학습 데이터를 잘 학습하게 되지만 과적합의 우려가 있으니 좋은 값을 찾아야 합니다.\n",
    "\n",
    "# Implicit AlternatingLeastSquares 모델의 선언\n",
    "als_model = AlternatingLeastSquares(factors=100, \n",
    "                                    regularization=0.01, \n",
    "                                    use_gpu=False, \n",
    "                                    iterations=15, \n",
    "                                    dtype=np.float32)\n",
    "print(\"뿡=3\")"
   ]
  },
  {
   "cell_type": "code",
   "execution_count": 23,
   "id": "94144625",
   "metadata": {},
   "outputs": [
    {
     "data": {
      "text/plain": [
       "<291347x358869 sparse matrix of type '<class 'numpy.int64'>'\n",
       "\twith 17535578 stored elements in Compressed Sparse Column format>"
      ]
     },
     "execution_count": 23,
     "metadata": {},
     "output_type": "execute_result"
    }
   ],
   "source": [
    "# als 모델은 input으로 (item X user 꼴의 matrix를 받기 때문에 Transpose해줍니다.)\n",
    "csr_data_transpose = csr_data.T\n",
    "csr_data_transpose"
   ]
  },
  {
   "cell_type": "code",
   "execution_count": 24,
   "id": "e80fc4e8",
   "metadata": {},
   "outputs": [
    {
     "data": {
      "application/vnd.jupyter.widget-view+json": {
       "model_id": "9024957317314996a00c72c9c39129b9",
       "version_major": 2,
       "version_minor": 0
      },
      "text/plain": [
       "  0%|          | 0/15 [00:00<?, ?it/s]"
      ]
     },
     "metadata": {},
     "output_type": "display_data"
    }
   ],
   "source": [
    "# 모델 훈련\n",
    "als_model.fit(csr_data_transpose)"
   ]
  },
  {
   "cell_type": "code",
   "execution_count": 27,
   "id": "e7299c94",
   "metadata": {},
   "outputs": [
    {
     "name": "stdout",
     "output_type": "stream",
     "text": [
      "뿡=3\n"
     ]
    }
   ],
   "source": [
    "zimin, black_eyed_peas = user_to_idx['zimin'], artist_to_idx['black eyed peas']\n",
    "zimin_vector, black_eyed_peas_vector = als_model.user_factors[zimin], als_model.item_factors[black_eyed_peas]\n",
    "\n",
    "print(\"뿡=3\")"
   ]
  },
  {
   "cell_type": "code",
   "execution_count": 28,
   "id": "48d56233",
   "metadata": {},
   "outputs": [
    {
     "data": {
      "text/plain": [
       "array([ 0.01169535,  0.15312137, -0.21560195, -1.7101544 ,  0.36993378,\n",
       "        0.81515414,  0.51849556,  1.6747963 ,  1.2985485 ,  0.10534978,\n",
       "        0.4456235 , -0.82636184, -1.8274918 , -0.8060825 , -0.26139963,\n",
       "        1.0623056 ,  0.52284694, -0.4203953 , -0.23516458,  0.68490195,\n",
       "        0.04867486,  0.49998626,  0.03806423,  0.1503468 , -0.13769679,\n",
       "        0.18871231, -0.39560026,  0.5922866 ,  1.0006877 , -1.56305   ,\n",
       "        0.7176193 ,  0.16783175,  0.00312326,  1.2713927 , -0.2816705 ,\n",
       "        0.11726557,  0.6553673 , -0.04325461,  0.25515795, -0.65945935,\n",
       "        0.21088687, -0.7917076 , -0.16676019, -0.95500714,  0.2913208 ,\n",
       "        0.00572771, -1.6197425 , -0.4654501 ,  1.1927453 , -0.5944834 ,\n",
       "       -0.09736005, -1.0136906 ,  0.3141982 ,  0.02812445,  0.40308833,\n",
       "        1.1441479 ,  1.2287925 ,  0.13958947,  0.02099192, -1.1159548 ,\n",
       "       -0.11113559,  0.13077542, -0.04258401,  1.4145259 , -0.7306547 ,\n",
       "       -0.24515754,  0.20134956, -0.5049722 , -0.23581071,  0.38066068,\n",
       "       -1.0391378 , -0.43330848,  0.7680306 , -0.26208302,  0.19762321,\n",
       "        0.47810784, -0.27233744, -0.73064613, -0.32265157,  0.09628373,\n",
       "       -0.5206013 ,  0.5086892 , -0.01547137,  0.69212663, -0.33942664,\n",
       "       -0.1250626 ,  0.96929604,  0.29363775,  0.20629175, -1.0020638 ,\n",
       "       -0.29780054,  0.5338606 ,  0.336324  ,  0.8217521 , -0.7677393 ,\n",
       "       -0.18263605, -0.6373083 ,  0.4448176 ,  0.70009124,  0.78048277],\n",
       "      dtype=float32)"
      ]
     },
     "execution_count": 28,
     "metadata": {},
     "output_type": "execute_result"
    }
   ],
   "source": [
    "# zimin vecor의 내용\n",
    "zimin_vector"
   ]
  },
  {
   "cell_type": "code",
   "execution_count": 29,
   "id": "0ed0be8c",
   "metadata": {},
   "outputs": [
    {
     "data": {
      "text/plain": [
       "array([ 0.02152998,  0.01312743, -0.00221638, -0.01315212,  0.01683473,\n",
       "        0.02317275,  0.00672522,  0.02285541,  0.00425628,  0.00841868,\n",
       "        0.01276143,  0.00511517, -0.02066208, -0.00454535,  0.00622293,\n",
       "        0.00310078,  0.01848973,  0.00152681, -0.00232819,  0.01924854,\n",
       "        0.00469799,  0.01620649,  0.01450966,  0.00393891,  0.0229918 ,\n",
       "        0.00258313, -0.01704722,  0.02376237,  0.01702951, -0.02020077,\n",
       "        0.01993771,  0.02288953,  0.00461423,  0.01133724,  0.00034839,\n",
       "       -0.00259494,  0.00877318,  0.00422962,  0.01678957,  0.00762755,\n",
       "        0.00969152,  0.00247916,  0.02804877,  0.0047988 ,  0.01257185,\n",
       "        0.00252715, -0.01477236, -0.00035118,  0.02907138,  0.00640605,\n",
       "        0.00644223, -0.00133874,  0.00502729, -0.00010455,  0.00046094,\n",
       "        0.01282149,  0.02756918,  0.01546468,  0.01864011,  0.00479144,\n",
       "        0.00566057, -0.00390746, -0.00305116,  0.01567552, -0.01198488,\n",
       "       -0.00100792,  0.00230715, -0.00346667,  0.00765505,  0.00319244,\n",
       "       -0.02196781, -0.00694318,  0.02305818,  0.00997239,  0.01540245,\n",
       "        0.01012742,  0.00453607,  0.0003443 , -0.00500849,  0.00370925,\n",
       "        0.00123629,  0.0063337 ,  0.01237039,  0.01342934,  0.01511714,\n",
       "        0.00144641,  0.02240273,  0.00081814,  0.02682542,  0.00913557,\n",
       "        0.0067358 ,  0.02732212,  0.01406653,  0.00853712,  0.00649954,\n",
       "        0.00744592,  0.01514556,  0.01410313,  0.0165812 ,  0.01363949],\n",
       "      dtype=float32)"
      ]
     },
     "execution_count": 29,
     "metadata": {},
     "output_type": "execute_result"
    }
   ],
   "source": [
    "# black_eyed_peas vector의 내용\n",
    "black_eyed_peas_vector"
   ]
  },
  {
   "cell_type": "code",
   "execution_count": 30,
   "id": "fd4a000f",
   "metadata": {},
   "outputs": [
    {
     "data": {
      "text/plain": [
       "0.5194117"
      ]
     },
     "execution_count": 30,
     "metadata": {},
     "output_type": "execute_result"
    }
   ],
   "source": [
    "# zimin과 black_eyed_peas를 내적하는 코드 (두 벡터를 곱하면 어떤 값이 나오나???)\n",
    "np.dot(zimin_vector, black_eyed_peas_vector)"
   ]
  },
  {
   "cell_type": "code",
   "execution_count": 31,
   "id": "b831157c",
   "metadata": {},
   "outputs": [
    {
     "data": {
      "text/plain": [
       "0.32845467"
      ]
     },
     "execution_count": 31,
     "metadata": {},
     "output_type": "execute_result"
    }
   ],
   "source": [
    "# 훈련된 모델이 저자의 queen에 대한 선호도를 어떻게 예측할지 한 번 보겠습니다.\n",
    "queen = artist_to_idx['queen']\n",
    "queen_vector = als_model.item_factors[queen]\n",
    "np.dot(zimin_vector, queen_vector)"
   ]
  },
  {
   "cell_type": "markdown",
   "id": "8b0a9fc6",
   "metadata": {},
   "source": [
    "## 14-8. 비슷한 아티스트 찾기 + 유저에게 추천하기\n",
    "**AlternatingLeastSquares** 클래스에 구현되어 있는 **similar_items** 메서드를 통하여 비슷한 아티스트를 찾습니다. "
   ]
  },
  {
   "cell_type": "code",
   "execution_count": 32,
   "id": "76dd9e09",
   "metadata": {},
   "outputs": [
    {
     "data": {
      "text/plain": [
       "[(62, 0.9999999),\n",
       " (277, 0.98796785),\n",
       " (5, 0.97800094),\n",
       " (217, 0.9757673),\n",
       " (28, 0.97421676),\n",
       " (473, 0.9689929),\n",
       " (247, 0.9680395),\n",
       " (490, 0.9573791),\n",
       " (910, 0.9535752),\n",
       " (694, 0.9527422),\n",
       " (418, 0.952665),\n",
       " (1018, 0.95125544),\n",
       " (782, 0.9484199),\n",
       " (268, 0.9445488),\n",
       " (531, 0.94326836)]"
      ]
     },
     "execution_count": 32,
     "metadata": {},
     "output_type": "execute_result"
    }
   ],
   "source": [
    "favorite_artist = 'coldplay'\n",
    "artist_id = artist_to_idx[favorite_artist]\n",
    "similar_artist = als_model.similar_items(artist_id, N=15) # \"N=15\"는 뭐지???\n",
    "similar_artist\n",
    "\n",
    "# (아티스트의 id, 유사도) Tuple 로 반환하고 있음"
   ]
  },
  {
   "cell_type": "code",
   "execution_count": 33,
   "id": "cdf3d11d",
   "metadata": {},
   "outputs": [
    {
     "data": {
      "text/plain": [
       "['coldplay',\n",
       " 'muse',\n",
       " 'red hot chili peppers',\n",
       " 'radiohead',\n",
       " 'the killers',\n",
       " 'placebo',\n",
       " 'the beatles',\n",
       " 'oasis',\n",
       " 'nirvana',\n",
       " 'foo fighters',\n",
       " 'u2',\n",
       " 'the smashing pumpkins',\n",
       " 'the white stripes',\n",
       " 'pink floyd',\n",
       " 'depeche mode']"
      ]
     },
     "execution_count": 33,
     "metadata": {},
     "output_type": "execute_result"
    }
   ],
   "source": [
    "#artist_to_idx 를 뒤집어, index로부터 artist 이름을 얻는 dict를 생성합니다. \n",
    "idx_to_artist = {v:k for k,v in artist_to_idx.items()}\n",
    "[idx_to_artist[i[0]] for i in similar_artist]"
   ]
  },
  {
   "cell_type": "code",
   "execution_count": 34,
   "id": "0d9b47be",
   "metadata": {},
   "outputs": [
    {
     "name": "stdout",
     "output_type": "stream",
     "text": [
      "슝=3\n"
     ]
    }
   ],
   "source": [
    "# 마니아들의 존재로 인해 같은 장르의 아티스트들의 벡터들도 더 가까워져서 \n",
    "# get_similar_artist시 장르별 특성이 두드러지게 될 것입니다.\n",
    "\n",
    "def get_similar_artist(artist_name: str):\n",
    "    artist_id = artist_to_idx[artist_name]\n",
    "    similar_artist = als_model.similar_items(artist_id)\n",
    "    similar_artist = [idx_to_artist[i[0]] for i in similar_artist]\n",
    "    return similar_artist\n",
    "\n",
    "print(\"슝=3\")"
   ]
  },
  {
   "cell_type": "code",
   "execution_count": 35,
   "id": "b7395e67",
   "metadata": {},
   "outputs": [
    {
     "data": {
      "text/plain": [
       "['2pac',\n",
       " 'snoop dogg',\n",
       " 'notorious b.i.g.',\n",
       " 'nas',\n",
       " 'jay-z',\n",
       " 'dr. dre',\n",
       " 'the game',\n",
       " '50 cent',\n",
       " 'common',\n",
       " 'ludacris']"
      ]
     },
     "execution_count": 35,
     "metadata": {},
     "output_type": "execute_result"
    }
   ],
   "source": [
    "get_similar_artist('2pac') # 힙합족 장르가 조회 된다."
   ]
  },
  {
   "cell_type": "code",
   "execution_count": 36,
   "id": "a6336d7d",
   "metadata": {},
   "outputs": [
    {
     "data": {
      "text/plain": [
       "['lady gaga',\n",
       " 'britney spears',\n",
       " 'rihanna',\n",
       " 'katy perry',\n",
       " 'the pussycat dolls',\n",
       " 'beyoncé',\n",
       " 'christina aguilera',\n",
       " 'kelly clarkson',\n",
       " 'leona lewis',\n",
       " 'justin timberlake']"
      ]
     },
     "execution_count": 36,
     "metadata": {},
     "output_type": "execute_result"
    }
   ],
   "source": [
    "get_similar_artist('lady gaga') # 여자가수가 주로 나온다."
   ]
  },
  {
   "cell_type": "markdown",
   "id": "5636dddd",
   "metadata": {},
   "source": [
    "### 유저에게 아티스트 추천하기"
   ]
  },
  {
   "cell_type": "code",
   "execution_count": 37,
   "id": "243d536b",
   "metadata": {},
   "outputs": [
    {
     "data": {
      "text/plain": [
       "[(350, 0.44990414),\n",
       " (409, 0.43966192),\n",
       " (550, 0.4312501),\n",
       " (1800, 0.42714602),\n",
       " (627, 0.42415386),\n",
       " (274, 0.42213315),\n",
       " (369, 0.42014503),\n",
       " (2249, 0.4116193),\n",
       " (564, 0.39748943),\n",
       " (354, 0.3866514),\n",
       " (391, 0.37805754),\n",
       " (24, 0.3770157),\n",
       " (724, 0.37498093),\n",
       " (621, 0.37002248),\n",
       " (5555, 0.36997238),\n",
       " (247, 0.3636998),\n",
       " (355, 0.36044082),\n",
       " (901, 0.35896534),\n",
       " (944, 0.3563815),\n",
       " (5, 0.35432753)]"
      ]
     },
     "execution_count": 37,
     "metadata": {},
     "output_type": "execute_result"
    }
   ],
   "source": [
    "# recommend 메서드를 통하여 제가 좋아할 만한 아티스트를 추천받습니다. \n",
    "# filter_already_liked_items 는 유저가 이미 평가한 아이템은 제외하는 Argument\n",
    "\n",
    "user = user_to_idx['zimin']\n",
    "# recommend에서는 user*item CSR Matrix를 받습니다.\n",
    "artist_recommended = als_model.recommend(user, \n",
    "                                         csr_data, \n",
    "                                         N=20, \n",
    "                                         filter_already_liked_items=True)\n",
    "artist_recommended"
   ]
  },
  {
   "cell_type": "code",
   "execution_count": 38,
   "id": "3060e250",
   "metadata": {},
   "outputs": [
    {
     "data": {
      "text/plain": [
       "['rihanna',\n",
       " 'amy winehouse',\n",
       " 'britney spears',\n",
       " 'lady gaga',\n",
       " 'maroon 5',\n",
       " 'michael jackson',\n",
       " 'justin timberlake',\n",
       " 'katy perry',\n",
       " 'kanye west',\n",
       " 'nelly furtado',\n",
       " 'christina aguilera',\n",
       " 'jack johnson',\n",
       " 'lily allen',\n",
       " 'alicia keys',\n",
       " 'timbaland',\n",
       " 'the beatles',\n",
       " 'madonna',\n",
       " 'pink',\n",
       " 'avril lavigne',\n",
       " 'red hot chili peppers']"
      ]
     },
     "execution_count": 38,
     "metadata": {},
     "output_type": "execute_result"
    }
   ],
   "source": [
    "[idx_to_artist[i[0]] for i in artist_recommended]"
   ]
  },
  {
   "cell_type": "code",
   "execution_count": 40,
   "id": "2d3ddfa5",
   "metadata": {},
   "outputs": [
    {
     "data": {
      "text/plain": [
       "[('beyoncé', 0.21749321327321441),\n",
       " ('black eyed peas', 0.1377909029131906),\n",
       " ('jason mraz', 0.05328783360280735),\n",
       " ('coldplay', 0.043801738445244764),\n",
       " ('maroon5', 5.5783867343096085e-05)]"
      ]
     },
     "execution_count": 40,
     "metadata": {},
     "output_type": "execute_result"
    }
   ],
   "source": [
    "# 모델은 왜 rihanna를 추천해 줬을까요? \n",
    "# AlternatingLeastSquares 클래스에 구현된 explain 메서드를 사용하면 제가 기록을 남긴 데이터 중 \n",
    "# 이 추천에 기여한 정도를 확인할 수 있습니다.\n",
    "\n",
    "rihanna = artist_to_idx['rihanna']\n",
    "explain = als_model.explain(user, csr_data, itemid=rihanna)\n",
    "[(idx_to_artist[i[0]], i[1]) for i in explain[1]]"
   ]
  },
  {
   "cell_type": "code",
   "execution_count": null,
   "id": "5a8bf221",
   "metadata": {},
   "outputs": [],
   "source": []
  }
 ],
 "metadata": {
  "kernelspec": {
   "display_name": "Python 3 (ipykernel)",
   "language": "python",
   "name": "python3"
  },
  "language_info": {
   "codemirror_mode": {
    "name": "ipython",
    "version": 3
   },
   "file_extension": ".py",
   "mimetype": "text/x-python",
   "name": "python",
   "nbconvert_exporter": "python",
   "pygments_lexer": "ipython3",
   "version": "3.9.7"
  }
 },
 "nbformat": 4,
 "nbformat_minor": 5
}
